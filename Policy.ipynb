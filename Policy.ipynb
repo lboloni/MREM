{
 "cells": [
  {
   "cell_type": "code",
   "execution_count": null,
   "id": "recovered-heating",
   "metadata": {},
   "outputs": [],
   "source": [
    "import numpy as np\n",
    "import ast\n",
    "import math\n",
    "import random\n",
    "import logging\n",
    "\n",
    "from Robot import Robot"
   ]
  },
  {
   "cell_type": "markdown",
   "id": "loaded-giving",
   "metadata": {},
   "source": [
    "# Policy\n",
    "The implementation of a policy for the robot. It can be a simple path following policy for a robot, or it can encompass something complex, like an RL model."
   ]
  },
  {
   "cell_type": "code",
   "execution_count": null,
   "id": "trained-beverage",
   "metadata": {},
   "outputs": [],
   "source": [
    "class Policy:\n",
    "    def __init__(self, name, env, robot):\n",
    "        self.name = name\n",
    "        self.env = env\n",
    "        self.robot = robot\n",
    "        \n",
    "    def act(self, delta_t):\n",
    "        \"\"\"Act over the time of delta T. When implemented, it should add an action to be executed to\n",
    "        the robot's action queue - it is not supposed to execute it here\"\"\"\n",
    "        pass"
   ]
  },
  {
   "cell_type": "code",
   "execution_count": null,
   "id": "average-penalty",
   "metadata": {},
   "outputs": [],
   "source": [
    "class AbstractWaypointPolicy(Policy):\n",
    "    \"\"\"The ancestor of all the policies that are based on choosing waypoints\"\"\"\n",
    "    \n",
    "    ##def __init__(self, name, env, robot):\n",
    "    ##    super().__init__(\"AbstractWaypointPolicy\", env, robot)\n",
    "    \n",
    "    def move_towards_location(self, targetx, targety, vel, delta_t):\n",
    "        \"\"\"Schedule the actions to move the robot towards a target location. Returns true \n",
    "        if the robot will reach that location as the result of this step and false otherwise\"\"\"\n",
    "        deltax = targetx - self.robot.x\n",
    "        deltay = targety - self.robot.y\n",
    "        veclength = np.linalg.norm([deltax, deltay])\n",
    "        logging.debug(f\"veclength {veclength}\")\n",
    "        if veclength == 0: # if we are there, stay there \n",
    "            self.robot.add_action(\"vel [0, 0]\")\n",
    "            return True\n",
    "        if veclength <= self.vel * delta_t: # if we are closer than the velocity, then just go there\n",
    "            logging.debug(f\"We are there so go there [{targetx}, {targety}]\")\n",
    "            self.robot.add_action(\"vel [0, 0]\")\n",
    "            self.robot.add_action(f\"loc [{targetx}, {targety}]\")\n",
    "            return True\n",
    "        # move towards the location with the specified velocity\n",
    "        #vel_x = min(vel * deltax / veclength, delta_t * deltax)\n",
    "        #vel_y = min(vel * deltay / veclength, delta_t * deltay)\n",
    "        vel_x = vel * deltax / veclength\n",
    "        vel_y = vel * deltay / veclength\n",
    "        action = f\"vel [{vel_x}, {vel_y}]\"\n",
    "        logging.debug(f\"move_towards_location setting action = {action}\")\n",
    "        self.robot.add_action(action)\n",
    "        return False"
   ]
  },
  {
   "cell_type": "code",
   "execution_count": null,
   "id": "available-secondary",
   "metadata": {},
   "outputs": [],
   "source": [
    "class GoToLocationPolicy(AbstractWaypointPolicy):\n",
    "    \"\"\"This is a simple policy that make the robot go to a certain location.\"\"\"\n",
    "    def __init__(self, env, robot, locx, locy, vel):\n",
    "        super().__init__(\"GoToPolicy\", env, robot)\n",
    "        self.locx, self.locy, self.vel = locx, locy, vel\n",
    "        \n",
    "    def act(self, delta_t):\n",
    "        \"\"\" Head towards locx, locy with a velocity vel\"\"\"\n",
    "        ##logging.debug(\"HERE\")\n",
    "        self.move_towards_location(self.locx, self.locy, self.vel, delta_t)"
   ]
  },
  {
   "cell_type": "code",
   "execution_count": null,
   "id": "younger-protest",
   "metadata": {},
   "outputs": [],
   "source": [
    "class FollowPathPolicy(AbstractWaypointPolicy):\n",
    "    \"\"\"A policy that makes a robot follow a certain path specified as a series of waypoints. \n",
    "    If repeat is true, it repeats the path indefinitely.\"\"\"\n",
    "    def __init__(self, env, robot, vel, waypoints, repeat = False):\n",
    "        super().__init__(\"FollowPathPolicy\", env, robot)\n",
    "        self.waypoints = waypoints.copy()\n",
    "        self.vel = vel\n",
    "        self.currentwaypoint = 0\n",
    "        self.repeat = repeat\n",
    "        \n",
    "    def act(self, delta_t):\n",
    "        ## if we are done with the movement, don't do anything\n",
    "        if self.currentwaypoint == -1:\n",
    "            return\n",
    "        ## move towards the current waypoint\n",
    "        wp = self.waypoints[ self.currentwaypoint ]\n",
    "        done = self.move_towards_location(wp[0], wp[1], self.vel, delta_t)\n",
    "        if done:\n",
    "            self.currentwaypoint = self.currentwaypoint + 1\n",
    "            if self.currentwaypoint == len(self.waypoints):\n",
    "                if self.repeat: \n",
    "                    self.currentwaypoint = 0\n",
    "                else:\n",
    "                    self.currentwaypoint = -1"
   ]
  },
  {
   "cell_type": "code",
   "execution_count": null,
   "id": "received-composer",
   "metadata": {},
   "outputs": [],
   "source": [
    "class RandomWaypointPolicy(AbstractWaypointPolicy):\n",
    "    \"\"\"A policy that makes the robot follow a random waypoint behavior within a specified region\n",
    "    using a constant velocity.\n",
    "    The region is specied with the low_point and high_point each of them having (x,y) formats \"\"\"\n",
    "    def __init__(self, env, robot, vel, low_point, high_point):\n",
    "        super().__init__(\"RandomWaypointPolicy\", env, robot)\n",
    "        self.vel = vel\n",
    "        self.low_point = low_point\n",
    "        self.high_point = high_point\n",
    "        self.nextwaypoint = None\n",
    "                \n",
    "    def act(self, delta_t):\n",
    "        \"\"\"Moves towards the chosen waypoint. If the waypoint is \"\"\"\n",
    "        if self.nextwaypoint == None:\n",
    "            x = random.uniform(self.low_point[0], self.high_point[0])\n",
    "            y = random.uniform(self.low_point[1], self.high_point[1])\n",
    "            self.nextwaypoint = [x, y]\n",
    "        done = self.move_towards_location(self.nextwaypoint[0], self.nextwaypoint[1], self.vel, delta_t)\n",
    "        if done:\n",
    "            self.nextwaypoint = None"
   ]
  },
  {
   "cell_type": "markdown",
   "id": "sunset-cooperative",
   "metadata": {},
   "source": [
    "## Experiments for trying out the different policies"
   ]
  },
  {
   "cell_type": "code",
   "execution_count": null,
   "id": "hundred-africa",
   "metadata": {},
   "outputs": [],
   "source": [
    "robot = Robot(\"Robi\", 20, 30, 0)\n",
    "robot.policy = GoToLocationPolicy(None, robot, 40, 40, 0.6)\n",
    "#print(robot)\n",
    "#for i in range(40):\n",
    "#    robot.enact_policy()\n",
    "#    robot.proceed()\n",
    "#    print(robot)\n",
    "\n",
    "print(\"-------------- Robur -------------------\")\n",
    "robot = Robot(\"Robur\", 4, 8, 0)\n",
    "robot.policy = RandomWaypointPolicy(None, robot, 1, [0,0], [10, 10])\n",
    "print(robot)\n",
    "for i in range(40):\n",
    "    robot.enact_policy()\n",
    "    robot.proceed()\n",
    "    print(robot)\n",
    "\n",
    "\n",
    "robot = Robot(\"R2D3\", 5, 9, 0)\n",
    "robot.policy = FollowPathPolicy(None, robot, 1, [[0,0], [5, 5], [10,0]], repeat = True)\n",
    "    "
   ]
  },
  {
   "cell_type": "code",
   "execution_count": null,
   "id": "civic-titanium",
   "metadata": {},
   "outputs": [],
   "source": []
  }
 ],
 "metadata": {
  "kernelspec": {
   "display_name": "Python 3",
   "language": "python",
   "name": "python3"
  },
  "language_info": {
   "codemirror_mode": {
    "name": "ipython",
    "version": 3
   },
   "file_extension": ".py",
   "mimetype": "text/x-python",
   "name": "python",
   "nbconvert_exporter": "python",
   "pygments_lexer": "ipython3",
   "version": "3.8.5"
  }
 },
 "nbformat": 4,
 "nbformat_minor": 5
}
