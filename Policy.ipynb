{
 "cells": [
  {
   "cell_type": "code",
   "execution_count": 64,
   "id": "recovered-heating",
   "metadata": {},
   "outputs": [],
   "source": [
    "import numpy as np\n",
    "import ast\n",
    "import math\n",
    "import random\n",
    "import logging\n",
    "import itertools\n",
    "import time\n",
    "from functools import partial\n",
    "import matplotlib.pyplot as plt\n",
    "\n",
    "from Robot import Robot\n",
    "from World import World, generate_environment, generate_information_model, generate_robots, run_experiment\n",
    "\n",
    "logging.captureWarnings(True)\n",
    "logging.getLogger().setLevel(\"ERROR\")"
   ]
  },
  {
   "cell_type": "markdown",
   "id": "loaded-giving",
   "metadata": {},
   "source": [
    "# Policy\n",
    "The implementation of a policy for the robot. It can be a simple path following policy for a robot, or it can encompass something complex, like an RL model."
   ]
  },
  {
   "cell_type": "code",
   "execution_count": 1,
   "id": "trained-beverage",
   "metadata": {},
   "outputs": [],
   "source": [
    "class Policy:\n",
    "    def __init__(self, name, env, robot):\n",
    "        self.name = name\n",
    "        self.env = env\n",
    "        self.robot = robot\n",
    "        \n",
    "    def act(self, delta_t):\n",
    "        \"\"\"Act over the time of delta T. When implemented, it should add an action to be executed to\n",
    "        the robot's action queue - it is not supposed to execute it here\"\"\"        \n",
    "        pass\n",
    "    \n",
    "    def __str__(self):\n",
    "        return self.name"
   ]
  },
  {
   "cell_type": "code",
   "execution_count": 66,
   "id": "average-penalty",
   "metadata": {},
   "outputs": [],
   "source": [
    "class AbstractWaypointPolicy(Policy):\n",
    "    \"\"\"The ancestor of all the policies that are based on choosing waypoints\"\"\"\n",
    "    \n",
    "    ##def __init__(self, name, env, robot):\n",
    "    ##    super().__init__(\"AbstractWaypointPolicy\", env, robot)\n",
    "    \n",
    "    def move_towards_location(self, targetx, targety, vel, delta_t):\n",
    "        \"\"\"Schedule the actions to move the robot towards a target location. Returns true \n",
    "        if the robot will reach that location as the result of this step and false otherwise\"\"\"\n",
    "        deltax = targetx - self.robot.x\n",
    "        deltay = targety - self.robot.y\n",
    "        veclength = np.linalg.norm([deltax, deltay])\n",
    "        logging.debug(f\"veclength {veclength}\")\n",
    "        if veclength == 0: # if we are there, stay there \n",
    "            self.robot.add_action(\"vel [0, 0]\")\n",
    "            return True\n",
    "        if veclength <= self.vel * delta_t: # if we are closer than the velocity, then just go there\n",
    "            logging.debug(f\"We are there so go there [{targetx}, {targety}]\")\n",
    "            self.robot.add_action(\"vel [0, 0]\")\n",
    "            self.robot.add_action(f\"loc [{targetx}, {targety}]\")\n",
    "            return True\n",
    "        # move towards the location with the specified velocity\n",
    "        #vel_x = min(vel * deltax / veclength, delta_t * deltax)\n",
    "        #vel_y = min(vel * deltay / veclength, delta_t * deltay)\n",
    "        vel_x = vel * deltax / veclength\n",
    "        vel_y = vel * deltay / veclength\n",
    "        action = f\"vel [{vel_x}, {vel_y}]\"\n",
    "        logging.debug(f\"move_towards_location setting action = {action}\")\n",
    "        self.robot.add_action(action)\n",
    "        return False"
   ]
  },
  {
   "cell_type": "code",
   "execution_count": 67,
   "id": "available-secondary",
   "metadata": {},
   "outputs": [],
   "source": [
    "class GoToLocationPolicy(AbstractWaypointPolicy):\n",
    "    \"\"\"This is a simple policy that make the robot go to a certain location.\"\"\"\n",
    "    def __init__(self, env, robot, locx, locy, vel):\n",
    "        super().__init__(\"GoToPolicy\", env, robot)\n",
    "        self.locx, self.locy, self.vel = locx, locy, vel\n",
    "        \n",
    "    def act(self, delta_t):\n",
    "        \"\"\" Head towards locx, locy with a velocity vel\"\"\"\n",
    "        ##logging.debug(\"HERE\")\n",
    "        self.move_towards_location(self.locx, self.locy, self.vel, delta_t)"
   ]
  },
  {
   "cell_type": "code",
   "execution_count": 68,
   "id": "younger-protest",
   "metadata": {},
   "outputs": [],
   "source": [
    "class FollowPathPolicy(AbstractWaypointPolicy):\n",
    "    \"\"\"A policy that makes a robot follow a certain path specified as a series of waypoints. \n",
    "    If repeat is true, it repeats the path indefinitely.\"\"\"\n",
    "    def __init__(self, env, robot, vel, waypoints, repeat = False):\n",
    "        super().__init__(\"FollowPathPolicy\", env, robot)\n",
    "        self.waypoints = waypoints.copy()\n",
    "        self.vel = vel\n",
    "        self.currentwaypoint = 0\n",
    "        self.repeat = repeat\n",
    "        \n",
    "    def act(self, delta_t):\n",
    "        ## if we are done with the movement, don't do anything\n",
    "        if self.currentwaypoint == -1:\n",
    "            return\n",
    "        ## move towards the current waypoint\n",
    "        wp = self.waypoints[ self.currentwaypoint ]\n",
    "        done = self.move_towards_location(wp[0], wp[1], self.vel, delta_t)\n",
    "        if done:\n",
    "            self.currentwaypoint = self.currentwaypoint + 1\n",
    "            if self.currentwaypoint == len(self.waypoints):\n",
    "                if self.repeat: \n",
    "                    self.currentwaypoint = 0\n",
    "                else:\n",
    "                    self.currentwaypoint = -1"
   ]
  },
  {
   "cell_type": "code",
   "execution_count": 69,
   "id": "received-composer",
   "metadata": {},
   "outputs": [],
   "source": [
    "class RandomWaypointPolicy(AbstractWaypointPolicy):\n",
    "    \"\"\"A policy that makes the robot follow a random waypoint behavior within a specified region\n",
    "    using a constant velocity.\n",
    "    The region is specied with the low_point and high_point each of them having (x,y) formats \"\"\"\n",
    "    def __init__(self, env, robot, vel, low_point, high_point, seed):\n",
    "        super().__init__(\"RandomWaypointPolicy\", env, robot)\n",
    "        self.random = np.random.default_rng(seed)\n",
    "        self.vel = vel\n",
    "        self.low_point = low_point\n",
    "        self.high_point = high_point\n",
    "        self.nextwaypoint = None\n",
    "                \n",
    "    def act(self, delta_t):\n",
    "        \"\"\"Moves towards the chosen waypoint. If the waypoint is \"\"\"\n",
    "        if self.nextwaypoint == None:\n",
    "            x = self.random.uniform(self.low_point[0], self.high_point[0])\n",
    "            y = self.random.uniform(self.low_point[1], self.high_point[1])\n",
    "            self.nextwaypoint = [x, y]\n",
    "        done = self.move_towards_location(self.nextwaypoint[0], self.nextwaypoint[1], self.vel, delta_t)\n",
    "        if done:\n",
    "            self.nextwaypoint = None"
   ]
  },
  {
   "cell_type": "markdown",
   "id": "sunset-cooperative",
   "metadata": {},
   "source": [
    "## Experiments for trying out the different policies"
   ]
  },
  {
   "cell_type": "code",
   "execution_count": 70,
   "id": "hundred-africa",
   "metadata": {},
   "outputs": [
    {
     "name": "stdout",
     "output_type": "stream",
     "text": [
      "-------------- Robur -------------------\n",
      "Robur --> loc = [x:4.00,y:8.00,alt:0.00] vel = [x:0.00,y:0.00,alt:0.00]\n",
      "Robur --> loc = [x:3.33,y:7.26,alt:0.00] vel = [x:-0.67,y:-0.74,alt:0.00]\n",
      "Robur --> loc = [x:2.66,y:6.52,alt:0.00] vel = [x:-0.67,y:-0.74,alt:0.00]\n",
      "Robur --> loc = [x:1.99,y:5.77,alt:0.00] vel = [x:-0.67,y:-0.74,alt:0.00]\n",
      "Robur --> loc = [x:1.32,y:5.03,alt:0.00] vel = [x:-0.67,y:-0.74,alt:0.00]\n",
      "Robur --> loc = [x:1.29,y:4.99,alt:0.00] vel = [x:0.00,y:0.00,alt:0.00]\n",
      "Robur --> loc = [x:1.99,y:4.29,alt:0.00] vel = [x:0.71,y:-0.71,alt:0.00]\n",
      "Robur --> loc = [x:2.70,y:3.58,alt:0.00] vel = [x:0.71,y:-0.71,alt:0.00]\n",
      "Robur --> loc = [x:3.41,y:2.88,alt:0.00] vel = [x:0.71,y:-0.71,alt:0.00]\n",
      "Robur --> loc = [x:4.12,y:2.17,alt:0.00] vel = [x:0.71,y:-0.71,alt:0.00]\n",
      "Robur --> loc = [x:4.83,y:1.47,alt:0.00] vel = [x:0.71,y:-0.71,alt:0.00]\n",
      "Robur --> loc = [x:5.54,y:0.76,alt:0.00] vel = [x:0.71,y:-0.71,alt:0.00]\n",
      "Robur --> loc = [x:6.01,y:0.29,alt:0.00] vel = [x:0.00,y:0.00,alt:0.00]\n",
      "Robur --> loc = [x:5.56,y:1.18,alt:0.00] vel = [x:-0.45,y:0.89,alt:0.00]\n",
      "Robur --> loc = [x:5.11,y:2.07,alt:0.00] vel = [x:-0.45,y:0.89,alt:0.00]\n",
      "Robur --> loc = [x:4.66,y:2.97,alt:0.00] vel = [x:-0.45,y:0.89,alt:0.00]\n",
      "Robur --> loc = [x:4.21,y:3.86,alt:0.00] vel = [x:-0.45,y:0.89,alt:0.00]\n",
      "Robur --> loc = [x:3.76,y:4.75,alt:0.00] vel = [x:-0.45,y:0.89,alt:0.00]\n",
      "Robur --> loc = [x:3.31,y:5.64,alt:0.00] vel = [x:-0.45,y:0.89,alt:0.00]\n",
      "Robur --> loc = [x:2.86,y:6.54,alt:0.00] vel = [x:-0.45,y:0.89,alt:0.00]\n",
      "Robur --> loc = [x:2.41,y:7.43,alt:0.00] vel = [x:-0.45,y:0.89,alt:0.00]\n",
      "Robur --> loc = [x:1.96,y:8.32,alt:0.00] vel = [x:-0.45,y:0.89,alt:0.00]\n",
      "Robur --> loc = [x:1.51,y:9.22,alt:0.00] vel = [x:-0.45,y:0.89,alt:0.00]\n",
      "Robur --> loc = [x:1.48,y:9.28,alt:0.00] vel = [x:0.00,y:0.00,alt:0.00]\n",
      "Robur --> loc = [x:1.38,y:8.29,alt:0.00] vel = [x:-0.10,y:-1.00,alt:0.00]\n",
      "Robur --> loc = [x:1.29,y:7.29,alt:0.00] vel = [x:-0.10,y:-1.00,alt:0.00]\n",
      "Robur --> loc = [x:1.19,y:6.30,alt:0.00] vel = [x:-0.10,y:-1.00,alt:0.00]\n",
      "Robur --> loc = [x:1.09,y:5.30,alt:0.00] vel = [x:-0.10,y:-1.00,alt:0.00]\n",
      "Robur --> loc = [x:1.00,y:4.31,alt:0.00] vel = [x:-0.10,y:-1.00,alt:0.00]\n",
      "Robur --> loc = [x:0.90,y:3.31,alt:0.00] vel = [x:-0.10,y:-1.00,alt:0.00]\n",
      "Robur --> loc = [x:0.80,y:2.31,alt:0.00] vel = [x:-0.10,y:-1.00,alt:0.00]\n",
      "Robur --> loc = [x:0.71,y:1.32,alt:0.00] vel = [x:-0.10,y:-1.00,alt:0.00]\n",
      "Robur --> loc = [x:0.70,y:1.30,alt:0.00] vel = [x:0.00,y:0.00,alt:0.00]\n",
      "Robur --> loc = [x:1.58,y:1.79,alt:0.00] vel = [x:0.87,y:0.49,alt:0.00]\n",
      "Robur --> loc = [x:2.45,y:2.28,alt:0.00] vel = [x:0.87,y:0.49,alt:0.00]\n",
      "Robur --> loc = [x:3.32,y:2.76,alt:0.00] vel = [x:0.87,y:0.49,alt:0.00]\n",
      "Robur --> loc = [x:4.19,y:3.25,alt:0.00] vel = [x:0.87,y:0.49,alt:0.00]\n",
      "Robur --> loc = [x:5.07,y:3.74,alt:0.00] vel = [x:0.87,y:0.49,alt:0.00]\n",
      "Robur --> loc = [x:5.94,y:4.23,alt:0.00] vel = [x:0.87,y:0.49,alt:0.00]\n",
      "Robur --> loc = [x:6.81,y:4.72,alt:0.00] vel = [x:0.87,y:0.49,alt:0.00]\n",
      "Robur --> loc = [x:7.68,y:5.21,alt:0.00] vel = [x:0.87,y:0.49,alt:0.00]\n"
     ]
    }
   ],
   "source": [
    "robot = Robot(\"Robi\", 20, 30, 0)\n",
    "robot.policy = GoToLocationPolicy(None, robot, 40, 40, 0.6)\n",
    "#print(robot)\n",
    "#for i in range(40):\n",
    "#    robot.enact_policy()\n",
    "#    robot.proceed()\n",
    "#    print(robot)\n",
    "\n",
    "print(\"-------------- Robur -------------------\")\n",
    "robot = Robot(\"Robur\", 4, 8, 0)\n",
    "robot.policy = RandomWaypointPolicy(None, robot, 1, [0,0], [10, 10], seed = 11)\n",
    "print(robot)\n",
    "for i in range(40):\n",
    "    robot.enact_policy()\n",
    "    robot.proceed()\n",
    "    print(robot)\n",
    "\n",
    "\n",
    "robot = Robot(\"R2D3\", 5, 9, 0)\n",
    "robot.policy = FollowPathPolicy(None, robot, 1, [[0,0], [5, 5], [10,0]], repeat = True)\n",
    "    "
   ]
  },
  {
   "cell_type": "code",
   "execution_count": 71,
   "id": "civic-titanium",
   "metadata": {},
   "outputs": [],
   "source": [
    "class InformationGreedyPolicy(AbstractWaypointPolicy):\n",
    "    \"\"\"A policy which makes the robot choose its next waypoint to be the one with the \n",
    "    largest information value from an square area of radius span around the current location\"\"\"\n",
    "    def __init__(self, robot, vel, span = 5):\n",
    "        super().__init__(\"InformationGreedyPolicy\", robot.env, robot)\n",
    "        self.vel = vel\n",
    "        self.nextwaypoint = None\n",
    "        self.span = span\n",
    "                \n",
    "    def act(self, delta_t):\n",
    "        \"\"\"Moves towards the chosen waypoint. If the waypoint had been reached, chooses the next waypoint\n",
    "        which is the one with the highest uncertainty value\"\"\"\n",
    "        if self.nextwaypoint == None:\n",
    "            feasible_waypoints = self.generate_feasible_waypoints()\n",
    "            # waypoint_values = [self.robot.im.estimate_voi(x) for x in feasible_waypoints]            \n",
    "            # tcurrent = time.perf_counter()\n",
    "            waypoint_values = [self.robot.im.uncertainty[x[0],x[1]] for x in feasible_waypoints]       \n",
    "            # print(f\"time spent here {time.perf_counter() - tcurrent}\")\n",
    "            bestindex = np.argmax(waypoint_values)            \n",
    "            self.nextwaypoint = feasible_waypoints[bestindex]\n",
    "        done = self.move_towards_location(self.nextwaypoint[0], self.nextwaypoint[1], self.vel, delta_t)\n",
    "        if done:\n",
    "            self.nextwaypoint = None\n",
    "            \n",
    "    def generate_feasible_waypoints(self):\n",
    "        # generate all the feasible waypoints: the points in a rectangular area of extent span from \n",
    "        # the current points\n",
    "        currentx = int(self.robot.x)\n",
    "        currenty = int(self.robot.y)\n",
    "        rangex = range(max(0, currentx - self.span), min(currentx+self.span, self.robot.env.width))\n",
    "        rangey = range(max(0, currenty - self.span), min(currenty+self.span, self.robot.env.height))\n",
    "        val = itertools.product(rangex, rangey)\n",
    "        return list(val)\n"
   ]
  },
  {
   "cell_type": "code",
   "execution_count": 72,
   "id": "interesting-swaziland",
   "metadata": {},
   "outputs": [
    {
     "name": "stdout",
     "output_type": "stream",
     "text": [
      "<Environment.PollutionModelEnvironment object at 0x7fc464a619a0>\n"
     ]
    }
   ],
   "source": [
    "### Debugging the InformationGreedyRobot\n",
    "\n",
    "def generate_robots(world):\n",
    "    robot = Robot(f\"Greedy\", 0, 0, 0, env=world.env, im=world.im)\n",
    "    robot.policy = InformationGreedyPolicy(robot, vel = 1, span = 2)\n",
    "    world.add_robot(robot)\n",
    "    print(robot.env)\n",
    "\n",
    "genim = partial(generate_information_model, \n",
    "                {\"estimation_type\": \"gaussian-process\"})\n",
    "    \n",
    "def run_experiment(genenv, genim, genrob):\n",
    "    \"\"\"Generates the environment, the model and the robots\"\"\"\n",
    "    env = genenv()\n",
    "    im = genim(env)\n",
    "    world = World(env, im)\n",
    "    genrob(world)\n",
    "    record = []\n",
    "    for t in range(100):\n",
    "        world.enact_policy(1)\n",
    "        world.proceed(1)\n",
    "        ## this is where we get some kind of metric\n",
    "        record.append(im.score(env))\n",
    "    return world, record\n",
    "    \n",
    "world, record = run_experiment(generate_environment, genim, generate_robots)"
   ]
  },
  {
   "cell_type": "code",
   "execution_count": 79,
   "id": "gentle-portrait",
   "metadata": {},
   "outputs": [],
   "source": [
    "def plot_robot_path(path):\n",
    "    ## plotting in such a way as the plot gets lighter and ligher as we progress\n",
    "    fig, ax = plt.subplots()\n",
    "    arr = np.array(path)\n",
    "    i = 0\n",
    "    step = 5\n",
    "    colorstep = 0.9 / (arr.shape[0] / step)\n",
    "    for i, a in enumerate(range(0, arr.shape[0], step)):\n",
    "        color = (i * colorstep, i * colorstep, i * colorstep)\n",
    "        xs = arr[a:a+step+1, 0]\n",
    "        ys = arr[a:a+step+1, 1]\n",
    "        ax.plot(xs, ys, color=color)\n"
   ]
  },
  {
   "cell_type": "code",
   "execution_count": 81,
   "id": "random-edition",
   "metadata": {},
   "outputs": [
    {
     "data": {
      "image/png": "[encoded data removed]",
      "text/plain": [
       "<Figure size 432x288 with 1 Axes>"
      ]
     },
     "metadata": {
      "needs_background": "light"
     },
     "output_type": "display_data"
    }
   ],
   "source": [
    "path = world.robots[0].location_history\n",
    "plot_robot_path(path)"
   ]
  },
  {
   "cell_type": "code",
   "execution_count": 84,
   "id": "complicated-batman",
   "metadata": {},
   "outputs": [],
   "source": [
    "def generate_lawnmower(xmin, xmax, ymin, ymax, winds):\n",
    "    \"\"\"Generates a horizontal lawnmower path on the list \"\"\"\n",
    "    current = [xmin, ymin]\n",
    "    ystep = (ymax - ymin) / (2 * winds)\n",
    "    path = []\n",
    "    path.append(current)\n",
    "    for i in range(winds):\n",
    "        path.append([xmax, current[1]])\n",
    "        path.append([xmax, current[1]+ystep])\n",
    "        path.append([xmin, current[1]+ystep])\n",
    "        current = [xmin, current[1]+2 * ystep]\n",
    "        path.append(current)\n",
    "    path.append([xmax, current[1]])\n",
    "    return path\n"
   ]
  },
  {
   "cell_type": "code",
   "execution_count": 85,
   "id": "handmade-nudist",
   "metadata": {},
   "outputs": [
    {
     "data": {
      "image/png": "[encoded data removed]",
      "text/plain": [
       "<Figure size 432x288 with 1 Axes>"
      ]
     },
     "metadata": {
      "needs_background": "light"
     },
     "output_type": "display_data"
    }
   ],
   "source": [
    "path = generate_lawnmower(0, 10, 0, 10, 5)\n",
    "plot_robot_path(path)"
   ]
  },
  {
   "cell_type": "code",
   "execution_count": null,
   "id": "peaceful-thought",
   "metadata": {},
   "outputs": [],
   "source": []
  }
 ],
 "metadata": {
  "kernelspec": {
   "display_name": "Python 3",
   "language": "python",
   "name": "python3"
  },
  "language_info": {
   "codemirror_mode": {
    "name": "ipython",
    "version": 3
   },
   "file_extension": ".py",
   "mimetype": "text/x-python",
   "name": "python",
   "nbconvert_exporter": "python",
   "pygments_lexer": "ipython3",
   "version": "3.8.10"
  }
 },
 "nbformat": 4,
 "nbformat_minor": 5
}
