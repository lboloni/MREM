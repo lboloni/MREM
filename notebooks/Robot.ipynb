{
 "cells": [
  {
   "cell_type": "code",
   "execution_count": null,
   "id": "collectible-round",
   "metadata": {},
   "outputs": [],
   "source": [
    "# allow the import from the top file\n",
    "import sys\n",
    "import os\n",
    "# sys.path.append(os.path.join(os.path.dirname(__file__), '..'))\n",
    "sys.path.append('..')\n",
    "\n",
    "import ast\n",
    "import math\n",
    "from collections import deque\n",
    "from ipywidgets import Output, HTML\n",
    "from Robot import Robot\n",
    "from Environment import Environment, DissipationModelEnvironment, EpidemicSpreadEnvironment\n",
    "from InformationModel import DiskEstimateScalarFieldIM\n",
    "from Policy import GoToLocationPolicy, FollowPathPolicy, RandomWaypointPolicy"
   ]
  },
  {
   "cell_type": "markdown",
   "id": "according-theme",
   "metadata": {},
   "source": [
    "## Testing the robot class for sanity"
   ]
  },
  {
   "cell_type": "code",
   "execution_count": null,
   "id": "informal-extreme",
   "metadata": {},
   "outputs": [],
   "source": [
    "env = DissipationModelEnvironment(\"water\", 100, 100, seed=1)\n",
    "env.evolve_speed = 1\n",
    "env.p_pollution = 0.1\n",
    "for t in range(90):\n",
    "    env.proceed()\n",
    "im = DiskEstimateScalarFieldIM(env.width, env.height, disk_radius=10)"
   ]
  },
  {
   "cell_type": "code",
   "execution_count": null,
   "id": "anonymous-pearl",
   "metadata": {},
   "outputs": [],
   "source": [
    "robot = Robot(\"Robi\", 20, 30, 0)\n",
    "robot.env = env\n",
    "robot.im = im\n",
    "# print(vars(robot))\n",
    "print(robot)\n",
    "robot.add_action(\"North\")\n",
    "robot.enact_policy()\n",
    "robot.proceed()\n",
    "print(robot)"
   ]
  },
  {
   "cell_type": "code",
   "execution_count": null,
   "id": "alternative-seeking",
   "metadata": {},
   "outputs": [],
   "source": [
    "robot.x = math.pi\n",
    "print(robot.toHTML())\n",
    "HTML(\n",
    "    value=robot.toHTML(),\n",
    "    placeholder='Some HTML',\n",
    ")"
   ]
  },
  {
   "cell_type": "code",
   "execution_count": null,
   "id": "surprised-gnome",
   "metadata": {},
   "outputs": [],
   "source": [
    "f\"Pi = {math.pi:.2f}\" "
   ]
  },
  {
   "cell_type": "code",
   "execution_count": null,
   "id": "flying-creation",
   "metadata": {},
   "outputs": [],
   "source": [
    "print(robot.location_history)"
   ]
  },
  {
   "cell_type": "code",
   "execution_count": null,
   "id": "2439ef9f",
   "metadata": {},
   "outputs": [],
   "source": [
    "policy = FollowPathPolicy(vel = 1, waypoints=[[0,0], [5, 5], [9,0]], repeat = True)\n",
    "robot.assign_policy(policy)\n",
    "\n",
    "\n",
    "value = robot.toHTML()\n",
    "value += \"<br>Policy: \"\n",
    "if robot.policy == None:\n",
    "    value += \"None\"\n",
    "else: \n",
    "    value += str(robot.policy)\n",
    "value += \"<br>Pending actions:\"\n",
    "value += str(robot.pending_actions)"
   ]
  },
  {
   "cell_type": "code",
   "execution_count": null,
   "id": "according-halifax",
   "metadata": {},
   "outputs": [],
   "source": [
    "HTML(\n",
    "    value=value,\n",
    "    placeholder='Some HTML',\n",
    ")"
   ]
  },
  {
   "cell_type": "code",
   "execution_count": null,
   "id": "cardiovascular-maine",
   "metadata": {},
   "outputs": [],
   "source": [
    "vars(robot.policy)"
   ]
  }
 ],
 "metadata": {
  "kernelspec": {
   "display_name": "Python 3",
   "language": "python",
   "name": "python3"
  },
  "language_info": {
   "codemirror_mode": {
    "name": "ipython",
    "version": 3
   },
   "file_extension": ".py",
   "mimetype": "text/x-python",
   "name": "python",
   "nbconvert_exporter": "python",
   "pygments_lexer": "ipython3",
   "version": "3.10.6"
  },
  "vscode": {
   "interpreter": {
    "hash": "916dbcbb3f70747c44a77c7bcd40155683ae19c65e1c03b4aa3499c5328201f1"
   }
  }
 },
 "nbformat": 4,
 "nbformat_minor": 5
}
