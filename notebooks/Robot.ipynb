{
 "cells": [
  {
   "cell_type": "code",
   "execution_count": 14,
   "id": "collectible-round",
   "metadata": {},
   "outputs": [],
   "source": [
    "# allow the import from the top file\n",
    "import sys\n",
    "import os\n",
    "# sys.path.append(os.path.join(os.path.dirname(__file__), '..'))\n",
    "sys.path.append('..')\n",
    "\n",
    "import ast\n",
    "import math\n",
    "from collections import deque\n",
    "from ipywidgets import Output, HTML\n",
    "from Robot import Robot\n",
    "from Environment import Environment, DissipationModelEnvironment, EpidemicSpreadEnvironment\n",
    "from InformationModel import DiskEstimateScalarFieldIM\n",
    "from Policy import GoToLocationPolicy, FollowPathPolicy, RandomWaypointPolicy"
   ]
  },
  {
   "cell_type": "markdown",
   "id": "according-theme",
   "metadata": {},
   "source": [
    "## Testing the robot class for sanity"
   ]
  },
  {
   "cell_type": "code",
   "execution_count": 15,
   "id": "informal-extreme",
   "metadata": {},
   "outputs": [],
   "source": [
    "env = DissipationModelEnvironment(\"water\", 100, 100, seed=1)\n",
    "env.evolve_speed = 1\n",
    "env.p_pollution = 0.1\n",
    "for t in range(90):\n",
    "    env.proceed()\n",
    "im = DiskEstimateScalarFieldIM(\"sample\", env.width, env.height, disk_radius=10)"
   ]
  },
  {
   "cell_type": "code",
   "execution_count": 16,
   "id": "anonymous-pearl",
   "metadata": {},
   "outputs": [
    {
     "name": "stdout",
     "output_type": "stream",
     "text": [
      "Robi --> loc = [x:20.00,y:30.00,alt:0.00] vel = [x:0.00,y:0.00,alt:0.00]\n",
      "Robi --> loc = [x:20.00,y:29.00,alt:0.00] vel = [x:0.00,y:-1.00,alt:0.00]\n"
     ]
    }
   ],
   "source": [
    "robot = Robot(\"Robi\", 20, 30, 0)\n",
    "robot.env = env\n",
    "robot.im = im\n",
    "# print(vars(robot))\n",
    "print(robot)\n",
    "robot.add_action(\"North\")\n",
    "robot.enact_policy()\n",
    "robot.proceed()\n",
    "print(robot)"
   ]
  },
  {
   "cell_type": "code",
   "execution_count": 17,
   "id": "alternative-seeking",
   "metadata": {},
   "outputs": [
    {
     "name": "stdout",
     "output_type": "stream",
     "text": [
      "<b>Robi</b><br/> loc = [x:3.14,y:29.00, alt:0.00]<br/>vel = [x:0.00,y:-1.00,alt:0.00]<br>Policy: None<br>Pending actions:[]\n"
     ]
    },
    {
     "data": {
      "application/vnd.jupyter.widget-view+json": {
       "model_id": "a8c9bf361df6470e81f913b884d62622",
       "version_major": 2,
       "version_minor": 0
      },
      "text/plain": [
       "HTML(value='<b>Robi</b><br/> loc = [x:3.14,y:29.00, alt:0.00]<br/>vel = [x:0.00,y:-1.00,alt:0.00]<br>Policy: N…"
      ]
     },
     "metadata": {},
     "output_type": "display_data"
    }
   ],
   "source": [
    "robot.x = math.pi\n",
    "print(robot.toHTML())\n",
    "HTML(\n",
    "    value=robot.toHTML(),\n",
    "    placeholder='Some HTML',\n",
    ")"
   ]
  },
  {
   "cell_type": "code",
   "execution_count": 18,
   "id": "surprised-gnome",
   "metadata": {},
   "outputs": [
    {
     "data": {
      "text/plain": [
       "'Pi = 3.14'"
      ]
     },
     "execution_count": 18,
     "metadata": {},
     "output_type": "execute_result"
    }
   ],
   "source": [
    "f\"Pi = {math.pi:.2f}\" "
   ]
  },
  {
   "cell_type": "code",
   "execution_count": 19,
   "id": "flying-creation",
   "metadata": {},
   "outputs": [
    {
     "name": "stdout",
     "output_type": "stream",
     "text": [
      "deque([[20.0, 29.0, 0.0]])\n"
     ]
    }
   ],
   "source": [
    "print(robot.location_history)"
   ]
  },
  {
   "cell_type": "code",
   "execution_count": 20,
   "id": "2439ef9f",
   "metadata": {},
   "outputs": [],
   "source": [
    "robot.policy = FollowPathPolicy(None, robot, 1, [[0,0], [5, 5], [9,0]], repeat = True)\n",
    "\n",
    "\n",
    "value = robot.toHTML()\n",
    "value += \"<br>Policy: \"\n",
    "if robot.policy == None:\n",
    "    value += \"None\"\n",
    "else: \n",
    "    value += str(robot.policy)\n",
    "value += \"<br>Pending actions:\"\n",
    "value += str(robot.pending_actions)"
   ]
  },
  {
   "cell_type": "code",
   "execution_count": 21,
   "id": "according-halifax",
   "metadata": {},
   "outputs": [
    {
     "data": {
      "application/vnd.jupyter.widget-view+json": {
       "model_id": "a420d581ddc540d1815bd53f96f436ed",
       "version_major": 2,
       "version_minor": 0
      },
      "text/plain": [
       "HTML(value='<b>Robi</b><br/> loc = [x:3.14,y:29.00, alt:0.00]<br/>vel = [x:0.00,y:-1.00,alt:0.00]<br>Policy: F…"
      ]
     },
     "metadata": {},
     "output_type": "display_data"
    }
   ],
   "source": [
    "HTML(\n",
    "    value=value,\n",
    "    placeholder='Some HTML',\n",
    ")"
   ]
  },
  {
   "cell_type": "code",
   "execution_count": 22,
   "id": "cardiovascular-maine",
   "metadata": {},
   "outputs": [
    {
     "data": {
      "text/plain": [
       "{'name': 'FollowPathPolicy',\n",
       " 'env': None,\n",
       " 'robot': <Robot.Robot at 0x7f956682a460>,\n",
       " 'waypoints': [[0, 0], [5, 5], [9, 0]],\n",
       " 'vel': 1,\n",
       " 'currentwaypoint': 0,\n",
       " 'repeat': True}"
      ]
     },
     "execution_count": 22,
     "metadata": {},
     "output_type": "execute_result"
    }
   ],
   "source": [
    "vars(robot.policy)"
   ]
  }
 ],
 "metadata": {
  "kernelspec": {
   "display_name": "Python 3",
   "language": "python",
   "name": "python3"
  },
  "language_info": {
   "codemirror_mode": {
    "name": "ipython",
    "version": 3
   },
   "file_extension": ".py",
   "mimetype": "text/x-python",
   "name": "python",
   "nbconvert_exporter": "python",
   "pygments_lexer": "ipython3",
   "version": "3.8.10"
  }
 },
 "nbformat": 4,
 "nbformat_minor": 5
}
