{
 "cells": [
  {
   "cell_type": "markdown",
   "id": "af0f3a66",
   "metadata": {},
   "source": [
    "# Experiments with the environment classes"
   ]
  },
  {
   "cell_type": "code",
   "execution_count": 2,
   "id": "stuck-delivery",
   "metadata": {},
   "outputs": [],
   "source": [
    "# allow imports from the main source directory\n",
    "import sys\n",
    "sys.path.append('..')\n",
    "\n",
    "import timeit\n",
    "import pathlib\n",
    "import shutil\n",
    "import numpy as np\n",
    "import matplotlib.pyplot as plt\n",
    "from Environment import EpidemicSpreadEnvironment, DissipationModelEnvironment, PrecalculatedEnvironment, animate_environment\n",
    "\n",
    "\n",
    "from IPython.display import display, HTML\n",
    "import logging\n",
    "logging.basicConfig(level=logging.WARNING)\n",
    "# %matplotlib inline\n",
    "%matplotlib widget"
   ]
  },
  {
   "cell_type": "markdown",
   "id": "promising-macintosh",
   "metadata": {},
   "source": [
    "# Environment base classes\n",
    "\n",
    "The basic abstract classes that model certain kind of environments and their temporal evolution and the way they can be observed.\n",
    "\n",
    "* Tracks an observable of the environment (eg. temperature). \n",
    "* Tracks the available information about the environment. "
   ]
  },
  {
   "cell_type": "markdown",
   "id": "surface-consumer",
   "metadata": {},
   "source": [
    "## Visualizing the environment"
   ]
  },
  {
   "cell_type": "code",
   "execution_count": 5,
   "id": "a34e91a5",
   "metadata": {},
   "outputs": [
    {
     "data": {
      "application/vnd.jupyter.widget-view+json": {
       "model_id": "b2dae77a9d0b45cf97bfcab8632ca5c1",
       "version_major": 2,
       "version_minor": 0
      },
      "text/plain": [
       "Canvas(toolbar=Toolbar(toolitems=[('Home', 'Reset original view', 'home', 'home'), ('Back', 'Back to previous …"
      ]
     },
     "metadata": {},
     "output_type": "display_data"
    }
   ],
   "source": [
    "\n",
    "env = EpidemicSpreadEnvironment(\"crop\", 100, 100, seed=40, infection_duration = 5, p_transmission = 0.1)\n",
    "env.status[6,10] = 2\n",
    "env.status[60,80] = 5\n",
    "# make a filtered area which won't be susceptible \n",
    "env.status[10:50, 10:50] = -2\n",
    "anim = animate_environment(env)\n",
    "plt.show()"
   ]
  },
  {
   "cell_type": "markdown",
   "id": "a9755853",
   "metadata": {},
   "source": [
    "## Testing the speed\n",
    "Trying out different sizes of EpidemicSpreadEnvironment and DissipationModelEnvironment, and testing how long the creation and the proceed operation takes on them"
   ]
  },
  {
   "cell_type": "code",
   "execution_count": 3,
   "id": "1d4d5711",
   "metadata": {},
   "outputs": [
    {
     "name": "stdout",
     "output_type": "stream",
     "text": [
      "map of size 10x10 a proceed took 0.00014 seconds\n",
      "map of size 50x50 a proceed took 0.0012 seconds\n",
      "map of size 100x100 a proceed took 0.0024 seconds\n",
      "map of size 200x200 a proceed took 0.0096 seconds\n",
      "map of size 400x400 a proceed took 0.038 seconds\n",
      "map of size 1000x1000 a proceed took 0.24 seconds\n",
      "map of size 2000x2000 a proceed took 0.94 seconds\n",
      "map of size 4000x4000 a proceed took 3.9 seconds\n",
      "DissipationModelEnvironment\n",
      "map of size 10x10 a proceed took 4.5e-05 seconds\n",
      "map of size 50x50 a proceed took 9.7e-05 seconds\n",
      "map of size 100x100 a proceed took 0.00054 seconds\n",
      "map of size 200x200 a proceed took 0.0011 seconds\n",
      "map of size 400x400 a proceed took 0.0041 seconds\n",
      "map of size 1000x1000 a proceed took 0.026 seconds\n",
      "map of size 2000x2000 a proceed took 0.12 seconds\n",
      "map of size 4000x4000 a proceed took 0.48 seconds\n"
     ]
    }
   ],
   "source": [
    "for i in [10, 50, 100, 200, 400, 1000, 2000, 4000]:\n",
    "    env = EpidemicSpreadEnvironment(\"crop\", i, i, seed=40, infection_duration = 5, p_transmission = 0.1)\n",
    "    env.status[i // 2, i // 2] = 2\n",
    "    env.status[(3*i) // 4, (3*i) // 4] = 5\n",
    "    time = timeit.timeit(\"env.proceed(1.0)\", number=1, globals=globals())\n",
    "    print(f\"map of size {i}x{i} a proceed took {time:0.2} seconds\")\n",
    "# trying out different sizes of DissipationModelEnvironment\n",
    "print(\"DissipationModelEnvironment\")\n",
    "for i in [10, 50, 100, 200, 400, 1000, 2000, 4000]:\n",
    "    env = DissipationModelEnvironment(\"pollution\", i, i, seed=40)\n",
    "    # env.status[i // 2, i // 2] = 2\n",
    "    # env.status[(3*i) // 4, (3*i) // 4] = 5\n",
    "    time = timeit.timeit(\"env.proceed(1.0)\", number=1, globals=globals())\n",
    "    print(f\"map of size {i}x{i} a proceed took {time:0.2} seconds\")"
   ]
  },
  {
   "cell_type": "markdown",
   "id": "bf9c9f21",
   "metadata": {},
   "source": [
    "## Testing the saving model"
   ]
  },
  {
   "cell_type": "code",
   "execution_count": 22,
   "id": "c25c419d",
   "metadata": {},
   "outputs": [
    {
     "name": "stdout",
     "output_type": "stream",
     "text": [
      "/home/lboloni/Documents/HackingWork/2022-01-15-MREM\n",
      "/home/lboloni/Documents/HackingWork/2022-01-15-MREM/__Temporary/2022-01-15-MREM_data/experiments\n"
     ]
    }
   ],
   "source": []
  },
  {
   "cell_type": "code",
   "execution_count": 5,
   "id": "7f059abb",
   "metadata": {},
   "outputs": [
    {
     "data": {
      "application/vnd.jupyter.widget-view+json": {
       "model_id": "334059b517774f38a87a05d5d8e1a957",
       "version_major": 2,
       "version_minor": 0
      },
      "text/plain": [
       "Canvas(toolbar=Toolbar(toolitems=[('Home', 'Reset original view', 'home', 'home'), ('Back', 'Back to previous …"
      ]
     },
     "metadata": {},
     "output_type": "display_data"
    }
   ],
   "source": [
    "p = pathlib.Path.cwd().parent.parent.parent\n",
    "#print(p)\n",
    "savedir = pathlib.Path(p.parent, \"__Temporary\", p.name + \"_data\", \"experiments\")\n",
    "#print(savedir)\n",
    "shutil.rmtree(savedir)\n",
    "savedir.mkdir(parents=True, exist_ok = True)\n",
    "\n",
    "height = 20 # was 2000\n",
    "width = 20 # was 2000\n",
    "env = EpidemicSpreadEnvironment(\"crop\", width, height, seed=40, infection_duration = 5, p_transmission = 0.1)\n",
    "env.status[width // 2, height // 2] = 2\n",
    "env.status[(3*width) // 4, (3*height) // 4] = 5\n",
    "precenv = PrecalculatedEnvironment(width,height, env, savedir)\n",
    "for t in range(0, 100):\n",
    "    precenv.proceed(1.0)\n",
    "\n",
    "## reloading\n",
    "pe = PrecalculatedEnvironment(width, height, None, savedir)\n",
    "anim = animate_environment(pe)\n",
    "plt.show()"
   ]
  },
  {
   "cell_type": "markdown",
   "id": "71dbb8c0",
   "metadata": {},
   "source": [
    "## Creating a spread area"
   ]
  },
  {
   "cell_type": "code",
   "execution_count": 3,
   "id": "ffbd086f",
   "metadata": {},
   "outputs": [
    {
     "name": "stdout",
     "output_type": "stream",
     "text": [
      "[[0.03125    0.04       0.05       0.05882353 0.0625     0.05882353\n",
      "  0.05      ]\n",
      " [0.04       0.05555556 0.07692308 0.1        0.11111111 0.1\n",
      "  0.07692308]\n",
      " [0.05       0.07692308 0.125      0.2        0.25       0.2\n",
      "  0.125     ]\n",
      " [0.05882353 0.1        0.2        0.5        1.         0.5\n",
      "  0.2       ]\n",
      " [0.0625     0.11111111 0.25       1.         0.         1.\n",
      "  0.25      ]\n",
      " [0.05882353 0.1        0.2        0.5        1.         0.5\n",
      "  0.2       ]\n",
      " [0.05       0.07692308 0.125      0.2        0.25       0.2\n",
      "  0.125     ]]\n"
     ]
    }
   ],
   "source": [
    "dimension = 7\n",
    "center = dimension // 2 + 1\n",
    "neighborcounting_kernel = np.zeros((dimension, dimension))\n",
    "for i in range(dimension):\n",
    "    for j in range(dimension):\n",
    "        dist2 = (i - center)*(i - center) + (j - center)*(j - center)\n",
    "        if dist2 != 0.0:\n",
    "            neighborcounting_kernel[i,j] = 1 / dist2\n",
    "print(neighborcounting_kernel)\n"
   ]
  },
  {
   "cell_type": "code",
   "execution_count": null,
   "id": "fdabce42",
   "metadata": {},
   "outputs": [],
   "source": []
  }
 ],
 "metadata": {
  "kernelspec": {
   "display_name": "Python 3",
   "language": "python",
   "name": "python3"
  },
  "language_info": {
   "codemirror_mode": {
    "name": "ipython",
    "version": 3
   },
   "file_extension": ".py",
   "mimetype": "text/x-python",
   "name": "python",
   "nbconvert_exporter": "python",
   "pygments_lexer": "ipython3",
   "version": "3.8.10"
  }
 },
 "nbformat": 4,
 "nbformat_minor": 5
}
