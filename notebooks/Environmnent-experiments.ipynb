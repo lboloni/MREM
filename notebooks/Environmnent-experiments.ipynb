{
 "cells": [
  {
   "cell_type": "markdown",
   "id": "af0f3a66",
   "metadata": {},
   "source": [
    "# Experiments with the environment classes\n",
    "\n",
    "A number of experiments for finding the right parametrization of the environments for the benchmarks. \n",
    "\n",
    "The code in this notebook contains a number of visualizations, __which only work in jupyter notebook__ not in vscode. "
   ]
  },
  {
   "cell_type": "code",
   "execution_count": null,
   "id": "stuck-delivery",
   "metadata": {},
   "outputs": [],
   "source": [
    "# allow imports from the main source directory\n",
    "import sys\n",
    "sys.path.append('..')\n",
    "\n",
    "import timeit\n",
    "import time\n",
    "import pathlib\n",
    "import numpy as np\n",
    "import random\n",
    "import math\n",
    "import shutil\n",
    "from scipy import signal\n",
    "import scipy\n",
    "import matplotlib.pyplot as plt\n",
    "from IPython.display import display, HTML\n",
    "plt.rcParams['figure.figsize'] = (5,3)\n",
    "plt.rcParams['figure.dpi'] = 100\n",
    "plt.rcParams['savefig.dpi'] = 100\n",
    "plt.rcParams[\"animation.html\"] = \"jshtml\" \n",
    "\n",
    "from Environment import EpidemicSpreadEnvironment, DissipationModelEnvironment, SoilMoistureEnvironment, PrecalculatedEnvironment, animate_environment\n",
    "from Helper import shifted_add, create_gaussian_hump\n",
    "\n",
    "import logging\n",
    "logging.basicConfig(level=logging.WARNING)\n",
    "\n",
    "# NOTE: The animation with the %matplotlib inline works with independent \n",
    "# jupyter notebook, but NOT when running the notebook from vscode\n",
    "%matplotlib inline\n"
   ]
  },
  {
   "cell_type": "markdown",
   "id": "surface-consumer",
   "metadata": {},
   "source": [
    "# EpidemicSpreadEnvironment\n",
    "Visualize the evolution of the epidemic spread environment in time in a video. Adjust the parametrization as appropriate to try out different settings."
   ]
  },
  {
   "cell_type": "code",
   "execution_count": null,
   "id": "c0082eea",
   "metadata": {},
   "outputs": [],
   "source": [
    "print(int(math.sqrt(100) / 6) * 2 + 1)\n",
    "print(int(math.sqrt(4000) / 6) * 2 + 1)"
   ]
  },
  {
   "cell_type": "code",
   "execution_count": null,
   "id": "a34e91a5",
   "metadata": {},
   "outputs": [],
   "source": [
    "width = 10 # 1000\n",
    "height = 10 # 2000\n",
    "#spread_dimension = int(math.sqrt(width) / 6) * 2 + 3\n",
    "spread_dimension = 11\n",
    "print(spread_dimension)\n",
    "infection_seeds = 3 * max(int(width / 30), 1)\n",
    "p_transmission = 0.25\n",
    "# seeds 1*, 0.15 looks good for ccr\n",
    "# seeds 3*, 0.25 looks good for tylcv\n",
    "env = EpidemicSpreadEnvironment(\"crop\", width, height, seed=1, infection_duration = 5, \n",
    "                                p_transmission = p_transmission, spread_dimension=spread_dimension, \n",
    "                                infection_seeds = infection_seeds)\n",
    "anim = animate_environment(env, frames=20, interval=200)\n",
    "plt.show()\n",
    "HTML(anim.to_html5_video())"
   ]
  },
  {
   "cell_type": "markdown",
   "id": "4db99326",
   "metadata": {},
   "source": [
    "# Soil moisture"
   ]
  },
  {
   "cell_type": "code",
   "execution_count": null,
   "id": "165a66b8",
   "metadata": {
    "scrolled": false
   },
   "outputs": [],
   "source": [
    "senv = SoilMoistureEnvironment(\"soil\", 10, 10, seed=1, \n",
    "                               evaporation = 0.04, rainfall=0.06, rain_likelihood = 0.8)\n",
    "# this only works in Jupyter notebook proper, not in vscode\n",
    "anim = animate_environment(senv, frames=100, interval=100)\n",
    "plt.show()\n",
    "HTML(anim.to_html5_video())"
   ]
  },
  {
   "cell_type": "code",
   "execution_count": null,
   "id": "bbf5a7cc",
   "metadata": {},
   "outputs": [],
   "source": [
    "# experiment for Miniberry-10\n",
    "seed = 3\n",
    "for size in [10, 30, 100, 400]:\n",
    "    senv = SoilMoistureEnvironment(\"soil\", size, size, seed=seed, \n",
    "                                   evaporation = 0.04, rainfall=0.05, rain_likelihood = 0.8, warmup_time = 100)\n",
    "    fig, (ax_0, ax_100) = plt.subplots(1,2)\n",
    "    ax_0.imshow(senv.value, vmin=0, vmax=1, origin=\"lower\", cmap=\"gray\")\n",
    "    for i in range(100):\n",
    "        senv.proceed(1.0)\n",
    "    ax_100.imshow(senv.value, vmin=0, vmax=1, origin=\"lower\", cmap=\"gray\")"
   ]
  },
  {
   "cell_type": "markdown",
   "id": "a9755853",
   "metadata": {},
   "source": [
    "## Testing the speed\n",
    "Trying out different sizes of EpidemicSpreadEnvironment and DissipationModelEnvironment, and testing how long the creation and the proceed operation takes on them"
   ]
  },
  {
   "cell_type": "code",
   "execution_count": null,
   "id": "1d4d5711",
   "metadata": {},
   "outputs": [],
   "source": [
    "for i in [10, 50, 100, 200, 400, 1000, 2000, 4000]:\n",
    "    env = EpidemicSpreadEnvironment(\"crop\", i, i, seed=40, infection_duration = 5, p_transmission = 0.1)\n",
    "    env.status[i // 2, i // 2] = 2\n",
    "    env.status[(3*i) // 4, (3*i) // 4] = 5\n",
    "    timeval = timeit.timeit(\"env.proceed(1.0)\", number=1, globals=globals())\n",
    "    print(f\"map of size {i}x{i} a proceed took {timeval:0.2} seconds\")\n",
    "# trying out different sizes of DissipationModelEnvironment\n",
    "print(\"DissipationModelEnvironment\")\n",
    "for i in [10, 50, 100, 200, 400, 1000, 2000, 4000]:\n",
    "    env = DissipationModelEnvironment(\"pollution\", i, i, seed=40)\n",
    "    # env.status[i // 2, i // 2] = 2\n",
    "    # env.status[(3*i) // 4, (3*i) // 4] = 5\n",
    "    timeval = timeit.timeit(\"env.proceed(1.0)\", number=1, globals=globals())\n",
    "    print(f\"map of size {i}x{i} a proceed took {timeval:0.2} seconds\")"
   ]
  },
  {
   "cell_type": "markdown",
   "id": "bf9c9f21",
   "metadata": {},
   "source": [
    "# PrecalculatedEnvironment\n",
    "Testing that we can create a PrecalculatedEnvironment with an EpidemicSpreadEnvironment embedded, save it, load it back and visualize it."
   ]
  },
  {
   "cell_type": "code",
   "execution_count": null,
   "id": "7f059abb",
   "metadata": {},
   "outputs": [],
   "source": [
    "p = pathlib.Path.cwd().parent.parent.parent\n",
    "#print(p)\n",
    "savedir = pathlib.Path(p.parent, \"__Temporary\", p.name + \"_data\", \"experiments\")\n",
    "#print(savedir)\n",
    "savedir.mkdir(parents=True, exist_ok = True)\n",
    "shutil.rmtree(savedir)\n",
    "savedir.mkdir(parents=True, exist_ok = True)\n",
    "\n",
    "height = 20 # was 2000\n",
    "width = 20 # was 2000\n",
    "env = EpidemicSpreadEnvironment(\"crop\", width, height, seed=40, infection_duration = 5, p_transmission = 0.1)\n",
    "env.status[width // 2, height // 2] = 2\n",
    "env.status[(3*width) // 4, (3*height) // 4] = 5\n",
    "precenv = PrecalculatedEnvironment(width,height, env, savedir)\n",
    "for t in range(0, 100):\n",
    "    precenv.proceed(1.0)\n",
    "\n",
    "## reloading\n",
    "pe = PrecalculatedEnvironment(width, height, None, savedir)\n",
    "anim = animate_environment(pe)\n",
    "plt.show()"
   ]
  }
 ],
 "metadata": {
  "kernelspec": {
   "display_name": "Python 3.10.4 64-bit",
   "language": "python",
   "name": "python3"
  },
  "language_info": {
   "codemirror_mode": {
    "name": "ipython",
    "version": 3
   },
   "file_extension": ".py",
   "mimetype": "text/x-python",
   "name": "python",
   "nbconvert_exporter": "python",
   "pygments_lexer": "ipython3",
   "version": "3.10.6"
  },
  "vscode": {
   "interpreter": {
    "hash": "916dbcbb3f70747c44a77c7bcd40155683ae19c65e1c03b4aa3499c5328201f1"
   }
  }
 },
 "nbformat": 4,
 "nbformat_minor": 5
}
