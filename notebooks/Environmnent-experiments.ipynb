{
 "cells": [
  {
   "cell_type": "markdown",
   "id": "af0f3a66",
   "metadata": {},
   "source": [
    "# Experiments with the environment classes\n",
    "\n",
    "A number of experiments for finding the right parametrization of the environments for the benchmarks. \n",
    "\n",
    "The code in this notebook contains a number of visualizations, __which only work in jupyter notebook__ not in vscode. "
   ]
  },
  {
   "cell_type": "code",
   "execution_count": 2,
   "id": "stuck-delivery",
   "metadata": {},
   "outputs": [],
   "source": [
    "# allow imports from the main source directory\n",
    "import sys\n",
    "sys.path.append('..')\n",
    "\n",
    "import timeit\n",
    "import time\n",
    "import pathlib\n",
    "import numpy as np\n",
    "import random\n",
    "import math\n",
    "import shutil\n",
    "from scipy import signal\n",
    "import scipy\n",
    "import matplotlib.pyplot as plt\n",
    "from IPython.display import display, HTML\n",
    "plt.rcParams['figure.figsize'] = (5,3)\n",
    "plt.rcParams['figure.dpi'] = 100\n",
    "plt.rcParams['savefig.dpi'] = 100\n",
    "plt.rcParams[\"animation.html\"] = \"jshtml\" \n",
    "\n",
    "from Environment import EpidemicSpreadEnvironment, DissipationModelEnvironment, SoilMoistureEnvironment, PrecalculatedEnvironment, animate_environment\n",
    "from Helper import shifted_add, create_gaussian_hump\n",
    "\n",
    "import logging\n",
    "logging.basicConfig(level=logging.WARNING)\n",
    "\n",
    "# NOTE: The animation with the %matplotlib inline works with independent \n",
    "# jupyter notebook, but NOT when running the notebook from vscode\n",
    "%matplotlib inline\n"
   ]
  },
  {
   "cell_type": "markdown",
   "id": "surface-consumer",
   "metadata": {},
   "source": [
    "# EpidemicSpreadEnvironment\n",
    "Visualize the evolution of the epidemic spread environment in time in a video. Adjust the parametrization as appropriate to try out different settings."
   ]
  },
  {
   "cell_type": "code",
   "execution_count": 3,
   "id": "c0082eea",
   "metadata": {},
   "outputs": [
    {
     "name": "stdout",
     "output_type": "stream",
     "text": [
      "3\n",
      "21\n"
     ]
    }
   ],
   "source": [
    "print(int(math.sqrt(100) / 6) * 2 + 1)\n",
    "print(int(math.sqrt(4000) / 6) * 2 + 1)"
   ]
  },
  {
   "cell_type": "code",
   "execution_count": 6,
   "id": "a34e91a5",
   "metadata": {},
   "outputs": [
    {
     "name": "stdout",
     "output_type": "stream",
     "text": [
      "11\n"
     ]
    },
    {
     "data": {
      "image/png": "[encoded data removed]",
      "text/plain": [
       "<Figure size 432x288 with 1 Axes>"
      ]
     },
     "metadata": {
      "needs_background": "light"
     },
     "output_type": "display_data"
    },
    {
     "data": {
      "text/html": [
       "<video width=\"600\" height=\"400\" controls autoplay loop>\n",
       "  <source type=\"video/mp4\" src=\"data:video/mp4;base64,AAAAIGZ0eXBNNFYgAAACAE00ViBpc29taXNvMmF2YzEAAAAIZnJlZQAAGUNtZGF0AAACrgYF//+q\n",
       "3EXpvebZSLeWLNgg2SPu73gyNjQgLSBjb3JlIDE2MyByMzA2MCA1ZGI2YWE2IC0gSC4yNjQvTVBF\n",
       "Ry00IEFWQyBjb2RlYyAtIENvcHlsZWZ0IDIwMDMtMjAyMSAtIGh0dHA6Ly93d3cudmlkZW9sYW4u\n",
       "b3JnL3gyNjQuaHRtbCAtIG9wdGlvbnM6IGNhYmFjPTEgcmVmPTMgZGVibG9jaz0xOjA6MCBhbmFs\n",
       "eXNlPTB4MzoweDExMyBtZT1oZXggc3VibWU9NyBwc3k9MSBwc3lfcmQ9MS4wMDowLjAwIG1peGVk\n",
       "X3JlZj0xIG1lX3JhbmdlPTE2IGNocm9tYV9tZT0xIHRyZWxsaXM9MSA4eDhkY3Q9MSBjcW09MCBk\n",
       "ZWFkem9uZT0yMSwxMSBmYXN0X3Bza2lwPTEgY2hyb21hX3FwX29mZnNldD0tMiB0aHJlYWRzPTEy\n",
       "IGxvb2thaGVhZF90aHJlYWRzPTIgc2xpY2VkX3RocmVhZHM9MCBucj0wIGRlY2ltYXRlPTEgaW50\n",
       "ZXJsYWNlZD0wIGJsdXJheV9jb21wYXQ9MCBjb25zdHJhaW5lZF9pbnRyYT0wIGJmcmFtZXM9MyBi\n",
       "X3B5cmFtaWQ9MiBiX2FkYXB0PTEgYl9iaWFzPTAgZGlyZWN0PTEgd2VpZ2h0Yj0xIG9wZW5fZ29w\n",
       "PTAgd2VpZ2h0cD0yIGtleWludD0yNTAga2V5aW50X21pbj01IHNjZW5lY3V0PTQwIGludHJhX3Jl\n",
       "ZnJlc2g9MCByY19sb29rYWhlYWQ9NDAgcmM9Y3JmIG1idHJlZT0xIGNyZj0yMy4wIHFjb21wPTAu\n",
       "NjAgcXBtaW49MCBxcG1heD02OSBxcHN0ZXA9NCBpcF9yYXRpbz0xLjQwIGFxPTE6MS4wMACAAAAH\n",
       "H2WIhAAR//73iB8yy2n5OtdyEeetLq0fUO5GcV6kvf4gAAADAAADAAIceCvyHWMDfpugAAA1vMt/\n",
       "Bav8QFB/j9aZvEid4CLCWYkSO+2aGqfDdkEN5Y5EBqTlw+qZAY5J1KyNx89uY6kC+bJLueA4g5tq\n",
       "j22AgHs+hkTQAvkpUPaJ20WmCBc8K3YUsKGn7OF0qtkpuM/Ls+75r6dLJAzVBaD6snC8yYyRBBUW\n",
       "WQ9fK9c/QgEDarxX/hFSb8Ib8jFr7LEf/RFePGjSsqSwh5bpcnSvleKQsgQ/n/ZXBAIDIZfv97xv\n",
       "OB9wVI4pkTN4Z7+qEKxbwyEJmkG1mtN0SEGhGpkRfpLVhOUlAgK5IeWv4DRHvX/5sQdW6mJ/BES7\n",
       "yEx+L4U8ROEoqazZKRA920xHdrnv0iMGYnELanW9Q/KvWqUTza4/hW0dF54QXzyDpBchW3cfLUqc\n",
       "PaxhcG33v+erp/b/UhTjMdPuJ2y8MZK7egEPeq4JgA+dWEku8iE9uIgGyU/WZfQnhFNiLawlm2kW\n",
       "bZMF4j7s6hZ0YVVu+8vACSEg20o2JJL2pt0xEAgJMD1T7LsxNb4rAXy/a6PyW2yzxwrIBV610g/v\n",
       "xOJ8xbckWCTO5vTYXOsGIASgjgawVzVFqDaBzLPmR/bcNAK3WNOiM9nbffW4E/e6ZCFM7ybwFk0K\n",
       "Aq+iIQ+UIsG/NzZEwz5xhyS05KhFma4+ocJ7qNKdf8RZwv+fgTLh6ILJpILZkUeX/37I3GJ5+pTJ\n",
       "4jYcWQNVzP2jpMhvNH+k60/urRAqjyq+T8j250mOuZx/r5eOIShfBRAgNgd3OkCmCLa3xHw2yTKC\n",
       "/7u/F0F0vF7h8ihDj3ijgA2SpzMquoLPmTMA4jhQES7IRiCgV2dhlSX/BSsOGXLtevbVOtgKQWWP\n",
       "LP9XKM2AnfL5lkXWCRaBnf2pmrVmNkbqW4ib9Ne8vMTXyFSJ6H7NpcPFcIDxzxLK0w3vvSUZyaw/\n",
       "2zuisXd2IPCm8sDqvPHEkDn6cUegxcd2ZYpkB3OHR5zF0Cv7cqgsSvQsxbPki8mYPlrR509kftbo\n",
       "SG3lToWAp/xcL8kk8Zv4tt7emJzUCA90+55qS1ByqWKb2We6XLWIhaJtrLIk0XElXOax7i8V0BLb\n",
       "S5sM1xDmjUaI5QPBU9UW6jJpusYjQ0PtABjfQkYn5XEfeaEF6vs0j4YKeHSvAAAMiE5zMu0DhesN\n",
       "SqFkACqqrSsdTCRWXJIB0kO8n/E7v4GR8NtL8BVa7LYpOKWDFXfXzY/hpW6qn0kyoB6BHoedC5Yq\n",
       "mlrVFmWoLLjomnXWz7z0xgE2xuPzSydwQpV/q4/21gjoh3OuwJYz8isEB0e5T1spOl95GsogRzmP\n",
       "0WCZrYHSi9Tx4A4MAmtFyPF8zDkmKdI7tk0rUqY7SK92rJpwM+Pl9BpO0aT5oyjSFZZTYNAJikR4\n",
       "bntEAmMgc4Cp8WfNIgPM/7ClNToC/+guCYNlKgZuD8+HMDJlcY9zVTxJThFSRNXe05nvp2azDqyk\n",
       "BfH58A8o7PDQDSw0s7m/ALIyK/vr9UW3b0hAsEB+V/BVJ5+GRVzsCcCW20InTXH80ISozsrnZq1s\n",
       "C0GZfL47VYSseRSNUdBB7CAbUshbNmT3vI3ORpSS+AeSd/L9wrDZ/AIc+5K/2XyHR+Rw6row/zxh\n",
       "MOiSJuoy/k3yB0AE5kA3O4BTMz8MpbnoO97ISwkAnlmLSLH3kVX4x97euZnl+r7oGp8Tdi17q+53\n",
       "qzPYHNsI78CDKqDBf1z288V0jfg+BNPR+jPQN0U/UUsw+jsln+8aacx4IoKmr7BpRBo8WYIR1+/F\n",
       "tUG1TsHGLhJjMD25BZmxOHnqhcwe/L2roLOxppCbc5gptedo3jic0FOG+3eXVrZHE5X8jMT7TfIC\n",
       "9AlmFGTAo3lLkczoe6qYkpzOPO62sSInnM2ZyWCl2Wzo9P+MIB6t1ejduXtsV6NjpACCg6mk3RnW\n",
       "pTMFcNHhuOKqNSZo9sN7x3UQ3u6PYOaPqOtEFq68wr3kvkvIk4B+qnbW2SQd3Viwa8o55rkAt/XZ\n",
       "Kx+M0txPDDg9+64Ab5sRXIcicA2dJT3vuExfeQuz/yL3RW+p0AXhfQST1IZ/XlK0i6T+4O4Em3/N\n",
       "qmUAQZ1+CKGkMJm/cS/b7Vva1Jkgyv9Uxm14Ia7xs5cSgD3MfrYS9baAAccNaPWnJgjfDPYy25Fd\n",
       "zcmbJdCXrwk7cbOuA48U3iTCoqutsBY9ETTPkDp+WdF2XFSIVWS9MfAmetoYVTE6C9EbLzk62gCt\n",
       "kn518J+Xmxpau56tHpkCZfjUy3uhpP7E585TpYBtZiq6nfDXL+WK6K41prCHz3WjIYOQolTnTnu5\n",
       "UeEDgp19bxZxYNCB0NujN6ZUl0C9cjqNgtDbw5WnafFG16LRwzJZyvoTL9SZgoN21T2JwYAAABXx\n",
       "AAABvEGaIWxBH/61KoAFTHDBgB0Ulm1dXQMlK75e/VQ23+P+xVpJ0ahTLLT5MsR2fvEijjYW6HNE\n",
       "pdktaDf06A2/gJ0eD/leCnBJ20glGA5O2N9xushJ56BPpOw9G0T/QGEftuKv18lVDVH4E59t/A25\n",
       "/WkuPyJ3xp9QqMMJCRebE9fs0lj+XeFKfbaKgHocpUWGTxY20pQeaY6udswUjPCYhOCzbVu06I8J\n",
       "H3VzSHWr7s9xnrjTooIT/Z9A3XgEuzUldiHU9ehuQIetemmPlbHDChar12728qGFvAAVVOb8UplE\n",
       "DlcDFvAJ2praiO1RD+nPIObFs8GhPqkq7yuGXOkyGsyHx7slXLzOTdJiSsVf6irrYDZzVzyx9wkL\n",
       "/HSNUgPwE8Gg/Giv8F5AdhNgvk6ouibAQiwehyE2YKnVe05vM8QK/J4pmlM/xx0wF3kSKas0TZhc\n",
       "8fG55sh5NJFeEvCnX2bcMMstcY6LJZgOERc0s1iqoLH2YeD5WRbsNcu8mw2VZoiMUAG4D3TC49BJ\n",
       "gRMDUXBA3mWXtvcERwTz7nXWhC2OrrfZtjbJPqw/Jgel/XwHgxep8LyEIG41GlOQugAAAoRBmkI8\n",
       "IZMphBD//qpVAAoTN07zADfrkqV7bcyIx4c54xoUItU/yKC9IfNglniYWdnn/Y0mVMCYhlG3z+IS\n",
       "SGkhM4VrmuUHx6kuS2GdslzZrDb3SN+7boSYmHg/JRaJljRN8ICh/uHdEAKdwOjhyeLa36541mBk\n",
       "mLAibV/sADB+CXllRFvd0hVlk8YOeBGphtZtpM6QndgXpV4jyr+aQPoYvdscA8P3FoPziKYxQHUv\n",
       "LAXkmAw75tjZBuM9IOf6uAdkBxoZnUJGHfZjA5Q9raVH/gSkiCdjlsBP0Ne/rsedEXSCdA59oZTV\n",
       "FawGWZNomFzZ/5CJILJJdn9EEpRbHvGvCxlDA5nsIO+Ad4jEykAkJPADuaUhHmeSYztzGn7stePV\n",
       "C6YoliLtrJE9yDB/Sh7AMl2N/geQKWHLOn9o56PvPxcO8Qf2M6TIFjb2cFsYuNUf2G4hln5/qR8G\n",
       "WyIQmR1SBTG0a4brnouvNgsbMNwQwqZzGnpDkf0O5x4QeELGuk3tB4an9s3HetX5yu3sQeZBxYme\n",
       "8OrUhOzrprifEEItSAad6jwbX5CltKycbpcqayOBSdpYZpGBXbOaO5+iCrIGxAEYDWHU1ZbOEp91\n",
       "Z7IxDpQCi5vZcZMxBBukMervh/xOV2POVO7/kmDyfaW6ZFEJfxUafJ4e16pT8/RUpLvlA+HT6Cif\n",
       "UmDrgF2AIeHKro+2ovXRQsnh39pp04G/12k5z/zl8p58ZhzLHI8K6hIi7gk9VT+8R4H//tVIIwdI\n",
       "fofZKhpXLEMD7vQbuCf8cSCOt+NyPWC33X7Hz8Iu071LauZdnpBn0Ljmh6s5EU+ac+38sgK/bARu\n",
       "3LyT4ryOtvqfHjILuQAAAepBmmNJ4Q8mUwIf//6plgAjP1kAqP7wGClQgVvKlHJrQDcHagVGpi55\n",
       "3T+gasGwgzf9sHSpynVXsJuN3lNY5opanq4ChAPbsmCWrQR73Bd+ONhPdzAnKnje2ZmbhCGGUSa0\n",
       "UvlzhG/21qKMakEoml5/IIqu/Gcjm9D/QSQEg/K5NcvrRkgqM47aU3S4+5HGtjQgfc3Y+ZnLXqHs\n",
       "caCAIjyquJIj0hxUnttVpJNy3Ti8p+v1nvhcGnpI6Unkyx5koKjFcEl216dTwBj99/RNCdVCULf2\n",
       "vxbIcXZz4JcVQmR8XlY/e9VP9lESPBGCCFq2ytM9oiFlOWXSj15P0XtZXymF/R0bVxWzMk848gyd\n",
       "CPYTIYObPSq9Dp1MpvEvGdAmjrheK2lDEMqJAJoFufbGQ75wfKZnuPzs/kxHLkUn0thIADT/0NT/\n",
       "fAMv4uldkLJk79fjVvAVMMxdZukQodYBKwb9RAoDbj1KaoGDdrzUbXZD+Lc+W2ijjuVOhUpWhr+i\n",
       "ZM5YUyOvq4df3M+j0Blg8XSMUfz4oaLst7FeO5pGYM8wkoirSXbv+cYiC6mUdhtK17fVGwXP5EFn\n",
       "iMJLIUkU/7wI2VkGe0pdYmjvuEZI4F8akvZ+1W0tvwPC/Dy5cyc5+ylCApbIecbmpBDwAAABK0Ga\n",
       "hEnhDyZTAgj//rUqgAPr8/ij7qSUZyXncgHZ9iAWGjgKlYARhsif9hZ/a7F0qTqaCnhCTtICUgcy\n",
       "HE64Yoa94z0dHuIhjdRVP8Dx9K5v2BL/Uo6n2Zc6RimTcFncUoudR4PgfBBN7UNBHYjgR7qtdpd0\n",
       "VldBP0z44D4vMD7vxI6mk6hc/OF3Y6ICrkJNSt4T/4+BstltKJfwP6Em+wHhi4V0tSeNbEPKGlQU\n",
       "hf1/aWwSx2G4oXZoXA3qXEyuat6M1yuX/vJNhiU0MN86evLukTJvctwRbDD3DVd8UuKhkGSNDmXx\n",
       "J9/IkkwrtvC/BWks9Xbp2X+iKTD0ApNY7iZl1SS3K63z4ijEeK68alCMutdRB9oqi7lvwCQBUQZq\n",
       "KWtpKvYYHizU66lJAAABeEGapUnhDyZTAgj//rUqgAOp1aFZHyJashBUiST0V/DyyUQjYkj/3+BE\n",
       "mFJ+QN4bMzbDZR9lPhYlOKrembQ1+nBqJ8aw9QQgUA8KhCZUW1j4CHc0GcN6x982p1WgcT5o/97u\n",
       "DbdAwEGt7P+Anivdqv4Gor2wHZWSfF8ICoG9IlAzNQ4fSiXq1qkNj3CXtZIOtxTFjR7LCa3OdJQs\n",
       "nRN5wuM5ZG2Qg+ay/w4PPU0DjlxPER+CxlHWbMwT3yu9NNfbj/UvYfFeibFUNB/d0HY9TdGJ2Bl7\n",
       "OShAczms/BhxlXyzn1q4vYtt//VGiC+7XWMBvzorYn9592KsrbNVvQgZkO01+14SIaYAIwSugLf5\n",
       "UkQhZUhkejG+dcpqA5Oqaoa0u7/w4YHwBia8OU5/7XkF8C/lXJoxYGYPA0tyQnBxCrFQJT1Rtgc8\n",
       "40h2HUu5pmpNpUc+t3/rGvCNkk+aWXJTSeB4M5IBur7hy/rYkLuIqkDbxrtAAIzaJeEAAAGFQZrG\n",
       "SeEPJlMCCP/+tSqAA9W1MvxCc5AAgosOb/sF07DjQuRm9IA4GecYRw+nmmoYT8pAU4KpHMgw4WrV\n",
       "ZoxBoFB90VdX7uPVRQ58ifZYmeH38x6LN1RlwjRlmXUHGLLuM/FXhNhS/kbdVJN7hfVscHd+aIff\n",
       "0uIHPTK6wL4iUL2QSqKICrUTdRqk2mfkzLBIvsFbJs5m1L+gXihJ7focUwRvacQF1MWjRhboy2yZ\n",
       "B5ZkoAWWbRqUWu/Al2X90pCNpq2A/g28LumebREBidLg2T88LjOu8ROSZSMo0YAYL5iEUZlXdURc\n",
       "gOuDR1I/Plv2SCrzSAXaZW/79dV1OoIJQSHX1wvY6tXiBLh44p3tpWzdzyEfSNkNHm5IQ3Qaazen\n",
       "zVz/JLawt6l+8Q3gvvrc1i/EmlcfSw4QcHLPB7S9FmbPW8LfsrISFx4cxaDrpxjECkPk9mvDFhxA\n",
       "byN+2T9lioprrRzQFHLrCVNm+mOJfDOQePXoMrosXszgnjsMhffMq0lKCHkAAAGHQZrnSeEPJlMC\n",
       "CP/+tSqABMfv2yteE0vEQ/4QH/F3oneaytnQCXWwyUAAhxagrzLqCWh/YQukzYeENW/GYYTrGqJ+\n",
       "DwLHtsljhEVuAzbNjwzlenmBfc+QbXP25Hnd5WERWZRmCTZk1c9yYca03CUC2SZrpNh1auzg54nA\n",
       "i4eiZTWIYMVmYPgZ/fmBL+7BTv2Yjfwdg8nIUZ+9kmKiCg6/fEZ0K9bY2df4GnM6OQpgIsBZYpe4\n",
       "FwtPsjohrfz1a/LS19m5tEJEZq1q0saUS4AB0TDtPdNYKAlzYbx+NIXHzBoylaXCaZeBSXKi7YUO\n",
       "o2uHUz9PEE0kfw4/O2wwo5deoKXKJe7/lsLuRGp3CCMZ4QToXZiuvSKFjah0vVFkscRPWbuxttgp\n",
       "XwJZn+oXGSA0OLxjOqtECPIunthOFG527dbfKqHUq71nXBwHVvOGTzHp9Ch+5r5BxFm/jyMUJ7CQ\n",
       "/6hep+j44njRpKHUYYf//VZ50lwU1s4u1ARxVaHafIlQU+8gYYEh/wAAAXFBmwhJ4Q8mUwIIf/6q\n",
       "VQAJD9VNTXd3xafIXJAQ4gluxcA0mgKpXaDw7X9a5h////8o1IRgpWqJ5LqI4FW43qWYK71JcMVE\n",
       "kCDyf+iE0VAqzEFkA5f7GIMn5wlMpA7IAAcI7IyNRny6j5nqqOz3zyMhDchK0JRUh8XC+ydE3El/\n",
       "sPE7rtjwyQxU0pEJPNdXgtoq9MLHjZaerJDsC2bS++pCSw7zA34awonlY2kCnzg4alM6kOrA7QA5\n",
       "lxjuWhjpndeY6Z8RmRzjNszbRV9wvwS2nGgAGDiOQAsTACTBiwAztxv7YaaWV7GiF0CFhAFIHPRB\n",
       "3OIfMHegwCNY+Sjmu4lYU46qxa9mSpxqkBJSwZAV8l4UyG/k/NpTNxQAZVPBbTcIZi/wL+djZ7op\n",
       "J6TItBPsal7P3ZBTarUjkqnkywdf8/HqRVjgrtmQ+JhigZtoFBpVpZ0X2B0selI+ENQQ5M58rbxH\n",
       "p9M2lzd+duDH1Nb/AhYAAACaQZsqSeEPJlMFETwT//61KoAB6HYSbAfpf59WRcXiFX+iw/TiAWVe\n",
       "hXZjIAF0gwf/v7P7oYKMKbkMKKALkDaogsvXiCy1mR5/FsRmKcOSrDjnBLm998crspzo0PmvMH19\n",
       "an7VW9FWHIa4McoUWR49DC1JvXyhWEyrTL3HNb7PHwen+W7+bn5NOqBtfi4vRxFhGkw75eqA6riU\n",
       "DgAAADcBn0lqQ/8ADX1K4W1UMch4HzidmNE3Ias/LJyMgw8R8f1Z2o7BlqhVcspdpKQruNhyr0zk\n",
       "YLKBAAAAQkGbTknhDyZTAgl//rUqgAAAAwAnIX+gTYiQ238XIgoAPMo/afn54ftCEPdnIHpZ6fDH\n",
       "5mDh6qmjuOSppFEAEFEb0AAAACFBn2xFETwQ/wAGHiRi0Ja848loATogiugxV5YJpzhn0LwAAAAa\n",
       "AZ+LdEP/AAADAGHuk1+ykcTavsuVp64B2VEAAAATAZ+NakP/AAADAGH8d5gRV6qr9QAAABhBm5JJ\n",
       "qEFomUwIIf/+qlUAAAMAAAMAG1EAAAAZQZ+wRREsEP8ABh4kYtCWwCiWmG0C1k+iGgAAABMBn890\n",
       "Q/8AAAMAYe6TXhSfXfnIAAAAEwGf0WpD/wAAAwBh/HeYEVeqq/UAAAAYQZvTSahBbJlMCH///qmW\n",
       "AAADAAADAGrAAAAD421vb3YAAABsbXZoZAAAAAAAAAAAAAAAAAAAA+gAAA+gAAEAAAEAAAAAAAAA\n",
       "AAAAAAABAAAAAAAAAAAAAAAAAAAAAQAAAAAAAAAAAAAAAAAAQAAAAAAAAAAAAAAAAAAAAAAAAAAA\n",
       "AAAAAAAAAAAAAAIAAAMNdHJhawAAAFx0a2hkAAAAAwAAAAAAAAAAAAAAAQAAAAAAAA+gAAAAAAAA\n",
       "AAAAAAAAAAAAAAABAAAAAAAAAAAAAAAAAAAAAQAAAAAAAAAAAAAAAAAAQAAAAAJYAAABkAAAAAAA\n",
       "JGVkdHMAAAAcZWxzdAAAAAAAAAABAAAPoAAAEAAAAQAAAAAChW1kaWEAAAAgbWRoZAAAAAAAAAAA\n",
       "AAAAAAAAKAAAAKAAVcQAAAAAAC1oZGxyAAAAAAAAAAB2aWRlAAAAAAAAAAAAAAAAVmlkZW9IYW5k\n",
       "bGVyAAAAAjBtaW5mAAAAFHZtaGQAAAABAAAAAAAAAAAAAAAkZGluZgAAABxkcmVmAAAAAAAAAAEA\n",
       "AAAMdXJsIAAAAAEAAAHwc3RibAAAALhzdHNkAAAAAAAAAAEAAACoYXZjMQAAAAAAAAABAAAAAAAA\n",
       "AAAAAAAAAAAAAAJYAZAASAAAAEgAAAAAAAAAAQAAAAAAAAAAAAAAAAAAAAAAAAAAAAAAAAAAAAAA\n",
       "AAAAABj//wAAADZhdmNDAWQAFv/hABlnZAAWrNlAmDPl4QAAAwABAAADAAoPFi2WAQAGaOvjyyLA\n",
       "/fj4AAAAABx1dWlka2hA8l8kT8W6OaUbzwMj8wAAAAAAAAAYc3R0cwAAAAAAAAABAAAAFAAACAAA\n",
       "AAAUc3RzcwAAAAAAAAABAAAAAQAAAHBjdHRzAAAAAAAAAAwAAAAJAAAQAAAAAAEAABgAAAAAAQAA\n",
       "CAAAAAABAAAoAAAAAAEAABAAAAAAAQAAAAAAAAABAAAIAAAAAAEAACgAAAAAAQAAEAAAAAABAAAA\n",
       "AAAAAAEAAAgAAAAAAQAAEAAAAAAcc3RzYwAAAAAAAAABAAAAAQAAABQAAAABAAAAZHN0c3oAAAAA\n",
       "AAAAAAAAABQAAAnVAAABwAAAAogAAAHuAAABLwAAAXwAAAGJAAABiwAAAXUAAACeAAAAOwAAAEYA\n",
       "AAAlAAAAHgAAABcAAAAcAAAAHQAAABcAAAAXAAAAHAAAABRzdGNvAAAAAAAAAAEAAAAwAAAAYnVk\n",
       "dGEAAABabWV0YQAAAAAAAAAhaGRscgAAAAAAAAAAbWRpcmFwcGwAAAAAAAAAAAAAAAAtaWxzdAAA\n",
       "ACWpdG9vAAAAHWRhdGEAAAABAAAAAExhdmY1OC43Ni4xMDA=\n",
       "\">\n",
       "  Your browser does not support the video tag.\n",
       "</video>"
      ],
      "text/plain": [
       "<IPython.core.display.HTML object>"
      ]
     },
     "execution_count": 6,
     "metadata": {},
     "output_type": "execute_result"
    }
   ],
   "source": [
    "width = 10 # 1000\n",
    "height = 10 # 2000\n",
    "#spread_dimension = int(math.sqrt(width) / 6) * 2 + 3\n",
    "spread_dimension = 11\n",
    "print(spread_dimension)\n",
    "infection_seeds = 3 * max(int(width / 30), 1)\n",
    "p_transmission = 0.25\n",
    "# seeds 1*, 0.15 looks good for ccr\n",
    "# seeds 3*, 0.25 looks good for tylcv\n",
    "env = EpidemicSpreadEnvironment(\"crop\", width, height, seed=1, infection_duration = 5, \n",
    "                                p_transmission = p_transmission, spread_dimension=spread_dimension, \n",
    "                                infection_seeds = infection_seeds)\n",
    "anim = animate_environment(env, frames=20, interval=200)\n",
    "plt.show()\n",
    "HTML(anim.to_html5_video())"
   ]
  },
  {
   "cell_type": "markdown",
   "id": "4db99326",
   "metadata": {},
   "source": [
    "# Soil moisture"
   ]
  },
  {
   "cell_type": "code",
   "execution_count": null,
   "id": "165a66b8",
   "metadata": {
    "scrolled": false
   },
   "outputs": [],
   "source": [
    "senv = SoilMoistureEnvironment(\"soil\", 10, 10, seed=1, \n",
    "                               evaporation = 0.04, rainfall=0.06, rain_likelihood = 0.8)\n",
    "# this only works in Jupyter notebook proper, not in vscode\n",
    "anim = animate_environment(senv, frames=100, interval=100)\n",
    "plt.show()\n",
    "HTML(anim.to_html5_video())"
   ]
  },
  {
   "cell_type": "code",
   "execution_count": null,
   "id": "bbf5a7cc",
   "metadata": {},
   "outputs": [],
   "source": [
    "# experiment for Miniberry-10\n",
    "seed = 3\n",
    "for size in [10, 30, 100, 400]:\n",
    "    senv = SoilMoistureEnvironment(\"soil\", size, size, seed=seed, \n",
    "                                   evaporation = 0.04, rainfall=0.05, rain_likelihood = 0.8, warmup_time = 100)\n",
    "    fig, (ax_0, ax_100) = plt.subplots(1,2)\n",
    "    ax_0.imshow(senv.value, vmin=0, vmax=1, origin=\"lower\", cmap=\"gray\")\n",
    "    for i in range(100):\n",
    "        senv.proceed(1.0)\n",
    "    ax_100.imshow(senv.value, vmin=0, vmax=1, origin=\"lower\", cmap=\"gray\")"
   ]
  },
  {
   "cell_type": "markdown",
   "id": "a9755853",
   "metadata": {},
   "source": [
    "## Testing the speed\n",
    "Trying out different sizes of EpidemicSpreadEnvironment and DissipationModelEnvironment, and testing how long the creation and the proceed operation takes on them"
   ]
  },
  {
   "cell_type": "code",
   "execution_count": null,
   "id": "1d4d5711",
   "metadata": {},
   "outputs": [],
   "source": [
    "for i in [10, 50, 100, 200, 400, 1000, 2000, 4000]:\n",
    "    env = EpidemicSpreadEnvironment(\"crop\", i, i, seed=40, infection_duration = 5, p_transmission = 0.1)\n",
    "    env.status[i // 2, i // 2] = 2\n",
    "    env.status[(3*i) // 4, (3*i) // 4] = 5\n",
    "    timeval = timeit.timeit(\"env.proceed(1.0)\", number=1, globals=globals())\n",
    "    print(f\"map of size {i}x{i} a proceed took {timeval:0.2} seconds\")\n",
    "# trying out different sizes of DissipationModelEnvironment\n",
    "print(\"DissipationModelEnvironment\")\n",
    "for i in [10, 50, 100, 200, 400, 1000, 2000, 4000]:\n",
    "    env = DissipationModelEnvironment(\"pollution\", i, i, seed=40)\n",
    "    # env.status[i // 2, i // 2] = 2\n",
    "    # env.status[(3*i) // 4, (3*i) // 4] = 5\n",
    "    timeval = timeit.timeit(\"env.proceed(1.0)\", number=1, globals=globals())\n",
    "    print(f\"map of size {i}x{i} a proceed took {timeval:0.2} seconds\")"
   ]
  },
  {
   "cell_type": "markdown",
   "id": "bf9c9f21",
   "metadata": {},
   "source": [
    "# PrecalculatedEnvironment\n",
    "Testing that we can create a PrecalculatedEnvironment with an EpidemicSpreadEnvironment embedded, save it, load it back and visualize it."
   ]
  },
  {
   "cell_type": "code",
   "execution_count": null,
   "id": "7f059abb",
   "metadata": {},
   "outputs": [],
   "source": [
    "p = pathlib.Path.cwd().parent.parent.parent\n",
    "#print(p)\n",
    "savedir = pathlib.Path(p.parent, \"__Temporary\", p.name + \"_data\", \"experiments\")\n",
    "#print(savedir)\n",
    "savedir.mkdir(parents=True, exist_ok = True)\n",
    "shutil.rmtree(savedir)\n",
    "savedir.mkdir(parents=True, exist_ok = True)\n",
    "\n",
    "height = 20 # was 2000\n",
    "width = 20 # was 2000\n",
    "env = EpidemicSpreadEnvironment(\"crop\", width, height, seed=40, infection_duration = 5, p_transmission = 0.1)\n",
    "env.status[width // 2, height // 2] = 2\n",
    "env.status[(3*width) // 4, (3*height) // 4] = 5\n",
    "precenv = PrecalculatedEnvironment(width,height, env, savedir)\n",
    "for t in range(0, 100):\n",
    "    precenv.proceed(1.0)\n",
    "\n",
    "## reloading\n",
    "pe = PrecalculatedEnvironment(width, height, None, savedir)\n",
    "anim = animate_environment(pe)\n",
    "plt.show()"
   ]
  }
 ],
 "metadata": {
  "kernelspec": {
   "display_name": "Python 3.8.8 ('base')",
   "language": "python",
   "name": "python3"
  },
  "language_info": {
   "codemirror_mode": {
    "name": "ipython",
    "version": 3
   },
   "file_extension": ".py",
   "mimetype": "text/x-python",
   "name": "python",
   "nbconvert_exporter": "python",
   "pygments_lexer": "ipython3",
   "version": "3.8.8"
  },
  "vscode": {
   "interpreter": {
    "hash": "13140b3b9092b9a26a4b55ddc500d8b0c9f21b15e8ef2dd16bed19d6074a1e03"
   }
  }
 },
 "nbformat": 4,
 "nbformat_minor": 5
}
