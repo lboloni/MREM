{
 "cells": [
  {
   "cell_type": "code",
   "execution_count": null,
   "metadata": {},
   "outputs": [],
   "source": [
    "# allow imports from the main source directory\n",
    "import sys\n",
    "sys.path.append('..')\n",
    "import logging\n",
    "logging.basicConfig(level=logging.WARNING)\n",
    "# logging.basicConfig(level=logging.INFO)\n",
    "#logging.getLogger().setLevel(logging.INFO)\n",
    "import matplotlib.pyplot as plt\n",
    "from matplotlib.path import Path\n",
    "import matplotlib.patches as patches\n",
    "import numpy as np\n",
    "\n",
    "from PathGenerators import generate_lawnmower_with_control_points_v1, generate_lawnmower, generate_lawnmower_path_v2, add_control_points_v2, generate_spiral_path, find_fixed_budget_lawnmower\n",
    "from PathGeneratorsIrregular import planning"
   ]
  },
  {
   "cell_type": "code",
   "execution_count": null,
   "metadata": {},
   "outputs": [],
   "source": [
    "def visualize_path_and_control_points(pointlist, control_points, area=[]):\n",
    "    \"\"\"Visualize a path (specified as a list of waypoints) and a set of control points (which might have been part of the specification)\n",
    "    :param area \"\"\"\n",
    "    # plot the generated path\n",
    "    fig, ax = plt.subplots(1,1, figsize=(5,5))\n",
    "    xlim_min, xlim_max = np.min(pointlist[:,0])-2, np.max(pointlist[:,0])+2\n",
    "    ylim_min, ylim_max = np.min(pointlist[:,1])-2, np.max(pointlist[:,1])+2\n",
    "    # if specified, add the area, and extend the plot \n",
    "    if len(area) > 0:\n",
    "        areapath = Path(area)\n",
    "        ax.add_patch(patches.PathPatch(areapath, fill=True, facecolor=\"yellow\"))\n",
    "        xlim_min, xlim_max = np.min(area[:,0])-2, np.max(area[:,0])+2\n",
    "        ylim_min, ylim_max = np.min(area[:,1])-2, np.max(area[:,1])+2\n",
    "\n",
    "    ax.set_xlim(xlim_min, xlim_max)\n",
    "    ax.set_ylim(ylim_min, ylim_max)\n",
    "    # add the trajectory\n",
    "    path = Path(pointlist)\n",
    "    ax.add_patch(patches.PathPatch(path, fill=False))\n",
    "    # add the control points\n",
    "    for ep in control_points:\n",
    "        ax.add_patch(patches.Circle(ep, radius=0.01 * (xlim_max - xlim_min)))\n",
    "    plt.show()\n",
    "    return ax\n",
    "\n",
    "def visualize_arrowpath_and_control_points(pointlist, control_points):\n",
    "    \"\"\"Visualize a path (specified as a list of waypoints) and a set of control points (which might have been part of the specification)\"\"\"\n",
    "    # plot the generated path\n",
    "    fig, ax = plt.subplots(1,1, figsize=(5,5))\n",
    "    # add the trajectory\n",
    "    # path = Path(pointlist)\n",
    "    # ax.add_patch(patches.PathPatch(path, fill=False))\n",
    "    previous_point = None\n",
    "    for point in pointlist:\n",
    "        if previous_point is not None:\n",
    "            ax.add_patch(patches.Arrow(previous_point[0], previous_point[1], point[0] - previous_point[0], point[1] - previous_point[1]))     \n",
    "        previous_point = point   \n",
    "    # add the epidemic points\n",
    "    for ep in control_points:\n",
    "        ax.add_patch(patches.Circle(ep, radius=0.3))\n",
    "    ax.set_xlim(np.min(pointlist[:,0])-2, np.max(pointlist[:,0])+2)\n",
    "    ax.set_ylim(np.min(pointlist[:,1])-2, np.max(pointlist[:,1])+2)\n",
    "    plt.show()"
   ]
  },
  {
   "cell_type": "markdown",
   "metadata": {},
   "source": [
    "### Sam Matloob's lawnmower code from February 2022 (lawnmower with control points)"
   ]
  },
  {
   "cell_type": "code",
   "execution_count": null,
   "metadata": {},
   "outputs": [],
   "source": [
    "control_points = np.array([(8, 5), (9, 3), (5, 2), (3,0),(6,0)])\n",
    "path= generate_lawnmower_with_control_points_v1(x_min=0, x_max=9, x_step=2, y_min=0, y_max=9, y_step=2, control_points = control_points, coverage_distance = 1)\n",
    "visualize_path_and_control_points(path, control_points)\n",
    "visualize_arrowpath_and_control_points(path, control_points)"
   ]
  },
  {
   "cell_type": "markdown",
   "metadata": {},
   "source": [
    "### Lotzi Bölöni's lawnmower code from September 2022"
   ]
  },
  {
   "cell_type": "code",
   "execution_count": null,
   "metadata": {},
   "outputs": [],
   "source": [
    "path= generate_lawnmower(x_min=0, x_max=9, y_min=0, y_max=9, winds = 10)\n",
    "visualize_path_and_control_points(path, [])"
   ]
  },
  {
   "cell_type": "code",
   "execution_count": null,
   "metadata": {},
   "outputs": [],
   "source": [
    "path = find_fixed_budget_lawnmower([0, 0], x_min=0, x_max=9, y_min=0, y_max=9, velocity=1,  time=1000)\n",
    "visualize_path_and_control_points(path, [])"
   ]
  },
  {
   "cell_type": "markdown",
   "metadata": {},
   "source": [
    "### Sam Matloob's newer code\n",
    "Lotzi: I think that this is again does something weird, it seems to go back for the control point..."
   ]
  },
  {
   "cell_type": "code",
   "execution_count": null,
   "metadata": {},
   "outputs": [],
   "source": [
    "\n",
    "test1= generate_lawnmower_path_v2(0, 9, 2, 0, 9, 2)\n",
    "control_points = np.array([[8, 5], [9, 3], [5, 2], [3,0],[6,0], [3,0.5]])\n",
    "test2= add_control_points_v2(test1, control_points)\n",
    "path = np.array(test2)\n",
    "visualize_path_and_control_points(path, [])\n",
    "visualize_arrowpath_and_control_points(path, [])"
   ]
  },
  {
   "cell_type": "markdown",
   "metadata": {},
   "source": [
    "### The code for the spiral implementation by Partha Datta"
   ]
  },
  {
   "cell_type": "code",
   "execution_count": null,
   "metadata": {},
   "outputs": [],
   "source": [
    "path = generate_spiral_path(x_max = 9, y_max = 9, x_min = 0, y_min = 0)\n",
    "path = np.array(path)\n",
    "visualize_path_and_control_points(path, [])\n"
   ]
  },
  {
   "cell_type": "markdown",
   "metadata": {},
   "source": [
    "### The code from PathGeneratorsIrregular"
   ]
  },
  {
   "cell_type": "code",
   "execution_count": null,
   "metadata": {},
   "outputs": [],
   "source": [
    "ox = [0.0, 20.0, 50.0, 100.0, 130.0, 40.0, 0.0]\n",
    "oy = [0.0, -20.0, 0.0, 30.0, 60.0, 80.0, 0.0]\n",
    "resolution = 5.0 # was 5.0\n",
    "px, py = planning(ox, oy, resolution)\n",
    "path = np.array(list(zip(px, py)))\n",
    "area = np.array(list(zip(ox,oy)))\n",
    "visualize_path_and_control_points(path, [], area)\n"
   ]
  },
  {
   "cell_type": "code",
   "execution_count": null,
   "metadata": {},
   "outputs": [],
   "source": [
    "from sklearn.gaussian_process.kernels import RBF\n",
    "\n",
    "kernel = RBF(1.0)\n",
    "print(kernel([0],[0]))"
   ]
  },
  {
   "cell_type": "code",
   "execution_count": null,
   "metadata": {},
   "outputs": [],
   "source": []
  },
  {
   "cell_type": "code",
   "execution_count": null,
   "metadata": {},
   "outputs": [],
   "source": []
  }
 ],
 "metadata": {
  "interpreter": {
   "hash": "31f2aee4e71d21fbe5cf8b01ff0e069b9275f58929596ceb00d14d90e3e16cd6"
  },
  "kernelspec": {
   "display_name": "Python 3.8.10 64-bit",
   "language": "python",
   "name": "python3"
  },
  "language_info": {
   "codemirror_mode": {
    "name": "ipython",
    "version": 3
   },
   "file_extension": ".py",
   "mimetype": "text/x-python",
   "name": "python",
   "nbconvert_exporter": "python",
   "pygments_lexer": "ipython3",
   "version": "3.10.4"
  },
  "orig_nbformat": 4
 },
 "nbformat": 4,
 "nbformat_minor": 2
}
