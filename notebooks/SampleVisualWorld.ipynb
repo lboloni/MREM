{
 "cells": [
  {
   "cell_type": "markdown",
   "id": "thick-banana",
   "metadata": {},
   "source": [
    "# VisualWorld example\n",
    "\n",
    "* An example notebook for the use of the VisualWorld interface for interactive control of robots "
   ]
  },
  {
   "cell_type": "code",
   "execution_count": 1,
   "id": "liquid-theology",
   "metadata": {},
   "outputs": [
    {
     "ename": "ModuleNotFoundError",
     "evalue": "No module named 'LoggingSetup'",
     "output_type": "error",
     "traceback": [
      "\u001b[0;31m---------------------------------------------------------------------------\u001b[0m",
      "\u001b[0;31mModuleNotFoundError\u001b[0m                       Traceback (most recent call last)",
      "Input \u001b[0;32mIn [1]\u001b[0m, in \u001b[0;36m<cell line: 3>\u001b[0;34m()\u001b[0m\n\u001b[1;32m      1\u001b[0m get_ipython()\u001b[38;5;241m.\u001b[39mrun_line_magic(\u001b[38;5;124m'\u001b[39m\u001b[38;5;124mmatplotlib\u001b[39m\u001b[38;5;124m'\u001b[39m, \u001b[38;5;124m'\u001b[39m\u001b[38;5;124minline\u001b[39m\u001b[38;5;124m'\u001b[39m)\n\u001b[0;32m----> 3\u001b[0m \u001b[38;5;28;01mimport\u001b[39;00m \u001b[38;5;21;01mLoggingSetup\u001b[39;00m\n\u001b[1;32m      4\u001b[0m \u001b[38;5;28;01mimport\u001b[39;00m \u001b[38;5;21;01mlogging\u001b[39;00m\n\u001b[1;32m      6\u001b[0m \u001b[38;5;28;01mimport\u001b[39;00m \u001b[38;5;21;01mitertools\u001b[39;00m\n",
      "\u001b[0;31mModuleNotFoundError\u001b[0m: No module named 'LoggingSetup'"
     ]
    }
   ],
   "source": [
    "%matplotlib inline\n",
    "\n",
    "import LoggingSetup\n",
    "import logging\n",
    "\n",
    "import itertools\n",
    "import numpy as np\n",
    "#import ast\n",
    "import math\n",
    "import random\n",
    "from functools import partial\n",
    "from io import BytesIO\n",
    "import pathlib\n",
    "from IPython.display import display\n",
    "\n",
    "from World import World, WorldFactory\n",
    "\n",
    "# imports of the various objects of our model\n",
    "from Environment import Environment, DissipationModelEnvironment, EpidemicSpreadEnvironment\n",
    "from InformationModel import InformationModel, GaussianProcessScalarFieldIM\n",
    "from Robot import Robot\n",
    "from Policy import GoToLocationPolicy, FollowPathPolicy, RandomWaypointPolicy, \\\n",
    "    AbstractWaypointPolicy, generate_lawnmower, InformationGreedyPolicy, generate_lawnmower\n",
    "from VisualWorld import VisualWorld\n"
   ]
  },
  {
   "cell_type": "markdown",
   "id": "delayed-hollywood",
   "metadata": {},
   "source": [
    "# Create the world. \n",
    "In this section, we create a world, its environment, add some robots, associate policies with them. \n",
    "Then we ask the VisualWorld object object to present an interface to them. "
   ]
  },
  {
   "cell_type": "code",
   "execution_count": 2,
   "id": "turkish-skating",
   "metadata": {},
   "outputs": [
    {
     "ename": "NameError",
     "evalue": "name 'WorldFactory' is not defined",
     "output_type": "error",
     "traceback": [
      "\u001b[0;31m---------------------------------------------------------------------------\u001b[0m",
      "\u001b[0;31mNameError\u001b[0m                                 Traceback (most recent call last)",
      "Input \u001b[0;32mIn [2]\u001b[0m, in \u001b[0;36m<cell line: 1>\u001b[0;34m()\u001b[0m\n\u001b[0;32m----> 1\u001b[0m world \u001b[38;5;241m=\u001b[39m \u001b[43mWorldFactory\u001b[49m\u001b[38;5;241m.\u001b[39mgenerate_world_pretrained_static_pollution()\n\u001b[1;32m      2\u001b[0m robot \u001b[38;5;241m=\u001b[39m Robot(\u001b[38;5;124m\"\u001b[39m\u001b[38;5;124mRobi\u001b[39m\u001b[38;5;124m\"\u001b[39m, \u001b[38;5;241m2\u001b[39m, \u001b[38;5;241m3\u001b[39m, \u001b[38;5;241m0\u001b[39m, env\u001b[38;5;241m=\u001b[39mworld\u001b[38;5;241m.\u001b[39menv, im\u001b[38;5;241m=\u001b[39mworld\u001b[38;5;241m.\u001b[39mim)\n\u001b[1;32m      3\u001b[0m \u001b[38;5;66;03m# path = generate_lawnmower(0, 10, 0, 10, 5)\u001b[39;00m\n\u001b[1;32m      4\u001b[0m \u001b[38;5;66;03m# robot.policy = FollowPathPolicy(None, robot, 1, path, repeat = True)\u001b[39;00m\n\u001b[1;32m      5\u001b[0m \u001b[38;5;66;03m# robot.policy = GoToLocationPolicy(None, robot, 9, 9, 0.2)\u001b[39;00m\n\u001b[1;32m      6\u001b[0m \u001b[38;5;66;03m# robot.policy = \u001b[39;00m\n",
      "\u001b[0;31mNameError\u001b[0m: name 'WorldFactory' is not defined"
     ]
    }
   ],
   "source": [
    "world = WorldFactory.generate_world_pretrained_static_pollution()\n",
    "robot = Robot(\"Robi\", 2, 3, 0, env=world.env, im=world.im)\n",
    "# path = generate_lawnmower(0, 10, 0, 10, 5)\n",
    "# robot.policy = FollowPathPolicy(None, robot, 1, path, repeat = True)\n",
    "# robot.policy = GoToLocationPolicy(None, robot, 9, 9, 0.2)\n",
    "# robot.policy = \n",
    "world.add_robot(robot)\n",
    "robot = Robot(\"Robur\", 4, 8, 0, env=world.env, im=world.im)\n",
    "#robot.policy = RandomWaypointPolicy(None, robot, 1, [0,0], [9, 9], seed=1)\n",
    "world.add_robot(robot)\n",
    "\n",
    "#robot = Robot(\"R2D3\", 5, 9, 0, env=env, im=im)\n",
    "#robot.policy = FollowPathPolicy(None, robot, 1, [[0,0], [5, 5], [9,0]], repeat = True)\n",
    "#world.add_robot(robot)\n",
    "visual_world = VisualWorld(world)"
   ]
  },
  {
   "cell_type": "code",
   "execution_count": null,
   "id": "9409de38",
   "metadata": {},
   "outputs": [],
   "source": []
  }
 ],
 "metadata": {
  "kernelspec": {
   "display_name": "Python 3 (ipykernel)",
   "language": "python",
   "name": "python3"
  },
  "language_info": {
   "codemirror_mode": {
    "name": "ipython",
    "version": 3
   },
   "file_extension": ".py",
   "mimetype": "text/x-python",
   "name": "python",
   "nbconvert_exporter": "python",
   "pygments_lexer": "ipython3",
   "version": "3.10.4"
  }
 },
 "nbformat": 4,
 "nbformat_minor": 5
}
