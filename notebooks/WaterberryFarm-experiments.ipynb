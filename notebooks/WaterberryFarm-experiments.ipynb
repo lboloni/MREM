{
 "cells": [
  {
   "cell_type": "markdown",
   "metadata": {},
   "source": [
    "# Experiments with the WaterberryFarm classes"
   ]
  },
  {
   "cell_type": "code",
   "execution_count": 13,
   "metadata": {},
   "outputs": [],
   "source": [
    "# allow imports from the main source directory\n",
    "import sys\n",
    "sys.path.append('..')\n",
    "\n",
    "import matplotlib.pyplot as plt\n",
    "import matplotlib.patches as patches\n",
    "from matplotlib.patches import Polygon\n",
    "from matplotlib.collections import PatchCollection\n",
    "from matplotlib.path import Path\n",
    "from matplotlib import animation\n",
    "from functools import partial\n",
    "import numpy as np\n",
    "import math\n",
    "import bz2\n",
    "import unittest\n",
    "import timeit\n",
    "import pathlib \n",
    "import pickle\n",
    "import copy\n",
    "import logging\n",
    "# logging.basicConfig(level=logging.WARNING)\n",
    "logging.basicConfig(level=logging.INFO)\n",
    "logging.getLogger().setLevel(logging.INFO)\n",
    "\n",
    "from Environment import Environment, EpidemicSpreadEnvironment, DissipationModelEnvironment, PrecalculatedEnvironment\n",
    "from InformationModel import StoredObservationIM, GaussianProcessScalarFieldIM, DiskEstimateScalarFieldIM, im_score, im_score_weighted\n",
    "\n",
    "from WaterberryFarm import WaterberryFarmInformationModel, create_wbfe, waterberry_score\n"
   ]
  },
  {
   "cell_type": "markdown",
   "metadata": {},
   "source": [
    "## Verifying that the mask is working correctly."
   ]
  },
  {
   "cell_type": "code",
   "execution_count": 15,
   "metadata": {},
   "outputs": [
    {
     "name": "stderr",
     "output_type": "stream",
     "text": [
      "INFO:root:loading the geometry and environment from saved data\n",
      "INFO:root:loading done\n",
      "INFO:root:Infection matrix: [0.         0.5        0.75       0.875      0.9375     0.96875\n",
      " 0.984375   0.9921875  0.99609375 0.99804688 0.99902344 0.99951172\n",
      " 0.99975586 0.99987793 0.99993896 0.99996948 0.99998474 0.99999237\n",
      " 0.99999619 0.99999809 0.99999905 0.99999952 0.99999976 0.99999988\n",
      " 0.99999994 0.99999997 0.99999999 0.99999999 1.         1.\n",
      " 1.         1.         1.         1.         1.         1.\n",
      " 1.         1.         1.         1.         1.         1.\n",
      " 1.         1.         1.         1.         1.         1.\n",
      " 1.         1.         1.         1.         1.         1.\n",
      " 1.         1.         1.         1.         1.         1.\n",
      " 1.         1.         1.         1.         1.         1.\n",
      " 1.         1.         1.         1.         1.         1.\n",
      " 1.         1.         1.         1.         1.         1.\n",
      " 1.         1.         1.         1.         1.         1.\n",
      " 1.         1.         1.         1.         1.         1.\n",
      " 1.         1.         1.         1.         1.         1.\n",
      " 1.         1.         1.         1.         1.         1.\n",
      " 1.         1.         1.         1.         1.         1.\n",
      " 1.         1.         1.         1.         1.         1.\n",
      " 1.         1.         1.         1.         1.         1.\n",
      " 1.        ]\n",
      "INFO:root:Infection matrix: [0.         0.1        0.19       0.271      0.3439     0.40951\n",
      " 0.468559   0.5217031  0.56953279 0.61257951 0.65132156 0.6861894\n",
      " 0.71757046 0.74581342 0.77123208 0.79410887 0.81469798 0.83322818\n",
      " 0.84990536 0.86491483 0.87842335 0.89058101 0.90152291 0.91137062\n",
      " 0.92023356 0.9282102  0.93538918 0.94185026 0.94766524 0.95289871\n",
      " 0.95760884 0.96184796 0.96566316 0.96909685 0.97218716 0.97496844\n",
      " 0.9774716  0.97972444 0.981752   0.9835768  0.98521912 0.98669721\n",
      " 0.98802748 0.98922474 0.99030226 0.99127204 0.99214483 0.99293035\n",
      " 0.99363731 0.99427358 0.99484622 0.9953616  0.99582544 0.9962429\n",
      " 0.99661861 0.99695675 0.99726107 0.99753497 0.99778147 0.99800332\n",
      " 0.99820299 0.99838269 0.99854442 0.99868998 0.99882098 0.99893888\n",
      " 0.999045   0.9991405  0.99922645 0.9993038  0.99937342 0.99943608\n",
      " 0.99949247 0.99954322 0.9995889  0.99963001 0.99966701 0.99970031\n",
      " 0.99973028 0.99975725 0.99978153 0.99980337 0.99982304 0.99984073\n",
      " 0.99985666 0.99987099 0.99988389 0.9998955  0.99990595 0.99991536\n",
      " 0.99992382 0.99993144 0.9999383  0.99994447 0.99995002 0.99995502\n",
      " 0.99995952 0.99996356 0.99996721 0.99997049 0.99997344 0.99997609\n",
      " 0.99997849 0.99998064 0.99998257 0.99998432 0.99998588 0.9999873\n",
      " 0.99998857 0.99998971 0.99999074 0.99999166 0.9999925  0.99999325\n",
      " 0.99999392 0.99999453 0.99999508 0.99999557 0.99999601 0.99999641\n",
      " 0.99999677]\n"
     ]
    },
    {
     "data": {
      "image/png": "[encoded data removed]",
      "text/plain": [
       "<Figure size 432x288 with 4 Axes>"
      ]
     },
     "metadata": {
      "needs_background": "light"
     },
     "output_type": "display_data"
    }
   ],
   "source": [
    "wbf, wbfe = create_wbfe(False, None, typename = \"Waterberry\")\n",
    "#wbf, wbfe = load_precalculated_wbfe()\n",
    "#wbfe.visualize()\n",
    "#logging.info(\"Visualize done, proceed to animate\")\n",
    "# This is working at approximately 2 sec per frame for the environment progress. Not very fast, but it should be roughly ok. \n",
    "# anim = wbfe.animate_environment()\n",
    "fig, ((ax1, ax2), (ax3, ax4)) = plt.subplots(2,2)\n",
    "ax1.imshow(wbfe.my_strawberry_mask.T, origin=\"lower\")\n",
    "ax2.imshow(wbfe.my_tomato_mask.T, origin=\"lower\")\n",
    "ax3.imshow(wbfe.my_soil_mask.T, origin=\"lower\")\n",
    "wbfe.geometry.visualize(ax4)\n",
    "\n",
    "plt.show()"
   ]
  },
  {
   "cell_type": "markdown",
   "metadata": {},
   "source": [
    "## Put everything together, measure the score for a set of observations\n"
   ]
  },
  {
   "cell_type": "code",
   "execution_count": 12,
   "metadata": {},
   "outputs": [
    {
     "name": "stderr",
     "output_type": "stream",
     "text": [
      "INFO:root:loading the geometry and environment from saved data\n",
      "INFO:root:loading done\n",
      "INFO:root:Infection matrix: [0.         0.5        0.75       0.875      0.9375     0.96875\n",
      " 0.984375   0.9921875  0.99609375 0.99804688 0.99902344 0.99951172\n",
      " 0.99975586 0.99987793 0.99993896 0.99996948 0.99998474 0.99999237\n",
      " 0.99999619 0.99999809 0.99999905 0.99999952 0.99999976 0.99999988\n",
      " 0.99999994 0.99999997 0.99999999 0.99999999 1.         1.\n",
      " 1.         1.         1.         1.         1.         1.\n",
      " 1.         1.         1.         1.         1.         1.\n",
      " 1.         1.         1.         1.         1.         1.\n",
      " 1.         1.         1.         1.         1.         1.\n",
      " 1.         1.         1.         1.         1.         1.\n",
      " 1.         1.         1.         1.         1.         1.\n",
      " 1.         1.         1.         1.         1.         1.\n",
      " 1.         1.         1.         1.         1.         1.\n",
      " 1.         1.         1.         1.         1.         1.\n",
      " 1.         1.         1.         1.         1.         1.\n",
      " 1.         1.         1.         1.         1.         1.\n",
      " 1.         1.         1.         1.         1.         1.\n",
      " 1.         1.         1.         1.         1.         1.\n",
      " 1.         1.         1.         1.         1.         1.\n",
      " 1.         1.         1.         1.         1.         1.\n",
      " 1.        ]\n",
      "INFO:root:Infection matrix: [0.         0.1        0.19       0.271      0.3439     0.40951\n",
      " 0.468559   0.5217031  0.56953279 0.61257951 0.65132156 0.6861894\n",
      " 0.71757046 0.74581342 0.77123208 0.79410887 0.81469798 0.83322818\n",
      " 0.84990536 0.86491483 0.87842335 0.89058101 0.90152291 0.91137062\n",
      " 0.92023356 0.9282102  0.93538918 0.94185026 0.94766524 0.95289871\n",
      " 0.95760884 0.96184796 0.96566316 0.96909685 0.97218716 0.97496844\n",
      " 0.9774716  0.97972444 0.981752   0.9835768  0.98521912 0.98669721\n",
      " 0.98802748 0.98922474 0.99030226 0.99127204 0.99214483 0.99293035\n",
      " 0.99363731 0.99427358 0.99484622 0.9953616  0.99582544 0.9962429\n",
      " 0.99661861 0.99695675 0.99726107 0.99753497 0.99778147 0.99800332\n",
      " 0.99820299 0.99838269 0.99854442 0.99868998 0.99882098 0.99893888\n",
      " 0.999045   0.9991405  0.99922645 0.9993038  0.99937342 0.99943608\n",
      " 0.99949247 0.99954322 0.9995889  0.99963001 0.99966701 0.99970031\n",
      " 0.99973028 0.99975725 0.99978153 0.99980337 0.99982304 0.99984073\n",
      " 0.99985666 0.99987099 0.99988389 0.9998955  0.99990595 0.99991536\n",
      " 0.99992382 0.99993144 0.9999383  0.99994447 0.99995002 0.99995502\n",
      " 0.99995952 0.99996356 0.99996721 0.99997049 0.99997344 0.99997609\n",
      " 0.99997849 0.99998064 0.99998257 0.99998432 0.99998588 0.9999873\n",
      " 0.99998857 0.99998971 0.99999074 0.99999166 0.9999925  0.99999325\n",
      " 0.99999392 0.99999453 0.99999508 0.99999557 0.99999601 0.99999641\n",
      " 0.99999677]\n",
      "INFO:root:waterberry information model: proceed(1)\n",
      "INFO:root:done waterberry information model: proceed(1)\n",
      "INFO:root:starting to calculate score for waterberry information model\n",
      "INFO:root:Waterberry information model score: 0.0\n"
     ]
    },
    {
     "data": {
      "image/png": "[encoded data removed]",
      "text/plain": [
       "<Figure size 432x288 with 8 Axes>"
      ]
     },
     "metadata": {
      "needs_background": "light"
     },
     "output_type": "display_data"
    }
   ],
   "source": [
    "wbf, wbfe = create_wbfe(False, None, typename = \"Waterberry\")\n",
    "# observation locations\n",
    "# for waterberry\n",
    "# locations = [[10, 10], [500, 500], [1500, 1500]]\n",
    "# for miniberry\n",
    "locations = [[10, 10], [30, 30], [50, 50]]\n",
    "observations = []\n",
    "wbfim = WaterberryFarmInformationModel(\"wbfi\", wbf.width, wbf.height)\n",
    "for location in locations:\n",
    "    x = location[0]\n",
    "    y = location[1]\n",
    "    value_tylcv = wbfe.tylcv.value[x, y]\n",
    "    value_ccr = wbfe.ccr.value[x, y]\n",
    "    value_soil = wbfe.soil.value[x, y]\n",
    "    observation = {}\n",
    "    observation[\"TYLCV\"] = {wbfim.X : x, wbfim.Y : y, wbfim.VALUE : value_tylcv}\n",
    "    observation[\"CCR\"] = {wbfim.X : x, wbfim.Y : y, wbfim.VALUE : value_ccr}\n",
    "    observation[\"Soil\"] = {wbfim.X : x, wbfim.Y : y, wbfim.VALUE : value_soil}\n",
    "    observations.append(observation)\n",
    "for observation in observations:\n",
    "    wbfim.add_observation(observation)\n",
    "logging.info(\"waterberry information model: proceed(1)\")\n",
    "wbfim.proceed(1)\n",
    "logging.info(\"done waterberry information model: proceed(1)\")\n",
    "logging.info(\"starting to calculate score for waterberry information model\")\n",
    "score = waterberry_score(wbfe, wbfim)\n",
    "logging.info(f\"Waterberry information model score: {score}\")\n",
    "# now visualize the environment and the information model\n",
    "fig, axes = plt.subplots(2,4)        \n",
    "wbfe.visualize(fig, axes[0,0], axes[0,1], axes[0,2], axes[0,3])\n",
    "\n",
    "image_im_tylcv = axes[1,1].imshow(wbfim.im_tylcv.value.T, vmin=0, vmax=1, origin=\"lower\")\n",
    "axes[1,1].set_title(\"TYLCV im\")\n",
    "image_im_ccr = axes[1,2].imshow(wbfim.im_ccr.value.T, vmin=0, vmax=1, origin=\"lower\")\n",
    "axes[1,2].set_title(\"CCR im\")\n",
    "image_im_ccr = axes[1,3].imshow(wbfim.im_soil.value.T, vmin=0, vmax=1, origin=\"lower\")\n",
    "axes[1,3].set_title(\"SOIL im\")\n",
    "plt.show()"
   ]
  }
 ],
 "metadata": {
  "interpreter": {
   "hash": "31f2aee4e71d21fbe5cf8b01ff0e069b9275f58929596ceb00d14d90e3e16cd6"
  },
  "kernelspec": {
   "display_name": "Python 3.8.10 64-bit",
   "language": "python",
   "name": "python3"
  },
  "language_info": {
   "codemirror_mode": {
    "name": "ipython",
    "version": 3
   },
   "file_extension": ".py",
   "mimetype": "text/x-python",
   "name": "python",
   "nbconvert_exporter": "python",
   "pygments_lexer": "ipython3",
   "version": "3.8.10"
  },
  "orig_nbformat": 4
 },
 "nbformat": 4,
 "nbformat_minor": 2
}
