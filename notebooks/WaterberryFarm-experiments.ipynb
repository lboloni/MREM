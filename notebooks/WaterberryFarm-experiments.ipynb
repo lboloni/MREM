{
 "cells": [
  {
   "cell_type": "markdown",
   "metadata": {},
   "source": [
    "# Experiments with the WaterberryFarm classes"
   ]
  },
  {
   "cell_type": "code",
   "execution_count": null,
   "metadata": {},
   "outputs": [],
   "source": [
    "# allow imports from the main source directory\n",
    "import sys\n",
    "sys.path.append('..')\n",
    "\n",
    "import matplotlib.pyplot as plt\n",
    "import matplotlib.patches as patches\n",
    "from matplotlib.patches import Polygon\n",
    "from matplotlib.collections import PatchCollection\n",
    "from matplotlib.path import Path\n",
    "from matplotlib import animation\n",
    "from functools import partial\n",
    "import numpy as np\n",
    "import math\n",
    "import bz2\n",
    "import unittest\n",
    "import timeit\n",
    "import pathlib \n",
    "import pickle\n",
    "import copy\n",
    "import logging\n",
    "# logging.basicConfig(level=logging.WARNING)\n",
    "logging.basicConfig(level=logging.INFO)\n",
    "logging.getLogger().setLevel(logging.INFO)\n",
    "\n",
    "from Environment import Environment, EpidemicSpreadEnvironment, DissipationModelEnvironment, PrecalculatedEnvironment\n",
    "from InformationModel import StoredObservationIM, GaussianProcessScalarFieldIM, DiskEstimateScalarFieldIM, im_score, im_score_weighted\n",
    "\n",
    "from WaterberryFarm import WBF_IM_DiskEstimator, create_wbfe, WBF_Score_WeightedAsymmetric\n"
   ]
  },
  {
   "cell_type": "markdown",
   "metadata": {},
   "source": [
    "## Verifying that the mask is working correctly."
   ]
  },
  {
   "cell_type": "code",
   "execution_count": null,
   "metadata": {},
   "outputs": [],
   "source": [
    "wbf, wbfe, savedir = create_wbfe(False, None, typename = \"Waterberry\")\n",
    "#wbf, wbfe = load_precalculated_wbfe()\n",
    "#wbfe.visualize()\n",
    "#logging.info(\"Visualize done, proceed to animate\")\n",
    "# This is working at approximately 2 sec per frame for the environment progress. Not very fast, but it should be roughly ok. \n",
    "# anim = wbfe.animate_environment()\n",
    "fig, ((ax1, ax2), (ax3, ax4)) = plt.subplots(2,2)\n",
    "ax1.imshow(wbfe.my_strawberry_mask.T, origin=\"lower\")\n",
    "ax2.imshow(wbfe.my_tomato_mask.T, origin=\"lower\")\n",
    "ax3.imshow(wbfe.my_soil_mask.T, origin=\"lower\")\n",
    "wbfe.geometry.visualize(ax4)\n",
    "\n",
    "plt.show()"
   ]
  },
  {
   "cell_type": "markdown",
   "metadata": {},
   "source": [
    "## Put everything together, measure the score for a set of observations\n"
   ]
  },
  {
   "cell_type": "code",
   "execution_count": null,
   "metadata": {},
   "outputs": [],
   "source": [
    "wbf, wbfe, savedir = create_wbfe(False, None, typename = \"Waterberry\")\n",
    "# observation locations\n",
    "# for waterberry\n",
    "# locations = [[10, 10], [500, 500], [1500, 1500]]\n",
    "# for miniberry\n",
    "locations = [[10, 10], [30, 30], [50, 50]]\n",
    "observations = []\n",
    "wbfim = WBF_IM_DiskEstimator(wbf.width, wbf.height)\n",
    "for location in locations:\n",
    "    x = location[0]\n",
    "    y = location[1]\n",
    "    value_tylcv = wbfe.tylcv.value[x, y]\n",
    "    value_ccr = wbfe.ccr.value[x, y]\n",
    "    value_soil = wbfe.soil.value[x, y]\n",
    "    observation = {}\n",
    "    observation[\"TYLCV\"] = {wbfim.X : x, wbfim.Y : y, wbfim.VALUE : value_tylcv}\n",
    "    observation[\"CCR\"] = {wbfim.X : x, wbfim.Y : y, wbfim.VALUE : value_ccr}\n",
    "    observation[\"Soil\"] = {wbfim.X : x, wbfim.Y : y, wbfim.VALUE : value_soil}\n",
    "    observations.append(observation)\n",
    "for observation in observations:\n",
    "    wbfim.add_observation(observation)\n",
    "logging.info(\"waterberry information model: proceed(1)\")\n",
    "wbfim.proceed(1)\n",
    "logging.info(\"done waterberry information model: proceed(1)\")\n",
    "logging.info(\"starting to calculate score for waterberry information model\")\n",
    "scorecode = WBF_Score_WeightedAsymmetric()\n",
    "score = scorecode.score(wbfe, wbfim)\n",
    "logging.info(f\"Waterberry information model score: {score}\")\n",
    "# now visualize the environment and the information model\n",
    "fig, axes = plt.subplots(2,4)        \n",
    "wbfe.visualize(fig, axes[0,0], axes[0,1], axes[0,2], axes[0,3])\n",
    "\n",
    "image_im_tylcv = axes[1,1].imshow(wbfim.im_tylcv.value.T, vmin=0, vmax=1, origin=\"lower\")\n",
    "axes[1,1].set_title(\"TYLCV im\")\n",
    "image_im_ccr = axes[1,2].imshow(wbfim.im_ccr.value.T, vmin=0, vmax=1, origin=\"lower\")\n",
    "axes[1,2].set_title(\"CCR im\")\n",
    "image_im_ccr = axes[1,3].imshow(wbfim.im_soil.value.T, vmin=0, vmax=1, origin=\"lower\")\n",
    "axes[1,3].set_title(\"SOIL im\")\n",
    "plt.show()"
   ]
  }
 ],
 "metadata": {
  "interpreter": {
   "hash": "31f2aee4e71d21fbe5cf8b01ff0e069b9275f58929596ceb00d14d90e3e16cd6"
  },
  "kernelspec": {
   "display_name": "Python 3.8.10 64-bit",
   "language": "python",
   "name": "python3"
  },
  "language_info": {
   "codemirror_mode": {
    "name": "ipython",
    "version": 3
   },
   "file_extension": ".py",
   "mimetype": "text/x-python",
   "name": "python",
   "nbconvert_exporter": "python",
   "pygments_lexer": "ipython3",
   "version": "3.10.6"
  },
  "orig_nbformat": 4
 },
 "nbformat": 4,
 "nbformat_minor": 2
}
