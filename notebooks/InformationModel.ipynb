{
 "cells": [
  {
   "cell_type": "markdown",
   "id": "20656a24",
   "metadata": {},
   "source": [
    "# Information model\n",
    "Various experiments involving the information models as well as the scores."
   ]
  },
  {
   "cell_type": "code",
   "execution_count": 1,
   "id": "stuck-delivery",
   "metadata": {},
   "outputs": [],
   "source": [
    "# allow imports from the main source directory\n",
    "import sys\n",
    "sys.path.append('..')\n",
    "import logging\n",
    "\n",
    "import math\n",
    "import itertools\n",
    "import random\n",
    "import logging\n",
    "from functools import partial\n",
    "\n",
    "import numpy as np\n",
    "\n",
    "import matplotlib.pyplot as plt\n",
    "from matplotlib import animation, rc\n",
    "\n",
    "from IPython.display import display, HTML\n",
    "from Environment import SoilMoistureEnvironment\n",
    "from InformationModel import GaussianProcessScalarFieldIM, DiskEstimateScalarFieldIM, PointEstimateScalarFieldIM\n",
    "from InformationModel import im_score, im_score_rmse, im_score_rmse_weighted\n",
    "\n",
    "logging.basicConfig(level=logging.WARNING)"
   ]
  },
  {
   "cell_type": "code",
   "execution_count": null,
   "id": "noble-terminal",
   "metadata": {},
   "outputs": [],
   "source": [
    "def visualize_env_im(env, im):\n",
    "    fig, (axenv, aximval, aximunc) = plt.subplots(1, 3, figsize = (12, 4))\n",
    "    axenv.imshow(env.value, vmin=0, vmax=1.0, cmap=\"gray\")\n",
    "    axenv.set_title(\"Environment\")\n",
    "    aximval.imshow(im.value, vmin=0, vmax=1.0, cmap=\"gray\")\n",
    "    axenv.set_title(\"IM value\")\n",
    "    aximunc.imshow(im.uncertainty, vmin=0, vmax=1.0, cmap=\"gray\")\n",
    "    axenv.set_title(\"IM uncertainty\")\n"
   ]
  },
  {
   "cell_type": "markdown",
   "id": "structural-memorabilia",
   "metadata": {},
   "source": [
    "## Example 1: soil moisture environment"
   ]
  },
  {
   "cell_type": "code",
   "execution_count": null,
   "id": "clean-india",
   "metadata": {},
   "outputs": [],
   "source": [
    "# create an environment to observe\n",
    "env = SoilMoistureEnvironment(\"water\", width = 100, height = 100, seed=1)\n",
    "plt.imshow(env.value, vmin=0, vmax=1.0, cmap=\"gray\")"
   ]
  },
  {
   "cell_type": "code",
   "execution_count": null,
   "id": "permanent-generator",
   "metadata": {},
   "outputs": [],
   "source": [
    "# generate a series random observations\n",
    "observations = []\n",
    "for i in range(100):\n",
    "    x = random.randint(0, env.width-1)\n",
    "    y = random.randint(0, env.height-1)\n",
    "    value = env.value[x,y]\n",
    "    obs = {\"x\": x, \"y\": y, \"value\": value}\n",
    "    observations.append(obs)\n"
   ]
  },
  {
   "cell_type": "code",
   "execution_count": null,
   "id": "a22538c4",
   "metadata": {},
   "outputs": [],
   "source": [
    "im = GaussianProcessScalarFieldIM(env.width, env.height)\n",
    "for obs in observations:\n",
    "    im.add_observation(obs)\n",
    "im.proceed(1)\n",
    "visualize_env_im(env, im)\n",
    "score_rmse = im_score_rmse(im, env)\n",
    "print(f\"Score_rmse = {score_rmse}\")"
   ]
  },
  {
   "cell_type": "code",
   "execution_count": null,
   "id": "cca0416f",
   "metadata": {},
   "outputs": [],
   "source": [
    "im = DiskEstimateScalarFieldIM(env.width, env.height, disk_radius=None, default_value=0.5)\n",
    "for obs in observations:\n",
    "    im.add_observation(obs)\n",
    "im.proceed(1)\n",
    "visualize_env_im(env, im)\n",
    "score_rmse = im_score_rmse(im, env)\n",
    "print(f\"Score_rmse = {score_rmse}\")"
   ]
  },
  {
   "cell_type": "code",
   "execution_count": null,
   "id": "31a3d530",
   "metadata": {},
   "outputs": [],
   "source": [
    "mask = np.ones([100, 100])\n",
    "score_rmse_weighted = im_score_rmse_weighted(im, env, mask)\n",
    "print(f\"Score_rmse_weighted = {score_rmse_weighted}\")"
   ]
  }
 ],
 "metadata": {
  "interpreter": {
   "hash": "916dbcbb3f70747c44a77c7bcd40155683ae19c65e1c03b4aa3499c5328201f1"
  },
  "kernelspec": {
   "display_name": "Python 3.10.4 64-bit",
   "language": "python",
   "name": "python3"
  },
  "language_info": {
   "codemirror_mode": {
    "name": "ipython",
    "version": 3
   },
   "file_extension": ".py",
   "mimetype": "text/x-python",
   "name": "python",
   "nbconvert_exporter": "python",
   "pygments_lexer": "ipython3",
   "version": "3.10.6"
  }
 },
 "nbformat": 4,
 "nbformat_minor": 5
}
