{
 "cells": [
  {
   "cell_type": "markdown",
   "id": "racial-sound",
   "metadata": {},
   "source": [
    "# Compare different path planning algorithms for information collection in the context of a static environment\n",
    "* Initialize a static environment\n",
    "* Create a world with one robot, with different policies\n",
    "* Run it for a certain amount of time. Collect the estimation error. \n",
    "* Visualize the different results"
   ]
  },
  {
   "cell_type": "code",
   "execution_count": null,
   "id": "duplicate-watts",
   "metadata": {},
   "outputs": [],
   "source": [
    "%matplotlib inline\n",
    "import LoggingSetup\n",
    "import logging\n",
    "import itertools\n",
    "import numpy as np\n",
    "import ast\n",
    "import math\n",
    "import random\n",
    "import pathlib\n",
    "import itertools\n",
    "from functools import partial\n",
    "import matplotlib.pyplot as plt\n",
    "from sklearn.metrics import mean_squared_error\n",
    "\n",
    "from Environment import Environment, PollutionModelEnvironment, EpidemicSpreadEnvironment\n",
    "from InformationModel import InformationModel, ScalarFieldInformationModel_stored_observation\n",
    "from Robot import Robot\n",
    "from Policy import GoToLocationPolicy, FollowPathPolicy, RandomWaypointPolicy, \\\n",
    "    AbstractWaypointPolicy, generate_lawnmower, InformationGreedyPolicy, generate_lawnmower\n",
    "from World import World, WorldFactory\n",
    "from VisualWorld import VisualWorld"
   ]
  },
  {
   "cell_type": "code",
   "execution_count": null,
   "id": "satisfactory-surgery",
   "metadata": {},
   "outputs": [],
   "source": [
    "# the colection of all the results for all experiments\n",
    "results = {}\n",
    "width = 10\n",
    "height = 10\n",
    "seed = 1\n",
    "maxtime = 30\n",
    "\n",
    "def run_experiment(policy_desc, visual = False):\n",
    "    logging.getLogger().info(f\"Running experiment witt {policy_desc}\")\n",
    "    experiment = {}\n",
    "    experiment[\"mse\"] = []\n",
    "    world = WorldFactory.generate_world_pretrained_static_pollution(width=width, height=height, seed=seed)\n",
    "    robot = Robot(\"Robur\", 4, 8, 0, env=world.env, im=world.im)\n",
    "    robot.policy = eval(policy_desc)\n",
    "    world.add_robot(robot)\n",
    "    if visual:\n",
    "        visual_world = VisualWorld(world)\n",
    "    for t in range(maxtime):\n",
    "        world.enact_policy(1)\n",
    "        world.proceed(1)\n",
    "        mse = mean_squared_error(world.env.value, world.im.value)\n",
    "        experiment[\"mse\"].append(mse)\n",
    "        if visual:\n",
    "            visual_world.update_visualization()\n",
    "    return experiment\n",
    " \n",
    "policy_desc = \"InformationGreedyPolicy(robot, 1, span=5)\";\n",
    "results[\"Greedy-5\"] = run_experiment(policy_desc, visual = True)    \n",
    "policy_desc = \"InformationGreedyPolicy(robot, 1, span=10)\";\n",
    "results[\"Greedy-10\"] = run_experiment(policy_desc, visual = True)   \n",
    "policy_desc = \"RandomWaypointPolicy(None, robot, 1, [0,0], [width-1, height-1], seed=1)\";\n",
    "results[\"RandomWaypoint\"] = run_experiment(policy_desc)\n",
    "policy_desc = \"RandomWaypointPolicy(None, robot, 1, [0,0], [width-4, height-4], seed=1)\";\n",
    "results[\"RandomWaypoint-reduced\"] = run_experiment(policy_desc)\n",
    "policy_desc = \"RandomWaypointPolicy(None, robot, 1, [0,0], [width, height], seed=1)\";\n",
    "results[\"RandomWaypoint-extended\"] = run_experiment(policy_desc)\n"
   ]
  },
  {
   "cell_type": "code",
   "execution_count": null,
   "id": "demanding-reunion",
   "metadata": {},
   "outputs": [],
   "source": [
    "fix, ax = plt.subplots()\n",
    "for name in results:\n",
    "    experiment = results[name]\n",
    "    ax.plot(experiment[\"mse\"], label=name)\n",
    "ax.legend()"
   ]
  }
 ],
 "metadata": {
  "kernelspec": {
   "display_name": "Python 3",
   "language": "python",
   "name": "python3"
  },
  "language_info": {
   "codemirror_mode": {
    "name": "ipython",
    "version": 3
   },
   "file_extension": ".py",
   "mimetype": "text/x-python",
   "name": "python",
   "nbconvert_exporter": "python",
   "pygments_lexer": "ipython3",
   "version": "3.8.8"
  }
 },
 "nbformat": 4,
 "nbformat_minor": 5
}
