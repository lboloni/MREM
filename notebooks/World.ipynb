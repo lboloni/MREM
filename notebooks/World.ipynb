{
 "cells": [
  {
   "cell_type": "markdown",
   "id": "6650bcf2",
   "metadata": {},
   "source": [
    "# World\n",
    "Implements a world class which integrates an environment with one or more observables and several robots.\n",
    "\n",
    "Also provides a WorldFactory class that implements a number of standard environments."
   ]
  },
  {
   "cell_type": "code",
   "execution_count": 1,
   "id": "4db058b3",
   "metadata": {},
   "outputs": [],
   "source": [
    "import LoggingSetup\n",
    "\n",
    "from Environment import Environment, PollutionModelEnvironment, EpidemicSpreadEnvironment\n",
    "from InformationModel import InformationModel, ScalarFieldInformationModel_stored_observation\n",
    "from Robot import Robot\n",
    "from Policy import GoToLocationPolicy, FollowPathPolicy, RandomWaypointPolicy"
   ]
  },
  {
   "cell_type": "code",
   "execution_count": 2,
   "id": "56b2d414",
   "metadata": {},
   "outputs": [],
   "source": [
    "class World:\n",
    "    def __init__(self, env, im):\n",
    "        self.env = env\n",
    "        self.im = im\n",
    "        self.width, self.height = env.width, env.height\n",
    "        self.time = 0\n",
    "        self.robots = []\n",
    "                \n",
    "    def add_robot(self, robot):\n",
    "        self.robots.append(robot)\n",
    "        \n",
    "    def enact_policy(self, delta_t = 1.0):\n",
    "        \"\"\"For all the agents in the environment, it calls \n",
    "        their policies to allow for the scheduling of the actions.\"\"\"\n",
    "        for robot in self.robots:\n",
    "            robot.enact_policy(delta_t)\n",
    "        \n",
    "    def proceed(self, delta_t = 1.0):\n",
    "        \"\"\"Implements the passing of time\"\"\"\n",
    "        for robot in self.robots:\n",
    "            robot.proceed(delta_t)\n",
    "        self.env.proceed(delta_t)\n",
    "        self.im.proceed(delta_t)\n",
    "        self.time = self.time + delta_t"
   ]
  },
  {
   "cell_type": "markdown",
   "id": "absent-range",
   "metadata": {},
   "source": [
    "# World factory\n",
    "A utility class for creating worlds for experimentation and papers"
   ]
  },
  {
   "cell_type": "code",
   "execution_count": 3,
   "id": "superior-publication",
   "metadata": {},
   "outputs": [],
   "source": [
    "class WorldFactory:\n",
    "    @staticmethod\n",
    "    def generate_environment_pretrained_static_pollution(width = 10, height = 10, seed = 1):\n",
    "        \"\"\"Generates a pollution model that had some polution but now it is static\"\"\"\n",
    "        env = PollutionModelEnvironment(\"water\", width, height, seed)\n",
    "        env.evolve_speed = 1\n",
    "        env.p_pollution = 0.1\n",
    "        for i in range(100):\n",
    "            env.proceed(1.0)\n",
    "        # setting it to unchanging\n",
    "        env.evolve_speed = 0\n",
    "        env.p_pollution = 0.0\n",
    "        return env\n",
    "    \n",
    "    @staticmethod\n",
    "    def generate_im(env, settings):\n",
    "        \"\"\"Generates an information model appropriate to the environment and the estimation \n",
    "        type described by the settings\"\"\"\n",
    "        im = ScalarFieldInformationModel_stored_observation(\"sample\", \n",
    "                            env.width, env.height, \n",
    "                            estimation_type=settings[\"estimation_type\"])\n",
    "        return im\n",
    "\n",
    "    @staticmethod\n",
    "    def generate_world_pretrained_static_pollution(width = 10, height = 10, \n",
    "                                                   seed = 1, estimation_type = \"gaussian-process\"):\n",
    "        env = WorldFactory.generate_environment_pretrained_static_pollution(width, height, seed)\n",
    "        settings = {\"estimation_type\": estimation_type}\n",
    "        im = WorldFactory.generate_im(env, settings)\n",
    "        world = World(env, im)\n",
    "        return world"
   ]
  },
  {
   "cell_type": "code",
   "execution_count": 4,
   "id": "expanded-customer",
   "metadata": {},
   "outputs": [],
   "source": [
    "world = WorldFactory.generate_world_pretrained_static_pollution()"
   ]
  },
  {
   "cell_type": "markdown",
   "id": "preliminary-parameter",
   "metadata": {},
   "source": [
    "# A number of experimental work for creating environments, etc. \n",
    "Probably obsolete as of August 20, 2021"
   ]
  },
  {
   "cell_type": "code",
   "execution_count": 5,
   "id": "speaking-brand",
   "metadata": {},
   "outputs": [],
   "source": [
    "def generate_robots(settings, world):\n",
    "    \"\"\"Generate the robots and their policies according to the settings. \n",
    "    Current version generate n robots with random waypoint behavior\"\"\"\n",
    "    count = settings[\"count\"]\n",
    "    for ib in range(count):\n",
    "        robot = Robot(f\"Robot-{i}\", 0, 0, 0, env=world.env, im=world.im)\n",
    "        robot.policy = RandomWaypointPolicy(None, robot, 1, [0,0], [9, 9])\n",
    "        world.add_robot(robot)"
   ]
  },
  {
   "cell_type": "code",
   "execution_count": 6,
   "id": "adequate-utility",
   "metadata": {},
   "outputs": [],
   "source": [
    "def run_experiment(genenv, genim, genrob):\n",
    "    \"\"\"Generates the environment, the model and the robots\"\"\"\n",
    "    env = genenv()\n",
    "    im = genim(env)\n",
    "    world = World(env, im)\n",
    "    genrob(world)\n",
    "    record = []\n",
    "    for t in range(100):\n",
    "        world.enact_policy(1)\n",
    "        world.proceed(1)\n",
    "        ## this is where we get some kind of metric\n",
    "        record.append(im.score(env))\n",
    "    return record"
   ]
  },
  {
   "cell_type": "code",
   "execution_count": 7,
   "id": "9fbb3730",
   "metadata": {},
   "outputs": [
    {
     "ename": "TypeError",
     "evalue": "__init__() missing 1 required positional argument: 'seed'",
     "output_type": "error",
     "traceback": [
      "\u001b[0;31m---------------------------------------------------------------------------\u001b[0m",
      "\u001b[0;31mTypeError\u001b[0m                                 Traceback (most recent call last)",
      "\u001b[0;32m<ipython-input-7-cda9c0de4ca7>\u001b[0m in \u001b[0;36m<module>\u001b[0;34m\u001b[0m\n\u001b[1;32m      1\u001b[0m \u001b[0;31m# environment model\u001b[0m\u001b[0;34m\u001b[0m\u001b[0;34m\u001b[0m\u001b[0;34m\u001b[0m\u001b[0m\n\u001b[0;32m----> 2\u001b[0;31m \u001b[0menv\u001b[0m \u001b[0;34m=\u001b[0m \u001b[0mPollutionModelEnvironment\u001b[0m\u001b[0;34m(\u001b[0m\u001b[0;34m\"water\"\u001b[0m\u001b[0;34m,\u001b[0m \u001b[0;36m10\u001b[0m\u001b[0;34m,\u001b[0m \u001b[0;36m10\u001b[0m\u001b[0;34m)\u001b[0m\u001b[0;34m\u001b[0m\u001b[0;34m\u001b[0m\u001b[0m\n\u001b[0m\u001b[1;32m      3\u001b[0m \u001b[0menv\u001b[0m\u001b[0;34m.\u001b[0m\u001b[0mevolve_speed\u001b[0m \u001b[0;34m=\u001b[0m \u001b[0;36m1\u001b[0m\u001b[0;34m\u001b[0m\u001b[0;34m\u001b[0m\u001b[0m\n\u001b[1;32m      4\u001b[0m \u001b[0menv\u001b[0m\u001b[0;34m.\u001b[0m\u001b[0mp_pollution\u001b[0m \u001b[0;34m=\u001b[0m \u001b[0;36m0.1\u001b[0m\u001b[0;34m\u001b[0m\u001b[0;34m\u001b[0m\u001b[0m\n\u001b[1;32m      5\u001b[0m \u001b[0;32mfor\u001b[0m \u001b[0mi\u001b[0m \u001b[0;32min\u001b[0m \u001b[0mrange\u001b[0m\u001b[0;34m(\u001b[0m\u001b[0;36m100\u001b[0m\u001b[0;34m)\u001b[0m\u001b[0;34m:\u001b[0m\u001b[0;34m\u001b[0m\u001b[0;34m\u001b[0m\u001b[0m\n",
      "\u001b[0;31mTypeError\u001b[0m: __init__() missing 1 required positional argument: 'seed'"
     ]
    }
   ],
   "source": [
    "# environment model\n",
    "env = PollutionModelEnvironment(\"water\", 10, 10)\n",
    "env.evolve_speed = 1\n",
    "env.p_pollution = 0.1\n",
    "for i in range(100):\n",
    "    env.proceed(1.0)\n",
    "# setting it to unchanging\n",
    "env.evolve_speed = 0\n",
    "env.p_pollution = 0.0\n",
    "im = ScalarFieldInformationModel_stored_observation(\"sample\", env.width, env.height, \n",
    "                                estimation_type=\"gaussian-process\")\n",
    "im.proceed(0)\n",
    "\n",
    "world = World(env, im)\n",
    "robi = Robot(\"Robi\", 2, 3, 0, env=env, im=im)\n",
    "# robot.policy = GoToLocationPolicy(None, robot, 9, 9, 0.2)\n",
    "world.add_robot(robi)\n",
    "robur = Robot(\"Robur\", 4, 8, 0, env=env, im=im)\n",
    "robur.policy = RandomWaypointPolicy(None, robur, 1, [0,0], [9, 9])\n",
    "world.add_robot(robur)\n",
    "r2d3 = Robot(\"R2D3\", 5, 9, 0, env=env, im=im)\n",
    "r2d3.policy = FollowPathPolicy(None, r2d3, 1, [[0,0], [5, 5], [9,0]], repeat = True)\n",
    "world.add_robot(r2d3)"
   ]
  },
  {
   "cell_type": "code",
   "execution_count": null,
   "id": "1516662e",
   "metadata": {},
   "outputs": [],
   "source": [
    "for i in range(10):\n",
    "    world.enact_policy(1)\n",
    "    world.proceed(1)\n",
    "print(robur.location_history)"
   ]
  },
  {
   "cell_type": "code",
   "execution_count": null,
   "id": "d42e5cd3",
   "metadata": {},
   "outputs": [],
   "source": [
    "[x[0] for x in robur.location_history]"
   ]
  },
  {
   "cell_type": "code",
   "execution_count": null,
   "id": "306206cb",
   "metadata": {},
   "outputs": [],
   "source": []
  }
 ],
 "metadata": {
  "kernelspec": {
   "display_name": "Python 3",
   "language": "python",
   "name": "python3"
  },
  "language_info": {
   "codemirror_mode": {
    "name": "ipython",
    "version": 3
   },
   "file_extension": ".py",
   "mimetype": "text/x-python",
   "name": "python",
   "nbconvert_exporter": "python",
   "pygments_lexer": "ipython3",
   "version": "3.8.10"
  }
 },
 "nbformat": 4,
 "nbformat_minor": 5
}
