{
 "cells": [
  {
   "cell_type": "markdown",
   "id": "thick-banana",
   "metadata": {},
   "source": [
    "# VisualWorld example\n",
    "\n",
    "* An example notebook for the use of the VisualWorld interface for interactive control of robots "
   ]
  },
  {
   "cell_type": "code",
   "execution_count": 4,
   "id": "liquid-theology",
   "metadata": {},
   "outputs": [],
   "source": [
    "%matplotlib inline\n",
    "\n",
    "import LoggingSetup\n",
    "import logging\n",
    "\n",
    "import itertools\n",
    "import numpy as np\n",
    "#import ast\n",
    "import math\n",
    "import random\n",
    "from functools import partial\n",
    "from io import BytesIO\n",
    "import pathlib\n",
    "from IPython.display import display\n",
    "\n",
    "from World import World, WorldFactory\n",
    "\n",
    "# imports of the various objects of our model\n",
    "from Environment import Environment, DissipationModelEnvironment, EpidemicSpreadEnvironment\n",
    "from InformationModel import InformationModel, GaussianProcessScalarFieldIM\n",
    "from Robot import Robot\n",
    "from Policy import GoToLocationPolicy, FollowPathPolicy, RandomWaypointPolicy, \\\n",
    "    AbstractWaypointPolicy, generate_lawnmower, InformationGreedyPolicy, generate_lawnmower\n",
    "from VisualWorld import VisualWorld\n"
   ]
  },
  {
   "cell_type": "markdown",
   "id": "delayed-hollywood",
   "metadata": {},
   "source": [
    "# Create the world. \n",
    "In this section, we create a world, its environment, add some robots, associate policies with them. \n",
    "Then we ask the VisualWorld object object to present an interface to them. "
   ]
  },
  {
   "cell_type": "code",
   "execution_count": 5,
   "id": "turkish-skating",
   "metadata": {},
   "outputs": [
    {
     "data": {
      "application/vnd.jupyter.widget-view+json": {
       "model_id": "c4c83cc89d08465aa11029c3ffe6fa93",
       "version_major": 2,
       "version_minor": 0
      },
      "text/plain": [
       "VBox(children=(HBox(children=(Image(value=b'\\x89PNG\\r\\n\\x1a\\n\\x00\\x00\\x00\\rIHDR\\x00\\x00\\x01\\xb0\\x00\\x00\\x01 \\x…"
      ]
     },
     "metadata": {},
     "output_type": "display_data"
    }
   ],
   "source": [
    "world = WorldFactory.generate_world_pretrained_static_pollution()\n",
    "robot = Robot(\"Robi\", 2, 3, 0, env=world.env, im=world.im)\n",
    "# path = generate_lawnmower(0, 10, 0, 10, 5)\n",
    "# robot.policy = FollowPathPolicy(None, robot, 1, path, repeat = True)\n",
    "# robot.policy = GoToLocationPolicy(None, robot, 9, 9, 0.2)\n",
    "# robot.policy = \n",
    "world.add_robot(robot)\n",
    "robot = Robot(\"Robur\", 4, 8, 0, env=world.env, im=world.im)\n",
    "#robot.policy = RandomWaypointPolicy(None, robot, 1, [0,0], [9, 9], seed=1)\n",
    "world.add_robot(robot)\n",
    "\n",
    "#robot = Robot(\"R2D3\", 5, 9, 0, env=env, im=im)\n",
    "#robot.policy = FollowPathPolicy(None, robot, 1, [[0,0], [5, 5], [9,0]], repeat = True)\n",
    "#world.add_robot(robot)\n",
    "visual_world = VisualWorld(world)"
   ]
  },
  {
   "cell_type": "code",
   "execution_count": null,
   "id": "9409de38",
   "metadata": {},
   "outputs": [],
   "source": []
  }
 ],
 "metadata": {
  "kernelspec": {
   "display_name": "Python 3",
   "language": "python",
   "name": "python3"
  },
  "language_info": {
   "codemirror_mode": {
    "name": "ipython",
    "version": 3
   },
   "file_extension": ".py",
   "mimetype": "text/x-python",
   "name": "python",
   "nbconvert_exporter": "python",
   "pygments_lexer": "ipython3",
   "version": "3.8.10"
  }
 },
 "nbformat": 4,
 "nbformat_minor": 5
}
