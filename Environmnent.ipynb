{
 "cells": [
  {
   "cell_type": "code",
   "execution_count": null,
   "id": "stuck-delivery",
   "metadata": {},
   "outputs": [],
   "source": [
    "import math\n",
    "from functools import partial\n",
    "import numpy as np\n",
    "from scipy import signal\n",
    "import matplotlib.pyplot as plt\n",
    "from matplotlib import animation, rc\n",
    "\n",
    "from IPython.display import display, HTML\n",
    "import random\n",
    "import logging\n",
    "logging.basicConfig(level=logging.WARNING)\n",
    "%matplotlib inline"
   ]
  },
  {
   "cell_type": "markdown",
   "id": "promising-macintosh",
   "metadata": {},
   "source": [
    "# Environment\n",
    "\n",
    "A series of classes that model certain kind of environments and their temporal evolution and the way they can be observed.\n",
    "\n",
    "* Tracks an observable of the environment (eg. temperature). Maybe this needs to be in a separate class to allow for multiple observables\n",
    "* Tracks the available information about the environment. \n",
    "\n",
    "### TODO\n",
    "\n",
    "* For the time being let us not import this into informative path planning because this will need to have more refactoring. \n",
    "\n",
    "* Implement the evolution of the information in the form of a Gaussian Process\n",
    "* Implement some kind of self-generating processes that update the observable and the information associated with it.\n",
    "\n",
    "## FIXME: \n",
    "\n",
    "Create an animation\n",
    "\n",
    "http://louistiao.me/posts/notebooks/embedding-matplotlib-animations-in-jupyter-as-interactive-javascript-widgets/"
   ]
  },
  {
   "cell_type": "code",
   "execution_count": null,
   "id": "exciting-dream",
   "metadata": {},
   "outputs": [],
   "source": [
    "class Environment:\n",
    "    \"\"\"The ancestor of all environment models: by default it is just an area [0,0, width, height]\"\"\"\n",
    "    def __init__(self, width, height):\n",
    "        self.width, self.height = width, height\n",
    "        \n",
    "    def proceed(self, delta_t = 1.0):\n",
    "        pass"
   ]
  },
  {
   "cell_type": "markdown",
   "id": "advised-probability",
   "metadata": {},
   "source": [
    "## Scalar fields\n",
    "\n",
    "Environments and information models corresponding to scalar fields."
   ]
  },
  {
   "cell_type": "code",
   "execution_count": null,
   "id": "mathematical-frederick",
   "metadata": {},
   "outputs": [],
   "source": [
    "class ScalarFieldEnvironment(Environment):\n",
    "    \"\"\"A static environment which for each point it has a scalar field value. \n",
    "    This environment does not change: the dynamic aspect happens in the way it \n",
    "    is discovered.\"\"\"\n",
    "    \n",
    "    def __init__(self, name, width, height, value = None):\n",
    "        super().__init__(width, height)\n",
    "        self.name = name # the name of the value\n",
    "        if value != None:\n",
    "            self.value = value.copy()\n",
    "        else:\n",
    "            self.value = np.zeros((self.width, self.height))\n",
    "        \n",
    "    def get(self, x, y):\n",
    "        \"\"\"Accessing by x and y is rounded to the integer value\"\"\"\n",
    "        i = int(x)\n",
    "        j = int(y)\n",
    "        return self.value(i, j)\n",
    "\n",
    "    def proceed(self, delta_t = 1.0):\n",
    "        pass"
   ]
  },
  {
   "cell_type": "code",
   "execution_count": null,
   "id": "banner-lafayette",
   "metadata": {},
   "outputs": [],
   "source": [
    "class PollutionModelEnvironment(ScalarFieldEnvironment):\n",
    "    \"\"\"An environment which models the spreading of polution in a field\"\"\"\n",
    "    \n",
    "    def __init__(self, name, width, height):\n",
    "        super().__init__(name, width, height)\n",
    "        self.evolve_kernel = np.array([[0.3, 0.5, 0.3],[0.5, 1, 0.5],[0.3, 0.5, 0.3]])\n",
    "        self.evolve_kernel = self.evolve_kernel / (self.evolve_kernel.sum() * 0.95)\n",
    "        self.evolve_speed = 10 # measured in convolutions / second\n",
    "        self.p_pollution = 1\n",
    "        \n",
    "    def proceed(self, delta_t = 1.0):\n",
    "        \"\"\"Apply the polution events. Applyies the evolution kernel a number of times \n",
    "        determined by the evolve speed\"\"\"\n",
    "        self.pollution_init(delta_t)\n",
    "        iterations = int(self.evolve_speed * delta_t)\n",
    "        convspace = np.zeros((self.width * 3, self.height * 3))\n",
    "        convspace[self.width: self.width *2, self.height: self.height*2] = self.value\n",
    "        for i in range(iterations):\n",
    "            convspace = signal.convolve2d(convspace, self.evolve_kernel, mode=\"same\")\n",
    "        self.value = convspace[self.width: self.width *2, self.height: self.height*2]\n",
    "        logging.info(f\"sum {self.value.sum()}\")        \n",
    "        \n",
    "    def pollution_init(self, delta_t):\n",
    "        \"\"\"A random probability for some polution happening at a certain point\"\"\"\n",
    "        val = random.random()\n",
    "        pollution_event_count = int(delta_t * self.p_pollution / val)\n",
    "        for i in range(0, pollution_event_count):\n",
    "            x = random.randint(0, self.width-7)\n",
    "            y = random.randint(0, self.height-7)\n",
    "            self.value[x,y]=1\n"
   ]
  },
  {
   "cell_type": "code",
   "execution_count": null,
   "id": "nasty-volume",
   "metadata": {
    "scrolled": true
   },
   "outputs": [],
   "source": [
    "def animate(env, im, i):\n",
    "    # print(f\"animate {i}\")\n",
    "    env.proceed(1.0)\n",
    "    v = env.value.copy()\n",
    "    im.set_array(v)\n",
    "    return [im]\n",
    "\n",
    "def animate_environment(env):\n",
    "    fig, ax = plt.subplots()\n",
    "    im  = ax.imshow(env.value, cmap=\"gray\", vmin=0, vmax=1.0)\n",
    "    anim = animation.FuncAnimation(fig, partial(animate, env, im), \n",
    "                                       frames=100, interval=100, \n",
    "                                       blit=True)\n",
    "    return anim"
   ]
  },
  {
   "cell_type": "code",
   "execution_count": null,
   "id": "protective-audio",
   "metadata": {},
   "outputs": [],
   "source": [
    "env = PollutionModelEnvironment(\"water\", 100, 100)\n",
    "env.evolve_speed = 1\n",
    "# env.p_polution = 0.1\n",
    "anim = animate_environment(env)\n",
    "HTML(anim.to_html5_video())"
   ]
  },
  {
   "cell_type": "code",
   "execution_count": null,
   "id": "dedicated-amazon",
   "metadata": {},
   "outputs": [],
   "source": [
    "class EpidemicSpreadEnvironment(ScalarFieldEnvironment):\n",
    "    \"\"\"An environment modeling the spreading of an epidemic in the field. The value \n",
    "    field is 0 or 1 depending whether the location is currently infected. \n",
    "    \n",
    "    The status field is 0 if not infected, +number if infected with days left, -1 if \n",
    "    immune\"\"\"\n",
    "    def __init__(self, name, width, height):\n",
    "        super().__init__(name, width, height)\n",
    "        self.status = np.zeros((width, height))        \n",
    "        self.p_transmission = 0.2\n",
    "        self.p_infection = self.calculate_infection_matrix(self.p_transmission)\n",
    "        self.infection_duration = 5\n",
    "    \n",
    "    @staticmethod\n",
    "    def calculate_infection_matrix(p_transmission): \n",
    "        \"\"\"Calculates a matrix for the probability of the transmission function of the number of\n",
    "        infected neighbors\"\"\"\n",
    "        pr = np.ones(9) * (1 - p_transmission)\n",
    "        pows = np.linspace(0, 8, 9)\n",
    "        p_infection = np.ones(9) - np.power(pr, pows)\n",
    "        return p_infection\n",
    "    \n",
    "    @staticmethod\n",
    "    def countinfected_neighbor(statusmap):\n",
    "        \"\"\"Given a matrix with the status values, returns a matrix with the counts of the \n",
    "        infected neighbors\"\"\"\n",
    "        infected = np.zeros(statusmap.shape)\n",
    "        infected[statusmap > 0] = 1\n",
    "        neighborcounting_kernel = np.array([[1,1,1], [1, 0, 1], [1, 1, 1]])\n",
    "        infectedcount = signal.convolve2d(infected, neighborcounting_kernel, mode=\"same\")\n",
    "        return infectedcount\n",
    "\n",
    "    def proceed(self, delta_t):\n",
    "        # make those that finished their sickness immune\n",
    "        self.status[self.status==1] = -1\n",
    "        # decrease the time remaining for infection\n",
    "        self.status[self.status > 0] -= 1\n",
    "        # propagate the infection\n",
    "        infectedcount = self.countinfected_neighbor(self.status)\n",
    "        infectionlikelihood = self.p_infection[infectedcount.astype(int)]\n",
    "        p = np.random.random(self.status.shape)\n",
    "        il = infectionlikelihood \n",
    "        il[il > p] = 1\n",
    "        il[il <= p] = 0\n",
    "        self.status[np.logical_and(self.status== 0, il == 1)] = self.infection_duration\n",
    "        self.value = np.zeros(self.status.shape)\n",
    "        self.value[self.status > 0] = 1\n",
    "        self.value[self.status < 0] = 0.5"
   ]
  },
  {
   "cell_type": "code",
   "execution_count": null,
   "id": "surface-consumer",
   "metadata": {},
   "outputs": [],
   "source": [
    "env = EpidemicSpreadEnvironment(\"crop\", 100, 100)\n",
    "env.status[6,10] = 2\n",
    "env.status[60,80] = 5\n",
    "anim = animate_environment(env)\n",
    "HTML(anim.to_html5_video())"
   ]
  }
 ],
 "metadata": {
  "kernelspec": {
   "display_name": "Python 3",
   "language": "python",
   "name": "python3"
  },
  "language_info": {
   "codemirror_mode": {
    "name": "ipython",
    "version": 3
   },
   "file_extension": ".py",
   "mimetype": "text/x-python",
   "name": "python",
   "nbconvert_exporter": "python",
   "pygments_lexer": "ipython3",
   "version": "3.8.5"
  }
 },
 "nbformat": 4,
 "nbformat_minor": 5
}
