{
 "cells": [
  {
   "cell_type": "markdown",
   "id": "6c5092d2",
   "metadata": {},
   "source": [
    "# Gaussian process information model\n",
    "Experiments for creating an information model for informative path planning based on Gaussian processes. The idea here is to understand how to play with the features of the sklearn informative path planning."
   ]
  },
  {
   "cell_type": "code",
   "execution_count": null,
   "id": "855db02d",
   "metadata": {},
   "outputs": [],
   "source": [
    "import random\n",
    "import logging\n",
    "import matplotlib.pyplot as plt\n",
    "import itertools\n",
    "import numpy as np\n",
    "from Environment import PollutionModelEnvironment\n",
    "\n"
   ]
  },
  {
   "cell_type": "code",
   "execution_count": null,
   "id": "3b1450ba",
   "metadata": {},
   "outputs": [],
   "source": [
    "width = 10\n",
    "height = 10\n",
    "\n",
    "# environment model\n",
    "env = PollutionModelEnvironment(\"water\", width, height)\n",
    "env.evolve_speed = 1\n",
    "env.p_pollution = 0.1\n",
    "for i in range(200):\n",
    "    env.proceed(1.0)\n",
    "plt.imshow(env.value, vmin=0, vmax=1.0)"
   ]
  },
  {
   "cell_type": "code",
   "execution_count": null,
   "id": "5dacc379",
   "metadata": {},
   "outputs": [],
   "source": [
    "def samples(n, data):\n",
    "    \"\"\"Generates a number of samples. Returns the x and y values, and a map of the samples\"\"\"\n",
    "    X = []\n",
    "    Y = []\n",
    "    samplemap = np.zeros([width,height])\n",
    "    for i in range(n):\n",
    "        x = random.randint(0, 9)\n",
    "        y = random.randint(0, 9)\n",
    "        samplemap[x,y] = 1.0\n",
    "        v = data[x,y]\n",
    "        X.append([x,y])\n",
    "        Y.append([v])\n",
    "        # trying out what happens if I add it twice\n",
    "        X.append([x,y])\n",
    "        Y.append([v])\n",
    "    return X, Y, samplemap"
   ]
  },
  {
   "cell_type": "code",
   "execution_count": null,
   "id": "55e62225",
   "metadata": {},
   "outputs": [],
   "source": [
    "X, Y, samplemap = samples(20, env.value)\n",
    "plt.imshow(samplemap, vmin=0, vmax=1.0)"
   ]
  },
  {
   "cell_type": "code",
   "execution_count": null,
   "id": "7da61aba",
   "metadata": {},
   "outputs": [],
   "source": [
    "rbf = 2.0 * RBF(length_scale = [1.0, 1.0])\n",
    "gpr = GaussianProcessRegressor(kernel=rbf)\n",
    "gpr.fit(X,Y)"
   ]
  },
  {
   "cell_type": "code",
   "execution_count": null,
   "id": "6da073f4",
   "metadata": {},
   "outputs": [],
   "source": [
    "def create_estimate():\n",
    "    est = np.zeros([width,height])\n",
    "    stdmap = np.zeros([width,height])\n",
    "    x = []\n",
    "    X = np.array(list(itertools.product(range(width), range(height))))\n",
    "    Y, std = gpr.predict(X, return_std = True)\n",
    "    for i, idx in enumerate(X):\n",
    "        est[idx[0], idx[1]] = Y[i]\n",
    "        stdmap[idx[0], idx[1]] = std[i]\n",
    "    print(std.sum())\n",
    "    return est, stdmap"
   ]
  },
  {
   "cell_type": "code",
   "execution_count": null,
   "id": "2da9b4b5",
   "metadata": {},
   "outputs": [],
   "source": [
    "est, stdmap = create_estimate()"
   ]
  },
  {
   "cell_type": "code",
   "execution_count": null,
   "id": "7cf8b0b9",
   "metadata": {},
   "outputs": [],
   "source": [
    "plt.imshow(est, vmin=0, vmax=1.0)\n",
    "#plt.imshow(stdmap, vmin=0, vmax=1.0)\n",
    "#plt.imshow(stdmap)"
   ]
  },
  {
   "cell_type": "code",
   "execution_count": null,
   "id": "ca8515db",
   "metadata": {},
   "outputs": [],
   "source": []
  },
  {
   "cell_type": "code",
   "execution_count": null,
   "id": "c98c5f3c",
   "metadata": {},
   "outputs": [],
   "source": [
    "gpr.fit(X,Y)"
   ]
  },
  {
   "cell_type": "code",
   "execution_count": null,
   "id": "547335c4",
   "metadata": {},
   "outputs": [],
   "source": [
    "x = [[0.5,0]]\n",
    "ymean, y_std, y_cov = gpr.predict(x, return_std=True, return_cov = True)\n",
    "\n",
    "#print(f\"Prediction = {gpr.predict([[0.5,0]])}  Score = {gpr.predict([[0.5,0]])}\" )"
   ]
  },
  {
   "cell_type": "code",
   "execution_count": null,
   "id": "3cf52159",
   "metadata": {},
   "outputs": [],
   "source": [
    "list(itertools.product([1,2], [3,4]))"
   ]
  },
  {
   "cell_type": "code",
   "execution_count": null,
   "id": "a795b0a1",
   "metadata": {},
   "outputs": [],
   "source": [
    "np.array(list(itertools.product(range(5), range(5))))"
   ]
  },
  {
   "cell_type": "code",
   "execution_count": null,
   "id": "f700c67a",
   "metadata": {},
   "outputs": [],
   "source": []
  }
 ],
 "metadata": {
  "kernelspec": {
   "display_name": "Python 3",
   "language": "python",
   "name": "python3"
  },
  "language_info": {
   "codemirror_mode": {
    "name": "ipython",
    "version": 3
   },
   "file_extension": ".py",
   "mimetype": "text/x-python",
   "name": "python",
   "nbconvert_exporter": "python",
   "pygments_lexer": "ipython3",
   "version": "3.8.5"
  }
 },
 "nbformat": 4,
 "nbformat_minor": 5
}
