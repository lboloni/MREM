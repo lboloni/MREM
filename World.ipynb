{
 "cells": [
  {
   "cell_type": "markdown",
   "id": "6650bcf2",
   "metadata": {},
   "source": [
    "# World\n",
    "Implements a world class which integrates an environment with one or more observables and several robots."
   ]
  },
  {
   "cell_type": "code",
   "execution_count": 1,
   "id": "4db058b3",
   "metadata": {},
   "outputs": [],
   "source": [
    "from Environment import Environment, PollutionModelEnvironment, EpidemicSpreadEnvironment\n",
    "from InformationModel import InformationModel, ScalarFieldInformationModel_stored_observation\n",
    "from Robot import Robot\n",
    "from Policy import GoToLocationPolicy, FollowPathPolicy, RandomWaypointPolicy\n",
    "\n",
    "import logging\n",
    "# logging.getLogger().setLevel(logging.DEBUG)\n",
    "# logging.getLogger().setLevel(logging.WARNING)\n",
    "logging.getLogger().setLevel(logging.ERROR)"
   ]
  },
  {
   "cell_type": "code",
   "execution_count": 2,
   "id": "56b2d414",
   "metadata": {},
   "outputs": [],
   "source": [
    "class World:\n",
    "    def __init__(self, env, im):\n",
    "        self.env = env\n",
    "        self.im = im\n",
    "        self.width, self.height = env.width, env.height\n",
    "        self.time = 0\n",
    "        self.robots = []\n",
    "                \n",
    "    def add_robot(self, robot):\n",
    "        self.robots.append(robot)\n",
    "        \n",
    "    def enact_policy(self, delta_t = 1.0):\n",
    "        \"\"\"For all the agents in the environment, it calls \n",
    "        their policies to allow for the scheduling of the actions.\"\"\"\n",
    "        for robot in self.robots:\n",
    "            robot.enact_policy(delta_t)\n",
    "        \n",
    "    def proceed(self, delta_t = 1.0):\n",
    "        \"\"\"Implements the passing of time\"\"\"\n",
    "        for robot in self.robots:\n",
    "            robot.proceed(delta_t)\n",
    "        self.env.proceed(delta_t)\n",
    "        self.im.proceed(delta_t)\n",
    "        self.time = self.time + delta_t"
   ]
  },
  {
   "cell_type": "code",
   "execution_count": null,
   "id": "whole-hollow",
   "metadata": {},
   "outputs": [],
   "source": [
    "def generate_environment():\n",
    "    \"\"\"Function to generate the environment model\"\"\"\n",
    "    env = PollutionModelEnvironment(\"water\", 10, 10, seed = 1)\n",
    "    env.evolve_speed = 1\n",
    "    env.p_pollution = 0.1\n",
    "    for i in range(100):\n",
    "        env.proceed(1.0)\n",
    "    # setting it to unchanging\n",
    "    env.evolve_speed = 0\n",
    "    env.p_pollution = 0.0\n",
    "    return env"
   ]
  },
  {
   "cell_type": "code",
   "execution_count": null,
   "id": "thorough-signature",
   "metadata": {},
   "outputs": [],
   "source": [
    "def generate_information_model(settings, env):\n",
    "    \"\"\"Generates an information model appropriate to the environment and the estimation \n",
    "    type described by the settings\"\"\"\n",
    "    im = ScalarFieldInformationModel_stored_observation(\"sample\", \n",
    "                        env.width, env.height, \n",
    "                        estimation_type=settings[\"estimation_type\"])\n",
    "    return im"
   ]
  },
  {
   "cell_type": "code",
   "execution_count": null,
   "id": "speaking-brand",
   "metadata": {},
   "outputs": [],
   "source": [
    "def generate_robots(settings, world):\n",
    "    \"\"\"Generate the robots and their policies according to the settings. \n",
    "    Current version generate n robots with random waypoint behavior\"\"\"\n",
    "    count = settings[\"count\"]\n",
    "    for ib in range(count):\n",
    "        robot = Robot(f\"Robot-{i}\", 0, 0, 0, env=world.env, im=world.im)\n",
    "        robot.policy = RandomWaypointPolicy(None, robot, 1, [0,0], [9, 9])\n",
    "        world.add_robot(robot)"
   ]
  },
  {
   "cell_type": "code",
   "execution_count": null,
   "id": "adequate-utility",
   "metadata": {},
   "outputs": [],
   "source": [
    "def run_experiment(genenv, genim, genrob):\n",
    "    \"\"\"Generates the environment, the model and the robots\"\"\"\n",
    "    env = genenv()\n",
    "    im = genim(env)\n",
    "    world = World(env, im)\n",
    "    genrob(world)\n",
    "    record = []\n",
    "    for t in range(100):\n",
    "        world.enact_policy(1)\n",
    "        world.proceed(1)\n",
    "        ## this is where we get some kind of metric\n",
    "        record.append(im.score(env))\n",
    "    return record"
   ]
  },
  {
   "cell_type": "code",
   "execution_count": 4,
   "id": "9fbb3730",
   "metadata": {},
   "outputs": [],
   "source": [
    "# environment model\n",
    "env = PollutionModelEnvironment(\"water\", 10, 10)\n",
    "env.evolve_speed = 1\n",
    "env.p_pollution = 0.1\n",
    "for i in range(100):\n",
    "    env.proceed(1.0)\n",
    "# setting it to unchanging\n",
    "env.evolve_speed = 0\n",
    "env.p_pollution = 0.0\n",
    "im = ScalarFieldInformationModel_stored_observation(\"sample\", env.width, env.height, \n",
    "                                estimation_type=\"gaussian-process\")\n",
    "im.proceed(0)\n",
    "\n",
    "world = World(env, im)\n",
    "robi = Robot(\"Robi\", 2, 3, 0, env=env, im=im)\n",
    "# robot.policy = GoToLocationPolicy(None, robot, 9, 9, 0.2)\n",
    "world.add_robot(robi)\n",
    "robur = Robot(\"Robur\", 4, 8, 0, env=env, im=im)\n",
    "robur.policy = RandomWaypointPolicy(None, robur, 1, [0,0], [9, 9])\n",
    "world.add_robot(robur)\n",
    "r2d3 = Robot(\"R2D3\", 5, 9, 0, env=env, im=im)\n",
    "r2d3.policy = FollowPathPolicy(None, r2d3, 1, [[0,0], [5, 5], [9,0]], repeat = True)\n",
    "world.add_robot(r2d3)"
   ]
  },
  {
   "cell_type": "code",
   "execution_count": 5,
   "id": "1516662e",
   "metadata": {},
   "outputs": [
    {
     "name": "stderr",
     "output_type": "stream",
     "text": [
      "C:\\Users\\lboloni\\anaconda3\\lib\\site-packages\\sklearn\\gaussian_process\\kernels.py:411: ConvergenceWarning: The optimal value found for dimension 0 of parameter k1__length_scale is close to the specified upper bound 10. Increasing the bound and calling fit again may find a better value.\n",
      "  warnings.warn(\"The optimal value found for \"\n",
      "C:\\Users\\lboloni\\anaconda3\\lib\\site-packages\\sklearn\\gaussian_process\\kernels.py:411: ConvergenceWarning: The optimal value found for dimension 1 of parameter k1__length_scale is close to the specified upper bound 10. Increasing the bound and calling fit again may find a better value.\n",
      "  warnings.warn(\"The optimal value found for \"\n",
      "C:\\Users\\lboloni\\anaconda3\\lib\\site-packages\\sklearn\\gaussian_process\\kernels.py:402: ConvergenceWarning: The optimal value found for dimension 0 of parameter k2__noise_level is close to the specified lower bound 1e-05. Decreasing the bound and calling fit again may find a better value.\n",
      "  warnings.warn(\"The optimal value found for \"\n",
      "C:\\Users\\lboloni\\anaconda3\\lib\\site-packages\\sklearn\\gaussian_process\\kernels.py:411: ConvergenceWarning: The optimal value found for dimension 0 of parameter k1__length_scale is close to the specified upper bound 10. Increasing the bound and calling fit again may find a better value.\n",
      "  warnings.warn(\"The optimal value found for \"\n",
      "C:\\Users\\lboloni\\anaconda3\\lib\\site-packages\\sklearn\\gaussian_process\\kernels.py:411: ConvergenceWarning: The optimal value found for dimension 1 of parameter k1__length_scale is close to the specified upper bound 10. Increasing the bound and calling fit again may find a better value.\n",
      "  warnings.warn(\"The optimal value found for \"\n",
      "C:\\Users\\lboloni\\anaconda3\\lib\\site-packages\\sklearn\\gaussian_process\\kernels.py:402: ConvergenceWarning: The optimal value found for dimension 0 of parameter k2__noise_level is close to the specified lower bound 1e-05. Decreasing the bound and calling fit again may find a better value.\n",
      "  warnings.warn(\"The optimal value found for \"\n",
      "C:\\Users\\lboloni\\anaconda3\\lib\\site-packages\\sklearn\\gaussian_process\\kernels.py:411: ConvergenceWarning: The optimal value found for dimension 0 of parameter k1__length_scale is close to the specified upper bound 10. Increasing the bound and calling fit again may find a better value.\n",
      "  warnings.warn(\"The optimal value found for \"\n",
      "C:\\Users\\lboloni\\anaconda3\\lib\\site-packages\\sklearn\\gaussian_process\\kernels.py:411: ConvergenceWarning: The optimal value found for dimension 1 of parameter k1__length_scale is close to the specified upper bound 10. Increasing the bound and calling fit again may find a better value.\n",
      "  warnings.warn(\"The optimal value found for \"\n",
      "C:\\Users\\lboloni\\anaconda3\\lib\\site-packages\\sklearn\\gaussian_process\\kernels.py:402: ConvergenceWarning: The optimal value found for dimension 0 of parameter k2__noise_level is close to the specified lower bound 1e-05. Decreasing the bound and calling fit again may find a better value.\n",
      "  warnings.warn(\"The optimal value found for \"\n",
      "C:\\Users\\lboloni\\anaconda3\\lib\\site-packages\\sklearn\\gaussian_process\\kernels.py:411: ConvergenceWarning: The optimal value found for dimension 0 of parameter k1__length_scale is close to the specified upper bound 10. Increasing the bound and calling fit again may find a better value.\n",
      "  warnings.warn(\"The optimal value found for \"\n",
      "C:\\Users\\lboloni\\anaconda3\\lib\\site-packages\\sklearn\\gaussian_process\\kernels.py:402: ConvergenceWarning: The optimal value found for dimension 0 of parameter k2__noise_level is close to the specified lower bound 1e-05. Decreasing the bound and calling fit again may find a better value.\n",
      "  warnings.warn(\"The optimal value found for \"\n",
      "C:\\Users\\lboloni\\anaconda3\\lib\\site-packages\\sklearn\\gaussian_process\\kernels.py:411: ConvergenceWarning: The optimal value found for dimension 0 of parameter k1__length_scale is close to the specified upper bound 10. Increasing the bound and calling fit again may find a better value.\n",
      "  warnings.warn(\"The optimal value found for \"\n",
      "C:\\Users\\lboloni\\anaconda3\\lib\\site-packages\\sklearn\\gaussian_process\\kernels.py:411: ConvergenceWarning: The optimal value found for dimension 1 of parameter k1__length_scale is close to the specified upper bound 10. Increasing the bound and calling fit again may find a better value.\n",
      "  warnings.warn(\"The optimal value found for \"\n",
      "C:\\Users\\lboloni\\anaconda3\\lib\\site-packages\\sklearn\\gaussian_process\\kernels.py:411: ConvergenceWarning: The optimal value found for dimension 0 of parameter k1__length_scale is close to the specified upper bound 10. Increasing the bound and calling fit again may find a better value.\n",
      "  warnings.warn(\"The optimal value found for \"\n",
      "C:\\Users\\lboloni\\anaconda3\\lib\\site-packages\\sklearn\\gaussian_process\\kernels.py:411: ConvergenceWarning: The optimal value found for dimension 1 of parameter k1__length_scale is close to the specified upper bound 10. Increasing the bound and calling fit again may find a better value.\n",
      "  warnings.warn(\"The optimal value found for \"\n",
      "C:\\Users\\lboloni\\anaconda3\\lib\\site-packages\\sklearn\\gaussian_process\\kernels.py:411: ConvergenceWarning: The optimal value found for dimension 0 of parameter k1__length_scale is close to the specified upper bound 10. Increasing the bound and calling fit again may find a better value.\n",
      "  warnings.warn(\"The optimal value found for \"\n",
      "C:\\Users\\lboloni\\anaconda3\\lib\\site-packages\\sklearn\\gaussian_process\\kernels.py:411: ConvergenceWarning: The optimal value found for dimension 1 of parameter k1__length_scale is close to the specified upper bound 10. Increasing the bound and calling fit again may find a better value.\n",
      "  warnings.warn(\"The optimal value found for \"\n"
     ]
    },
    {
     "name": "stdout",
     "output_type": "stream",
     "text": [
      "deque([[2.4459010232187355, 4.350853042225939, 0], [2.6463008801033774, 3.3711388505554214, 0], [2.8467007369880193, 2.391424658884904, 0], [3.047100593872661, 1.411710467214387, 0], [3.141125108917501, 2.0617903437594904, 0], [3.2842709240979175, 3.0514919531329086, 0], [3.4274167392783337, 4.041193562506327, 0], [3.5705625544587503, 5.030895171879745, 0], [3.713708369639167, 6.020596781253164, 0], [3.8568541848195834, 7.010298390626582, 0]])\n"
     ]
    },
    {
     "name": "stderr",
     "output_type": "stream",
     "text": [
      "C:\\Users\\lboloni\\anaconda3\\lib\\site-packages\\sklearn\\gaussian_process\\kernels.py:411: ConvergenceWarning: The optimal value found for dimension 0 of parameter k1__length_scale is close to the specified upper bound 10. Increasing the bound and calling fit again may find a better value.\n",
      "  warnings.warn(\"The optimal value found for \"\n",
      "C:\\Users\\lboloni\\anaconda3\\lib\\site-packages\\sklearn\\gaussian_process\\kernels.py:411: ConvergenceWarning: The optimal value found for dimension 1 of parameter k1__length_scale is close to the specified upper bound 10. Increasing the bound and calling fit again may find a better value.\n",
      "  warnings.warn(\"The optimal value found for \"\n",
      "C:\\Users\\lboloni\\anaconda3\\lib\\site-packages\\sklearn\\gaussian_process\\kernels.py:411: ConvergenceWarning: The optimal value found for dimension 0 of parameter k1__length_scale is close to the specified upper bound 10. Increasing the bound and calling fit again may find a better value.\n",
      "  warnings.warn(\"The optimal value found for \"\n",
      "C:\\Users\\lboloni\\anaconda3\\lib\\site-packages\\sklearn\\gaussian_process\\kernels.py:411: ConvergenceWarning: The optimal value found for dimension 1 of parameter k1__length_scale is close to the specified upper bound 10. Increasing the bound and calling fit again may find a better value.\n",
      "  warnings.warn(\"The optimal value found for \"\n",
      "C:\\Users\\lboloni\\anaconda3\\lib\\site-packages\\sklearn\\gaussian_process\\kernels.py:411: ConvergenceWarning: The optimal value found for dimension 0 of parameter k1__length_scale is close to the specified upper bound 10. Increasing the bound and calling fit again may find a better value.\n",
      "  warnings.warn(\"The optimal value found for \"\n",
      "C:\\Users\\lboloni\\anaconda3\\lib\\site-packages\\sklearn\\gaussian_process\\kernels.py:411: ConvergenceWarning: The optimal value found for dimension 1 of parameter k1__length_scale is close to the specified upper bound 10. Increasing the bound and calling fit again may find a better value.\n",
      "  warnings.warn(\"The optimal value found for \"\n"
     ]
    }
   ],
   "source": [
    "for i in range(10):\n",
    "    world.enact_policy(1)\n",
    "    world.proceed(1)\n",
    "print(robur.location_history)"
   ]
  },
  {
   "cell_type": "code",
   "execution_count": 7,
   "id": "d42e5cd3",
   "metadata": {},
   "outputs": [
    {
     "data": {
      "text/plain": [
       "[2.4459010232187355,\n",
       " 2.6463008801033774,\n",
       " 2.8467007369880193,\n",
       " 3.047100593872661,\n",
       " 3.141125108917501,\n",
       " 3.2842709240979175,\n",
       " 3.4274167392783337,\n",
       " 3.5705625544587503,\n",
       " 3.713708369639167,\n",
       " 3.8568541848195834]"
      ]
     },
     "execution_count": 7,
     "metadata": {},
     "output_type": "execute_result"
    }
   ],
   "source": [
    "[x[0] for x in robur.location_history]"
   ]
  },
  {
   "cell_type": "code",
   "execution_count": null,
   "id": "306206cb",
   "metadata": {},
   "outputs": [],
   "source": []
  }
 ],
 "metadata": {
  "kernelspec": {
   "display_name": "Python 3",
   "language": "python",
   "name": "python3"
  },
  "language_info": {
   "codemirror_mode": {
    "name": "ipython",
    "version": 3
   },
   "file_extension": ".py",
   "mimetype": "text/x-python",
   "name": "python",
   "nbconvert_exporter": "python",
   "pygments_lexer": "ipython3",
   "version": "3.8.10"
  }
 },
 "nbformat": 4,
 "nbformat_minor": 5
}
