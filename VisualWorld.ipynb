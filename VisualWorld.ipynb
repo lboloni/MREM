{
 "cells": [
  {
   "cell_type": "markdown",
   "id": "thick-banana",
   "metadata": {},
   "source": [
    "# Informative path planning \n",
    "\n",
    "* A visual interface for the various components of the interactive path planning\n",
    "* Using the ipywidgets framework"
   ]
  },
  {
   "cell_type": "code",
   "execution_count": 1,
   "id": "liquid-theology",
   "metadata": {},
   "outputs": [],
   "source": [
    "%matplotlib inline\n",
    "\n",
    "import LoggingSetup\n",
    "import logging\n",
    "\n",
    "import itertools\n",
    "import numpy as np\n",
    "import ast\n",
    "import math\n",
    "import random\n",
    "from functools import partial\n",
    "from io import BytesIO\n",
    "import pathlib\n",
    "\n",
    "import matplotlib.pyplot as plt\n",
    "from matplotlib.figure import Figure\n",
    "from matplotlib.patches import Circle, PathPatch, Arrow, FancyArrow\n",
    "from matplotlib.text import Annotation\n",
    "from matplotlib.path import Path\n",
    "from matplotlib.backends.backend_agg import FigureCanvasAgg\n",
    "\n",
    "\n",
    "import PIL.Image\n",
    "from ipywidgets import interact, Button, IntText, GridBox, Layout, VBox, HBox, Box, HTML, \\\n",
    "    Output, Label, FloatSlider, IntText, Image, Checkbox\n",
    "from IPython.display import display\n",
    "\n",
    "from World import World, WorldFactory\n",
    "\n",
    "# imports of the various objects of our model\n",
    "from Environment import Environment, PollutionModelEnvironment, EpidemicSpreadEnvironment\n",
    "from InformationModel import InformationModel, ScalarFieldInformationModel_stored_observation\n",
    "from Robot import Robot\n",
    "from Policy import GoToLocationPolicy, FollowPathPolicy, RandomWaypointPolicy, \\\n",
    "    AbstractWaypointPolicy, generate_lawnmower, InformationGreedyPolicy, generate_lawnmower\n",
    "\n"
   ]
  },
  {
   "cell_type": "markdown",
   "id": "delayed-hollywood",
   "metadata": {},
   "source": [
    "# User interface for world model, including controls for the robot"
   ]
  },
  {
   "cell_type": "code",
   "execution_count": 2,
   "id": "surprising-motor",
   "metadata": {},
   "outputs": [],
   "source": [
    "class VisualWorld:\n",
    "    def __init__(self, world):\n",
    "        self.world = world\n",
    "        self.config = {\"IMAGE_WIDTH\": 900, \"IMAGE_HEIGHT\": 900, \"ROBOT_SIZE\": 0.2, \n",
    "                       \"SHOW_ROBOT_PATH\" : 10, \"SHOW_ROBOT_HEADING\": True,\n",
    "                      \"ROBOT_COLOR\": [\"white\", \"yellow\", \"red\", \"blue\"],\n",
    "                      \"PATH\": \"screenshots\"}\n",
    "        self.path_screenshots = pathlib.Path(\"screenshots\")\n",
    "        self.path_screenshots.mkdir(exist_ok = True)\n",
    "        self.create_visualization()\n",
    "        self.update_visualization()\n",
    "        \n",
    "    @staticmethod\n",
    "    def image_to_byte(X):\n",
    "        \"\"\"Takes an image as an array X, and returns a png bytevalue\"\"\"\n",
    "        # a = np.uint8(X)\n",
    "        f = BytesIO()\n",
    "        img = PIL.Image.fromarray(X)\n",
    "        img.save(f, \"png\")\n",
    "        bytevalue = f.getvalue()\n",
    "        return bytevalue\n",
    "        \n",
    "    def create_robot_control_panel(self, robot):\n",
    "        \"\"\"Creates a panel that allows for the control and status visualization panel for a given robot.\"\"\"\n",
    "        # Label - the name of the robot\n",
    "        label = Label(value=robot.name)\n",
    "        # button box for the manual entering of a robot action\n",
    "        btn_north  = Button(description='North', layout=Layout(width='auto', grid_area='btn_north'))\n",
    "        btn_west = Button(description='West', layout=Layout(width='auto', grid_area='btn_west'))\n",
    "        btn_east = Button(description='East', layout=Layout(width='auto', grid_area='btn_east'))\n",
    "        btn_south  = Button(description='South', layout=Layout(width='auto', grid_area='btn_south'))\n",
    "        for button in [btn_north, btn_west, btn_east, btn_south]:\n",
    "            button.on_click(partial(self.on_button_clicked_robot, robot))\n",
    "\n",
    "        arrows = GridBox(children=[btn_north, btn_west, btn_east, btn_south], layout=Layout(\n",
    "                    width='100%',\n",
    "                    grid_area=robot.name, \n",
    "                    grid_template_rows='auto',\n",
    "                    grid_template_columns='auto',\n",
    "                    grid_template_areas='''\n",
    "                    \". btn_north btn_north .\"\n",
    "                    \"btn_west btn_west btn_east btn_east\"\n",
    "                    \". btn_south btn_south .\"\n",
    "                    '''\n",
    "                ))\n",
    "        status = HTML(value=robot.toHTML())\n",
    "        self.dict_robot_status[robot.name] = status\n",
    "        panel = VBox([label, arrows, status], layout=Layout(border=\"solid 2px\"))\n",
    "        return panel\n",
    "    \n",
    "    def create_visualization(self):\n",
    "        \"\"\"Creates a panel that allows for the control and status visualization for all robots and the \n",
    "        advance of the status of the world.\"\"\"\n",
    "        # The environment and the estimate panels\n",
    "        self.panel_environment = self.create_image_widget(self.config[\"IMAGE_WIDTH\"], self.config[\"IMAGE_HEIGHT\"])\n",
    "        self.panel_estimate = self.create_image_widget(self.config[\"IMAGE_WIDTH\"], self.config[\"IMAGE_HEIGHT\"])\n",
    "        self.panel_top = HBox([self.panel_environment, self.panel_estimate])\n",
    "        # The robot control panels\n",
    "        robot_panels = []\n",
    "        grid_template_areas=\"\"\n",
    "        self.dict_robot_status = {} # mapping name to status HTML widget\n",
    "        for robot in self.world.robots:\n",
    "            robot_panels.append(self.create_robot_control_panel(robot))\n",
    "        robot_control_panels = HBox(robot_panels)\n",
    "        \n",
    "        \n",
    "        # apply policy button\n",
    "        btn_apply_policy = Button(description = \"Apply policies\", layout = Layout(width='20%'))\n",
    "        btn_apply_policy.on_click(partial(self.on_button_clicked_apply_policy))\n",
    "        # apply actions button\n",
    "        btn_apply_actions = Button(description = \"Apply actions\", layout = Layout(width='20%'))\n",
    "        btn_apply_actions.on_click(partial(self.on_button_clicked_apply_actions))\n",
    "        btn_proceed_all = Button(description = \"Policy + Action\", layout = Layout(width='20%'))\n",
    "        btn_proceed_all.on_click(partial(self.on_button_clicked_proceed_all))        \n",
    "        self.widget_timestep = FloatSlider(value = 1.0, min = 0.1, max = 3.0, step = 0.1)\n",
    "        self.html_world_time = HTML(value=\"<b>T</b>=0\")\n",
    "        world_panel = HBox([btn_apply_policy, btn_apply_actions, btn_proceed_all, \n",
    "                            self.widget_timestep, self.html_world_time])\n",
    "        # world panel 2\n",
    "        btn_screenshot = Button(description = \"Screenshot\", layout = Layout(width='20%'))\n",
    "        btn_screenshot.on_click(partial(self.on_button_screenshot))        \n",
    "        btn_multistep = Button(description = \"Proceed multiple steps\", layout = Layout(width='20%'))\n",
    "        btn_multistep.on_click(partial(self.on_button_proceed_multiple_steps))        \n",
    "        self.inttext_multiple_steps = IntText(10, description = \"How many steps?\")\n",
    "        self.checkbox_update_each_step = Checkbox(value=True, description=\"Update each step?\")\n",
    "        world_panel_2 = HBox([btn_screenshot, btn_multistep, self.inttext_multiple_steps, \n",
    "                              self.checkbox_update_each_step])\n",
    "        \n",
    "        #btn_proceed.on_click(partial(self.on_button_clicked_proceed))\n",
    "        full_control_panel = VBox([self.panel_top, robot_control_panels, world_panel, world_panel_2])\n",
    "        display(full_control_panel)\n",
    "\n",
    "\n",
    "    def on_button_proceed_multiple_steps(self, b):\n",
    "        print(f\"TODO: proceed multiple steps {self.inttext_multiple_steps.value}\")\n",
    "        for i in range(self.inttext_multiple_steps.value):\n",
    "            self.world.enact_policy(self.widget_timestep.value)\n",
    "            self.world.proceed(self.widget_timestep.value)\n",
    "            # maybe a checkbox here?\n",
    "            if self.checkbox_update_each_step.value:\n",
    "                self.update_visualization()            \n",
    "        \n",
    "    def on_button_screenshot(self, b):\n",
    "        fig = self.update_image(self.panel_environment, self.update_environment)\n",
    "        file_env = pathlib.Path(self.path_screenshots, f'env-{self.world.time}.pdf')\n",
    "        fig.savefig(file_env, transparent=False, dpi=80, bbox_inches=\"tight\")\n",
    "        fig = self.update_image(self.panel_estimate, self.update_estimate)        \n",
    "        file_estimate = pathlib.Path(self.path_screenshots, f'estimate-{self.world.time}.pdf')\n",
    "        fig.savefig(file_estimate, transparent=False, dpi=80, bbox_inches=\"tight\")\n",
    "        print(\"Screenshot done\")\n",
    "        \n",
    "    def on_button_clicked_robot(self, robot, b):\n",
    "        print(f\"on_button_clicked_robot {robot.name} button {b}\")\n",
    "        robot.add_action(b.description)\n",
    "        self.update_visualization()\n",
    "        \n",
    "    def on_button_clicked_proceed_all(self, b):\n",
    "        \"\"\"Action for the button Policy+Action\"\"\"\n",
    "        self.world.enact_policy(self.widget_timestep.value)\n",
    "        self.world.proceed(self.widget_timestep.value)\n",
    "        self.update_visualization()\n",
    "\n",
    "    def on_button_clicked_apply_policy(self, b):\n",
    "        \"\"\"Action for the button Apply policy\"\"\"\n",
    "        self.world.enact_policy(self.widget_timestep.value)\n",
    "        self.update_visualization()\n",
    "\n",
    "    def on_button_clicked_apply_actions(self, b):\n",
    "        \"\"\"Action for the button Apply actions\"\"\"\n",
    "        self.world.proceed(self.widget_timestep.value)\n",
    "        self.update_visualization()\n",
    "\n",
    "        \n",
    "    def update_visualization(self):\n",
    "        # update the status in the robot panels\n",
    "        self.html_world_time.value = f\"<b>T</b>={self.world.time}\" \n",
    "        for r in self.world.robots:\n",
    "            status = self.dict_robot_status[r.name]\n",
    "            status.value = r.toHTML()\n",
    "        # update the images\n",
    "        self.update_image(self.panel_environment, self.update_environment)\n",
    "        self.update_image(self.panel_estimate, self.update_estimate)\n",
    "        \n",
    "    def update_image(self, im, update_function):\n",
    "        \"\"\"Update the estimate\"\"\"\n",
    "        fig = Figure()\n",
    "        canvas = FigureCanvasAgg(fig)\n",
    "        ax = fig.add_subplot(111)\n",
    "        update_function(self, ax)\n",
    "        self.update_image_from_figure(fig, im)\n",
    "        return fig\n",
    "        \n",
    "    @staticmethod\n",
    "    def update_estimate(self, ax):\n",
    "        \"\"\"An update function, to be called from update_image\"\"\"\n",
    "        ax.imshow(self.world.im.value)\n",
    "        \n",
    "    @staticmethod\n",
    "    def update_environment(self, ax):\n",
    "        \"\"\"An update function, to be called from update_image\"\"\"\n",
    "        ax.imshow(self.world.env.value)\n",
    "        for i, robot in enumerate(self.world.robots):\n",
    "            robot_color = self.config[\"ROBOT_COLOR\"][i % len(self.config[\"ROBOT_COLOR\"])]\n",
    "            robot_size = self.config[\"ROBOT_SIZE\"]\n",
    "            patch = Circle((robot.x, robot.y), robot_size, color=robot_color, linewidth=2, fill=False)\n",
    "            ax.add_patch(patch)\n",
    "            patch = Annotation(robot.name, (robot.x + robot_size,robot.y - robot_size))\n",
    "            ax.add_artist(patch)\n",
    "            if self.config[\"SHOW_ROBOT_PATH\"] > 0:                \n",
    "                vertices = [[val[0], val[1]] for val in robot.location_history]\n",
    "                # cut the lenght of the path\n",
    "                length = 0\n",
    "                current = [robot.x, robot.y]\n",
    "                for i, vertex in enumerate(vertices):\n",
    "                    length += abs(current[0] - vertex[0]) + abs(current[1] - vertex[1])\n",
    "                    current = vertex\n",
    "                    if (length > self.config[\"SHOW_ROBOT_PATH\"]):\n",
    "                        vertices = vertices[0:i]\n",
    "                        break\n",
    "                if len(vertices) > 0:\n",
    "                    codes = Path.LINETO * np.ones(len(vertices), dtype=Path.code_type)\n",
    "                    codes[0] = Path.MOVETO\n",
    "                    path = Path(vertices, codes)\n",
    "                    patch = PathPatch(path, facecolor=None, edgecolor=robot_color, fill=False, alpha=0.3)\n",
    "                    ax.add_patch(patch)\n",
    "            if self.config[\"SHOW_ROBOT_HEADING\"]:\n",
    "                x = robot.x\n",
    "                y = robot.y\n",
    "                dx = robot.vel_x\n",
    "                dy = robot.vel_y\n",
    "                patch = FancyArrow(x,y,dx,dy, width=0.1, head_width=0.3, overhang=0.8, color=robot_color)\n",
    "                ax.add_patch(patch)\n",
    "                \n",
    "    def create_env_robot_visualization(self):\n",
    "        \"\"\"Two figures, side by side\"\"\"\n",
    "        self.panel_environment = self.create_image_widget()\n",
    "        self.panel_estimate = self.create_image_widget()\n",
    "        self.panel_top = HBox([self.panel_environment, self.panel_estimate])\n",
    "              \n",
    "    def create_image_widget(self, width = 400, height=400):\n",
    "        \"\"\"Creates an empty image widget from a canvas\"\"\"\n",
    "        fig = Figure()\n",
    "        canvas = FigureCanvasAgg(fig)\n",
    "        ax = fig.add_subplot(111)\n",
    "        ax.imshow(np.ones([4,4]))\n",
    "        fig.canvas.draw()\n",
    "        buf = fig.canvas.buffer_rgba()\n",
    "        emptyim = np.asarray(buf)\n",
    "        value = self.image_to_byte(emptyim)\n",
    "        im = Image(value=value, format=\"png\", width = width, height=height)\n",
    "        return im\n",
    "    \n",
    "    @staticmethod\n",
    "    def update_image_from_figure(fig, im):\n",
    "        \"\"\"Updates an image from a figure\"\"\"\n",
    "        fig.canvas.draw()\n",
    "        buf = fig.canvas.buffer_rgba()\n",
    "        imagecontent = np.asarray(buf)\n",
    "        value = VisualWorld.image_to_byte(imagecontent)\n",
    "        im.value = value\n"
   ]
  },
  {
   "cell_type": "markdown",
   "id": "representative-guarantee",
   "metadata": {},
   "source": [
    "# Example for interactive visualization"
   ]
  },
  {
   "cell_type": "code",
   "execution_count": 3,
   "id": "turkish-skating",
   "metadata": {},
   "outputs": [
    {
     "data": {
      "application/vnd.jupyter.widget-view+json": {
       "model_id": "4e4650f3f2c44fc4b04cfc04c420484d",
       "version_major": 2,
       "version_minor": 0
      },
      "text/plain": [
       "VBox(children=(HBox(children=(Image(value=b'\\x89PNG\\r\\n\\x1a\\n\\x00\\x00\\x00\\rIHDR\\x00\\x00\\x01\\xb0\\x00\\x00\\x01 \\x…"
      ]
     },
     "metadata": {},
     "output_type": "display_data"
    }
   ],
   "source": [
    "world = WorldFactory.generate_world_pretrained_static_pollution()\n",
    "robot = Robot(\"Robi\", 2, 3, 0, env=world.env, im=world.im)\n",
    "# path = generate_lawnmower(0, 10, 0, 10, 5)\n",
    "# robot.policy = FollowPathPolicy(None, robot, 1, path, repeat = True)\n",
    "# robot.policy = GoToLocationPolicy(None, robot, 9, 9, 0.2)\n",
    "# robot.policy = \n",
    "world.add_robot(robot)\n",
    "robot = Robot(\"Robur\", 4, 8, 0, env=world.env, im=world.im)\n",
    "#robot.policy = RandomWaypointPolicy(None, robot, 1, [0,0], [9, 9], seed=1)\n",
    "world.add_robot(robot)\n",
    "\n",
    "#robot = Robot(\"R2D3\", 5, 9, 0, env=env, im=im)\n",
    "#robot.policy = FollowPathPolicy(None, robot, 1, [[0,0], [5, 5], [9,0]], repeat = True)\n",
    "#world.add_robot(robot)\n",
    "visual_world = VisualWorld(world)"
   ]
  },
  {
   "cell_type": "markdown",
   "id": "crazy-stuart",
   "metadata": {
    "scrolled": false
   },
   "source": [
    "# Study: static environment, different path planning algorithms\n",
    "This will go in its own file, but for the time being I am developing it here because it is useful to improve the visual world."
   ]
  },
  {
   "cell_type": "code",
   "execution_count": 4,
   "id": "automated-contamination",
   "metadata": {},
   "outputs": [],
   "source": [
    "\n"
   ]
  },
  {
   "cell_type": "code",
   "execution_count": 13,
   "id": "restricted-letter",
   "metadata": {},
   "outputs": [
    {
     "data": {
      "application/vnd.jupyter.widget-view+json": {
       "model_id": "8c27274bb5ff423884e07c50dd1c7aae",
       "version_major": 2,
       "version_minor": 0
      },
      "text/plain": [
       "VBox(children=(HBox(children=(Image(value=b'\\x89PNG\\r\\n\\x1a\\n\\x00\\x00\\x00\\rIHDR\\x00\\x00\\x01\\xb0\\x00\\x00\\x01 \\x…"
      ]
     },
     "metadata": {},
     "output_type": "display_data"
    },
    {
     "data": {
      "application/vnd.jupyter.widget-view+json": {
       "model_id": "f3cfe1d83af74953986602aa1ad93644",
       "version_major": 2,
       "version_minor": 0
      },
      "text/plain": [
       "VBox(children=(HBox(children=(Image(value=b'\\x89PNG\\r\\n\\x1a\\n\\x00\\x00\\x00\\rIHDR\\x00\\x00\\x01\\xb0\\x00\\x00\\x01 \\x…"
      ]
     },
     "metadata": {},
     "output_type": "display_data"
    }
   ],
   "source": []
  },
  {
   "cell_type": "code",
   "execution_count": 12,
   "id": "alpha-subject",
   "metadata": {},
   "outputs": [
    {
     "data": {
      "text/plain": [
       "<matplotlib.legend.Legend at 0x7f50ba98d910>"
      ]
     },
     "execution_count": 12,
     "metadata": {},
     "output_type": "execute_result"
    },
    {
     "data": {
      "image/png": "[encoded data removed]",
      "text/plain": [
       "<Figure size 432x288 with 1 Axes>"
      ]
     },
     "metadata": {
      "needs_background": "light"
     },
     "output_type": "display_data"
    }
   ],
   "source": []
  },
  {
   "cell_type": "code",
   "execution_count": null,
   "id": "civilian-criticism",
   "metadata": {},
   "outputs": [],
   "source": [
    "for name in results:\n",
    "    print(name)"
   ]
  },
  {
   "cell_type": "code",
   "execution_count": null,
   "id": "bizarre-concert",
   "metadata": {},
   "outputs": [],
   "source": []
  }
 ],
 "metadata": {
  "kernelspec": {
   "display_name": "Python 3",
   "language": "python",
   "name": "python3"
  },
  "language_info": {
   "codemirror_mode": {
    "name": "ipython",
    "version": 3
   },
   "file_extension": ".py",
   "mimetype": "text/x-python",
   "name": "python",
   "nbconvert_exporter": "python",
   "pygments_lexer": "ipython3",
   "version": "3.8.10"
  }
 },
 "nbformat": 4,
 "nbformat_minor": 5
}
